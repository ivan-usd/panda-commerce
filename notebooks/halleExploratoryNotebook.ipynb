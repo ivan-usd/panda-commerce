{
 "cells": [
  {
   "cell_type": "markdown",
   "metadata": {},
   "source": [
    "# Team 7 Final Project"
   ]
  },
  {
   "cell_type": "markdown",
   "metadata": {},
   "source": [
    "Data Importing and Pre-processing ---- DONE ----\n",
    "- Import dataset and describe characteristics such as dimensions, data types, file types, and import methods used\n",
    "---- DONE\n",
    "- Clean, wrangle, and handle missing data\n",
    "---- DONE\n",
    "- Transform data appropriately using techniques such as aggregation, normalization, and feature construction\n",
    "---- NOT NECESSARY?\n",
    "- Reduce redundant data and perform need based discretization\n",
    "---- DONE\n",
    "\n",
    "Data Analysis and Visualization ---- IN PROGRESS ----\n",
    "- Identify categorical, ordinal, and numerical variables within data\n",
    "---- DONE\n",
    "- Provide measures of centrality and distribution with visualizations\n",
    "---- DONE\n",
    "- Diagnose for correlations between variables and determine independent and dependent variables\n",
    "---- DONE\n",
    "- Perform exploratory analysis in combination with visualization techniques to discover patterns and features of interest\n",
    "---- IN PROGRESS\n",
    "\n",
    "Data Analytics\n",
    "- Determine the need for a supervised or unsupervised learning method and identify dependent and independent variables\n",
    "---- PENDING\n",
    "- Train, test, and provide accuracy and evaluation metrics for model results\n",
    "---- PENDING\n",
    "\n",
    "Presentation\n",
    "- In a 5 to 10 minutes video, briefly explain the project workflow from the code and results in your markdown notebook\n",
    "- State your findings from the data and provide the interpretation of results from your analysis at each stage in the project"
   ]
  },
  {
   "cell_type": "markdown",
   "metadata": {},
   "source": [
    "Saving log normailizing example for reference\n",
    "eCommerceDF['logarithm_base2'] = np.log2(eCommerceDF['ProductRelated'])\n",
    "eCommerceDF['logarithm_base2'].hist()"
   ]
  },
  {
   "cell_type": "markdown",
   "metadata": {},
   "source": [
    "## Data Importing and Pre-Processing"
   ]
  },
  {
   "cell_type": "markdown",
   "metadata": {},
   "source": [
    "### Importing Libraries"
   ]
  },
  {
   "cell_type": "code",
   "execution_count": 1,
   "metadata": {},
   "outputs": [],
   "source": [
    "import numpy as np\n",
    "import pandas as pd\n",
    "import matplotlib as mpl\n",
    "import matplotlib.pyplot as plt\n",
    "import seaborn as sns\n",
    "from sklearn.datasets import load_iris\n",
    "from scipy.stats import mode\n",
    "from sklearn.linear_model import LogisticRegression"
   ]
  },
  {
   "cell_type": "markdown",
   "metadata": {},
   "source": [
    "### Importing CSV Dataset from E-Commerce"
   ]
  },
  {
   "cell_type": "code",
   "execution_count": 2,
   "metadata": {},
   "outputs": [],
   "source": [
    "datasetFP = '../data/Dataset 3 (Online Shoppers Intention)/online_shoppers_intention.csv'\n",
    "eCommerceDF = pd.read_csv(datasetFP) "
   ]
  },
  {
   "cell_type": "markdown",
   "metadata": {},
   "source": [
    "### Describing Data Shape"
   ]
  },
  {
   "cell_type": "code",
   "execution_count": 3,
   "metadata": {},
   "outputs": [
    {
     "data": {
      "text/plain": [
       "(12330, 18)"
      ]
     },
     "execution_count": 3,
     "metadata": {},
     "output_type": "execute_result"
    }
   ],
   "source": [
    "eCommerceDF.shape"
   ]
  },
  {
   "cell_type": "markdown",
   "metadata": {},
   "source": [
    "### Remove Duplicates"
   ]
  },
  {
   "cell_type": "code",
   "execution_count": 4,
   "metadata": {},
   "outputs": [],
   "source": [
    "eCommerceDF = eCommerceDF.drop_duplicates()"
   ]
  },
  {
   "cell_type": "code",
   "execution_count": 5,
   "metadata": {},
   "outputs": [
    {
     "data": {
      "text/plain": [
       "(12209, 18)"
      ]
     },
     "execution_count": 5,
     "metadata": {},
     "output_type": "execute_result"
    }
   ],
   "source": [
    "eCommerceDF.shape #Re-running dimensions after removing duplicates"
   ]
  },
  {
   "cell_type": "markdown",
   "metadata": {},
   "source": [
    "### Remove Nulls"
   ]
  },
  {
   "cell_type": "code",
   "execution_count": 6,
   "metadata": {},
   "outputs": [
    {
     "data": {
      "text/plain": [
       "Administrative               0\n",
       "Administrative_Duration      0\n",
       "Informational              128\n",
       "Informational_Duration       0\n",
       "ProductRelated               0\n",
       "ProductRelated_Duration      0\n",
       "BounceRates                  0\n",
       "ExitRates                    0\n",
       "PageValues                 135\n",
       "SpecialDay                   0\n",
       "Month                        0\n",
       "OperatingSystems           123\n",
       "Browser                      0\n",
       "Region                       0\n",
       "TrafficType                  0\n",
       "VisitorType                  0\n",
       "Weekend                      0\n",
       "Revenue                      0\n",
       "dtype: int64"
      ]
     },
     "execution_count": 6,
     "metadata": {},
     "output_type": "execute_result"
    }
   ],
   "source": [
    "eCommerceDF.isnull().sum() #Check number of nulls"
   ]
  },
  {
   "cell_type": "code",
   "execution_count": 7,
   "metadata": {},
   "outputs": [
    {
     "name": "stdout",
     "output_type": "stream",
     "text": [
      "Administrative             0.000000\n",
      "Administrative_Duration    0.000000\n",
      "Informational              0.010595\n",
      "Informational_Duration     0.000000\n",
      "ProductRelated             0.000000\n",
      "ProductRelated_Duration    0.000000\n",
      "BounceRates                0.000000\n",
      "ExitRates                  0.000000\n",
      "PageValues                 0.011181\n",
      "SpecialDay                 0.000000\n",
      "Month                      0.000000\n",
      "OperatingSystems           0.010177\n",
      "Browser                    0.000000\n",
      "Region                     0.000000\n",
      "TrafficType                0.000000\n",
      "VisitorType                0.000000\n",
      "Weekend                    0.000000\n",
      "Revenue                    0.000000\n",
      "dtype: float64\n"
     ]
    }
   ],
   "source": [
    "print(eCommerceDF.isnull().sum()/eCommerceDF.count()) #All blanks make up less than 1% of the data if need to drop"
   ]
  },
  {
   "cell_type": "markdown",
   "metadata": {},
   "source": [
    "#### Fill Null PageValues based on Revenue: If Page Values all = 0, then Revenue = FALSE"
   ]
  },
  {
   "cell_type": "code",
   "execution_count": 8,
   "metadata": {},
   "outputs": [],
   "source": [
    "eCommerceDF.loc[eCommerceDF['PageValues'].isnull()&eCommerceDF['Revenue'].notnull()&eCommerceDF['Revenue'].eq(False),'PageValues'] = 0"
   ]
  },
  {
   "cell_type": "markdown",
   "metadata": {},
   "source": [
    "#### Fill Null PageValues based on Revenue: If Page Values != 0, then Revenue = TRUE"
   ]
  },
  {
   "cell_type": "code",
   "execution_count": 9,
   "metadata": {},
   "outputs": [],
   "source": [
    "eCommerceDF.loc[eCommerceDF['PageValues']!=0&eCommerceDF['Revenue'].eq(False),'Revenue'] = True"
   ]
  },
  {
   "cell_type": "markdown",
   "metadata": {},
   "source": [
    "#### Fill Null Informational based on Informational_Duration: If Informational_Duration = 1, then Informational = 0"
   ]
  },
  {
   "cell_type": "code",
   "execution_count": 10,
   "metadata": {},
   "outputs": [],
   "source": [
    "eCommerceDF.loc[eCommerceDF['Informational'].isnull()&eCommerceDF['Informational_Duration'].notnull()&eCommerceDF['Informational_Duration'].eq(0),'Informational'] = 0"
   ]
  },
  {
   "cell_type": "markdown",
   "metadata": {},
   "source": [
    "#### Remove Null Informational where Duration > 0"
   ]
  },
  {
   "cell_type": "code",
   "execution_count": 11,
   "metadata": {},
   "outputs": [],
   "source": [
    "eCommerceDF = eCommerceDF.dropna()"
   ]
  },
  {
   "cell_type": "markdown",
   "metadata": {},
   "source": [
    "#### Checking Shape and Null Count"
   ]
  },
  {
   "cell_type": "code",
   "execution_count": 12,
   "metadata": {},
   "outputs": [
    {
     "data": {
      "text/plain": [
       "(12043, 18)"
      ]
     },
     "execution_count": 12,
     "metadata": {},
     "output_type": "execute_result"
    }
   ],
   "source": [
    "eCommerceDF.shape"
   ]
  },
  {
   "cell_type": "code",
   "execution_count": 13,
   "metadata": {},
   "outputs": [
    {
     "data": {
      "text/plain": [
       "Administrative             0\n",
       "Administrative_Duration    0\n",
       "Informational              0\n",
       "Informational_Duration     0\n",
       "ProductRelated             0\n",
       "ProductRelated_Duration    0\n",
       "BounceRates                0\n",
       "ExitRates                  0\n",
       "PageValues                 0\n",
       "SpecialDay                 0\n",
       "Month                      0\n",
       "OperatingSystems           0\n",
       "Browser                    0\n",
       "Region                     0\n",
       "TrafficType                0\n",
       "VisitorType                0\n",
       "Weekend                    0\n",
       "Revenue                    0\n",
       "dtype: int64"
      ]
     },
     "execution_count": 13,
     "metadata": {},
     "output_type": "execute_result"
    }
   ],
   "source": [
    "eCommerceDF.isnull().sum()"
   ]
  },
  {
   "cell_type": "markdown",
   "metadata": {},
   "source": [
    "### Reduce Redundant Data\n",
    "#### Drop all columns were discretized and do not have a key"
   ]
  },
  {
   "cell_type": "code",
   "execution_count": 14,
   "metadata": {},
   "outputs": [],
   "source": [
    "eCommerceDF = eCommerceDF.drop(columns=['Browser','Region','TrafficType', 'OperatingSystems'])"
   ]
  },
  {
   "cell_type": "code",
   "execution_count": 15,
   "metadata": {},
   "outputs": [
    {
     "data": {
      "text/plain": [
       "Index(['Administrative', 'Administrative_Duration', 'Informational',\n",
       "       'Informational_Duration', 'ProductRelated', 'ProductRelated_Duration',\n",
       "       'BounceRates', 'ExitRates', 'PageValues', 'SpecialDay', 'Month',\n",
       "       'VisitorType', 'Weekend', 'Revenue'],\n",
       "      dtype='object')"
      ]
     },
     "execution_count": 15,
     "metadata": {},
     "output_type": "execute_result"
    }
   ],
   "source": [
    "eCommerceDF.columns"
   ]
  },
  {
   "cell_type": "code",
   "execution_count": 16,
   "metadata": {},
   "outputs": [
    {
     "data": {
      "text/plain": [
       "12043"
      ]
     },
     "execution_count": 16,
     "metadata": {},
     "output_type": "execute_result"
    }
   ],
   "source": [
    "eCommerceDF.shape[0]"
   ]
  },
  {
   "cell_type": "markdown",
   "metadata": {},
   "source": [
    "### Update Data Types"
   ]
  },
  {
   "cell_type": "code",
   "execution_count": 17,
   "metadata": {},
   "outputs": [
    {
     "data": {
      "text/plain": [
       "Administrative               int64\n",
       "Administrative_Duration    float64\n",
       "Informational              float64\n",
       "Informational_Duration     float64\n",
       "ProductRelated               int64\n",
       "ProductRelated_Duration    float64\n",
       "BounceRates                float64\n",
       "ExitRates                  float64\n",
       "PageValues                 float64\n",
       "SpecialDay                 float64\n",
       "Month                       object\n",
       "VisitorType                 object\n",
       "Weekend                       bool\n",
       "Revenue                       bool\n",
       "dtype: object"
      ]
     },
     "execution_count": 17,
     "metadata": {},
     "output_type": "execute_result"
    }
   ],
   "source": [
    "eCommerceDF.dtypes"
   ]
  },
  {
   "cell_type": "markdown",
   "metadata": {},
   "source": [
    "#### Updating Data Type for Informational to int "
   ]
  },
  {
   "cell_type": "code",
   "execution_count": 18,
   "metadata": {},
   "outputs": [],
   "source": [
    "eCommerceDF['Informational'] = eCommerceDF['Informational'].astype('int64')"
   ]
  },
  {
   "cell_type": "markdown",
   "metadata": {},
   "source": [
    "### Discretize/Recategorize Data"
   ]
  },
  {
   "cell_type": "markdown",
   "metadata": {},
   "source": [
    "#### Making Visitor Type Numerical"
   ]
  },
  {
   "cell_type": "code",
   "execution_count": 19,
   "metadata": {},
   "outputs": [],
   "source": [
    "newvisitor = {'New_Visitor': 1, 'Returning_Visitor': 0,\n",
    "           'Other': 0}\n",
    " \n",
    "eCommerceDF['NewVisitor'] = eCommerceDF['VisitorType'].map(newvisitor)"
   ]
  },
  {
   "cell_type": "code",
   "execution_count": 20,
   "metadata": {},
   "outputs": [],
   "source": [
    "returningvisitor = {'New_Visitor': 0, 'Returning_Visitor': 1,\n",
    "           'Other': 0}\n",
    " \n",
    "eCommerceDF['ReturnVisitor'] = eCommerceDF['VisitorType'].map(returningvisitor)"
   ]
  },
  {
   "cell_type": "markdown",
   "metadata": {},
   "source": [
    "#### Making Month Numerical"
   ]
  },
  {
   "cell_type": "code",
   "execution_count": 21,
   "metadata": {},
   "outputs": [],
   "source": [
    "monthnum = {'Jan': 1, 'Feb': 2, 'Mar': 3, 'Apr': 4, 'May': 5, 'June': 6, 'Jul': 7, 'Aug': 8, 'Sep': 9, 'Oct': 10, 'Nov': 11, 'Dec': 12}\n",
    " \n",
    "eCommerceDF['MonthNum'] = eCommerceDF['Month'].map(monthnum)"
   ]
  },
  {
   "cell_type": "markdown",
   "metadata": {},
   "source": [
    "#### Making Page Visits Boolean"
   ]
  },
  {
   "cell_type": "code",
   "execution_count": 22,
   "metadata": {},
   "outputs": [],
   "source": [
    "eCommerceDF[\"AdministrativeYN\"]=np.where(eCommerceDF[\"Administrative\"]>0,1,0)"
   ]
  },
  {
   "cell_type": "code",
   "execution_count": 23,
   "metadata": {},
   "outputs": [],
   "source": [
    "eCommerceDF[\"InformationalYN\"]=np.where(eCommerceDF[\"Informational\"]>0,1,0)"
   ]
  },
  {
   "cell_type": "code",
   "execution_count": 24,
   "metadata": {},
   "outputs": [],
   "source": [
    "eCommerceDF[\"ProductRelatedYN\"]=np.where(eCommerceDF[\"ProductRelated\"]>0,1,0)"
   ]
  },
  {
   "cell_type": "markdown",
   "metadata": {},
   "source": [
    "#### Making Page Duration Discrete"
   ]
  },
  {
   "cell_type": "code",
   "execution_count": 25,
   "metadata": {},
   "outputs": [],
   "source": [
    "eCommerceDF[\"Administrative_Duration_Cat\"]=np.where(eCommerceDF[\"Administrative_Duration\"]>184,\"Long Visit\",\"Short/No Visit\")"
   ]
  },
  {
   "cell_type": "code",
   "execution_count": 26,
   "metadata": {},
   "outputs": [],
   "source": [
    "eCommerceDF[\"Informational_Duration_Cat\"]=np.where(eCommerceDF[\"Informational_Duration\"]>190,\"Long Visit\",\"Short/No Visit\")"
   ]
  },
  {
   "cell_type": "code",
   "execution_count": 27,
   "metadata": {},
   "outputs": [],
   "source": [
    "eCommerceDF[\"ProductRelated_Duration_Cat\"]=np.where(eCommerceDF[\"ProductRelated_Duration\"]>184,\"Long Visit\",\"Short/No Visit\")"
   ]
  },
  {
   "cell_type": "markdown",
   "metadata": {},
   "source": [
    "#### Making Bounce Rates Boolean"
   ]
  },
  {
   "cell_type": "code",
   "execution_count": 98,
   "metadata": {},
   "outputs": [],
   "source": [
    "eCommerceDF[\"BounceYN\"]=np.where(eCommerceDF[\"BounceRates\"]>0,1,0)"
   ]
  },
  {
   "cell_type": "markdown",
   "metadata": {},
   "source": [
    "#### Making Exit Rate Discrete"
   ]
  },
  {
   "cell_type": "code",
   "execution_count": 106,
   "metadata": {},
   "outputs": [],
   "source": [
    "eCommerceDF[\"ExitLevel\"]=np.where(eCommerceDF[\"ExitRates\"]>.10,\"High Rate\",\"Low Rate\")"
   ]
  },
  {
   "cell_type": "markdown",
   "metadata": {},
   "source": [
    "## Data Analysis and Visualization"
   ]
  },
  {
   "cell_type": "code",
   "execution_count": 28,
   "metadata": {},
   "outputs": [
    {
     "data": {
      "text/plain": [
       "Index(['Administrative', 'Administrative_Duration', 'Informational',\n",
       "       'Informational_Duration', 'ProductRelated', 'ProductRelated_Duration',\n",
       "       'BounceRates', 'ExitRates', 'PageValues', 'SpecialDay', 'Month',\n",
       "       'VisitorType', 'Weekend', 'Revenue', 'NewVisitor', 'ReturnVisitor',\n",
       "       'MonthNum', 'AdministrativeYN', 'InformationalYN', 'ProductRelatedYN',\n",
       "       'Administrative_Duration_Cat', 'Informational_Duration_Cat',\n",
       "       'ProductRelated_Duration_Cat'],\n",
       "      dtype='object')"
      ]
     },
     "execution_count": 28,
     "metadata": {},
     "output_type": "execute_result"
    }
   ],
   "source": [
    "eCommerceDF.columns"
   ]
  },
  {
   "cell_type": "markdown",
   "metadata": {},
   "source": [
    "### Identify Variable Types"
   ]
  },
  {
   "cell_type": "code",
   "execution_count": 29,
   "metadata": {},
   "outputs": [
    {
     "data": {
      "text/plain": [
       "Administrative                   int64\n",
       "Administrative_Duration        float64\n",
       "Informational                    int64\n",
       "Informational_Duration         float64\n",
       "ProductRelated                   int64\n",
       "ProductRelated_Duration        float64\n",
       "BounceRates                    float64\n",
       "ExitRates                      float64\n",
       "PageValues                     float64\n",
       "SpecialDay                     float64\n",
       "Month                           object\n",
       "VisitorType                     object\n",
       "Weekend                           bool\n",
       "Revenue                           bool\n",
       "NewVisitor                       int64\n",
       "ReturnVisitor                    int64\n",
       "MonthNum                         int64\n",
       "AdministrativeYN                 int64\n",
       "InformationalYN                  int64\n",
       "ProductRelatedYN                 int64\n",
       "Administrative_Duration_Cat     object\n",
       "Informational_Duration_Cat      object\n",
       "ProductRelated_Duration_Cat     object\n",
       "dtype: object"
      ]
     },
     "execution_count": 29,
     "metadata": {},
     "output_type": "execute_result"
    }
   ],
   "source": [
    "eCommerceDF.dtypes"
   ]
  },
  {
   "cell_type": "markdown",
   "metadata": {},
   "source": [
    "The number of pages someone visited of the various types are integer numbers - this makes sense because you can't visit 1.5 pages, you can only visit a whole number's worth of pages.\n",
    "\n",
    "The various duration measures are float/decimal numbers.\n",
    "\n",
    "Bounce Rates and Exit Rates are floats/decimal numbers.\n",
    "\n",
    "Revenue is boolean- true/false - as to whether the person made a sale.\n",
    "\n",
    "Month and Visitor Type are categorical variables, but we made a corresponding numerical column."
   ]
  },
  {
   "cell_type": "markdown",
   "metadata": {},
   "source": [
    "### Provide Measure of Centrality and Distribution with Visualizations"
   ]
  },
  {
   "cell_type": "markdown",
   "metadata": {},
   "source": [
    "#### Administrative"
   ]
  },
  {
   "cell_type": "code",
   "execution_count": 30,
   "metadata": {},
   "outputs": [
    {
     "name": "stdout",
     "output_type": "stream",
     "text": [
      "Mean\n",
      "2.323590467491489\n",
      "Median\n",
      "1.0\n",
      "Mode\n",
      "0\n",
      "Standard Deviation\n",
      "3.3158981984769365\n"
     ]
    }
   ],
   "source": [
    "print(\"Mean\")\n",
    "print(eCommerceDF['Administrative'].mean())\n",
    "print(\"Median\")\n",
    "print(eCommerceDF['Administrative'].median())\n",
    "print(\"Mode\")\n",
    "print(mode(eCommerceDF['Administrative']).mode[0])\n",
    "print(\"Standard Deviation\")\n",
    "print(eCommerceDF['Administrative'].std())"
   ]
  },
  {
   "cell_type": "code",
   "execution_count": 31,
   "metadata": {},
   "outputs": [
    {
     "data": {
      "image/png": "[encoded data removed]",
      "text/plain": [
       "<Figure size 432x288 with 1 Axes>"
      ]
     },
     "metadata": {
      "needs_background": "light"
     },
     "output_type": "display_data"
    }
   ],
   "source": [
    "plt.hist(eCommerceDF['Administrative'], color = 'c')\n",
    "plt.axvline(eCommerceDF['Administrative'].mean(), color='k', linestyle='dashed', linewidth=1)\n",
    "plt.show() "
   ]
  },
  {
   "cell_type": "markdown",
   "metadata": {},
   "source": [
    "#### Administrative Duration"
   ]
  },
  {
   "cell_type": "code",
   "execution_count": 32,
   "metadata": {},
   "outputs": [
    {
     "name": "stdout",
     "output_type": "stream",
     "text": [
      "Mean\n",
      "81.29879512057073\n",
      "Median\n",
      "9.0\n",
      "Mode\n",
      "0.0\n",
      "Standard Deviation\n",
      "176.4228603533695\n"
     ]
    }
   ],
   "source": [
    "print(\"Mean\")\n",
    "print(eCommerceDF['Administrative_Duration'].mean())\n",
    "print(\"Median\")\n",
    "print(eCommerceDF['Administrative_Duration'].median())\n",
    "print(\"Mode\")\n",
    "print(mode(eCommerceDF['Administrative_Duration']).mode[0])\n",
    "print(\"Standard Deviation\")\n",
    "print(eCommerceDF['Administrative_Duration'].std())"
   ]
  },
  {
   "cell_type": "code",
   "execution_count": 33,
   "metadata": {},
   "outputs": [
    {
     "name": "stdout",
     "output_type": "stream",
     "text": [
      "                  #ofAdminVisitors  Administrative_Duration\n",
      "AdministrativeYN                                           \n",
      "0                             5593                 0.000000\n",
      "1                             6450               184.836437\n"
     ]
    }
   ],
   "source": [
    "#Gets actual average amount of time spent on page for those who visited the page\n",
    "\n",
    "#Create Dataframe of Counts of People who Went to an Administrative Page\n",
    "administrationyndf = eCommerceDF.groupby(['AdministrativeYN']).count()\n",
    "administrationyndf = pd.DataFrame(administrationyndf['Revenue'])\n",
    "\n",
    "#Create Dataframe of Average Admin Page Duration\n",
    "admintimedf = eCommerceDF[eCommerceDF['Revenue']==1]\n",
    "admintimedf = admintimedf.groupby(['AdministrativeYN']).mean()\n",
    "admintimedf = pd.DataFrame(admintimedf['Administrative_Duration'])\n",
    "\n",
    "#Merge Data Frames\n",
    "mergeddf = pd.merge(administrationyndf,admintimedf, on='AdministrativeYN')\n",
    "mergeddf = mergeddf.rename(columns={\"Revenue\": \"#ofAdminVisitors\"})\n",
    "print(mergeddf)"
   ]
  },
  {
   "cell_type": "code",
   "execution_count": 34,
   "metadata": {},
   "outputs": [
    {
     "data": {
      "image/png": "[encoded data removed]",
      "text/plain": [
       "<Figure size 432x288 with 1 Axes>"
      ]
     },
     "metadata": {
      "needs_background": "light"
     },
     "output_type": "display_data"
    }
   ],
   "source": [
    "plt.hist(eCommerceDF['Administrative_Duration'], color = 'c')\n",
    "plt.axvline(eCommerceDF['Administrative_Duration'].mean(), color='k', linestyle='dashed', linewidth=1)\n",
    "plt.show() "
   ]
  },
  {
   "cell_type": "markdown",
   "metadata": {},
   "source": [
    "#### Informational"
   ]
  },
  {
   "cell_type": "code",
   "execution_count": 35,
   "metadata": {},
   "outputs": [
    {
     "name": "stdout",
     "output_type": "stream",
     "text": [
      "Mean\n",
      "0.5017022336627086\n",
      "Median\n",
      "0.0\n",
      "0\n",
      "Standard Deviation\n",
      "1.26804251924386\n"
     ]
    }
   ],
   "source": [
    "print(\"Mean\")\n",
    "print(eCommerceDF['Informational'].mean())\n",
    "print(\"Median\")\n",
    "print(eCommerceDF['Informational'].median())\n",
    "print(\"Mode\")\n",
    "print(mode(eCommerceDF['Informational']).mode[0])\n",
    "print(\"Standard Deviation\")\n",
    "print(eCommerceDF['Informational'].std())"
   ]
  },
  {
   "cell_type": "code",
   "execution_count": 36,
   "metadata": {},
   "outputs": [
    {
     "data": {
      "image/png": "[encoded data removed]",
      "text/plain": [
       "<Figure size 432x288 with 1 Axes>"
      ]
     },
     "metadata": {
      "needs_background": "light"
     },
     "output_type": "display_data"
    }
   ],
   "source": [
    "plt.hist(eCommerceDF['Informational'], color = 'c')\n",
    "plt.axvline(eCommerceDF['Informational'].mean(), color='k', linestyle='dashed', linewidth=1)\n",
    "plt.show() "
   ]
  },
  {
   "cell_type": "markdown",
   "metadata": {},
   "source": [
    "#### Informational Duration"
   ]
  },
  {
   "cell_type": "code",
   "execution_count": 37,
   "metadata": {},
   "outputs": [
    {
     "name": "stdout",
     "output_type": "stream",
     "text": [
      "Mean\n",
      "34.463102337354115\n",
      "Median\n",
      "0.0\n",
      "0.0\n",
      "Standard Deviation\n",
      "141.24758172611592\n"
     ]
    }
   ],
   "source": [
    "print(\"Mean\")\n",
    "print(eCommerceDF['Informational_Duration'].mean())\n",
    "print(\"Median\")\n",
    "print(eCommerceDF['Informational_Duration'].median())\n",
    "print(\"Mode\")\n",
    "print(mode(eCommerceDF['Informational_Duration']).mode[0])\n",
    "print(\"Standard Deviation\")\n",
    "print(eCommerceDF['Informational_Duration'].std())"
   ]
  },
  {
   "cell_type": "code",
   "execution_count": 38,
   "metadata": {},
   "outputs": [
    {
     "name": "stdout",
     "output_type": "stream",
     "text": [
      "                 #ofInfoVisitors  Informational_Duration\n",
      "InformationalYN                                         \n",
      "0                           9477                0.000000\n",
      "1                           2566              189.837875\n"
     ]
    }
   ],
   "source": [
    "#Create Dataframe of Counts of People who Went to an Informational Page\n",
    "informationyndf = eCommerceDF.groupby(['InformationalYN']).count()\n",
    "informationyndf = pd.DataFrame(informationyndf['Revenue'])\n",
    "\n",
    "#Create Dataframe of Average Info Page Duration\n",
    "infotimedf = eCommerceDF[eCommerceDF['Revenue']==1]\n",
    "infotimedf = infotimedf.groupby(['InformationalYN']).mean()\n",
    "infotimedf = pd.DataFrame(infotimedf['Informational_Duration'])\n",
    "\n",
    "#Merge Data Frames\n",
    "mergeddf = pd.merge(informationyndf,infotimedf, on='InformationalYN')\n",
    "mergeddf = mergeddf.rename(columns={\"Revenue\": \"#ofInfoVisitors\"})\n",
    "print(mergeddf)\n",
    "\n",
    "#Gets actual average amount of time spent on page for those who visited the page"
   ]
  },
  {
   "cell_type": "code",
   "execution_count": 39,
   "metadata": {},
   "outputs": [
    {
     "data": {
      "image/png": "[encoded data removed]",
      "text/plain": [
       "<Figure size 432x288 with 1 Axes>"
      ]
     },
     "metadata": {
      "needs_background": "light"
     },
     "output_type": "display_data"
    }
   ],
   "source": [
    "plt.hist(eCommerceDF['Informational_Duration'], color = 'c')\n",
    "plt.axvline(eCommerceDF['Informational_Duration'].mean(), color='k', linestyle='dashed', linewidth=1)\n",
    "plt.show() "
   ]
  },
  {
   "cell_type": "markdown",
   "metadata": {},
   "source": [
    "#### ProductRelated"
   ]
  },
  {
   "cell_type": "code",
   "execution_count": 40,
   "metadata": {},
   "outputs": [
    {
     "name": "stdout",
     "output_type": "stream",
     "text": [
      "Mean\n",
      "31.873287386863737\n",
      "Median\n",
      "18.0\n",
      "1\n",
      "Standard Deviation\n",
      "44.283890967432384\n"
     ]
    }
   ],
   "source": [
    "print(\"Mean\")\n",
    "print(eCommerceDF['ProductRelated'].mean())\n",
    "print(\"Median\")\n",
    "print(eCommerceDF['ProductRelated'].median())\n",
    "print(\"Mode\")\n",
    "print(mode(eCommerceDF['ProductRelated']).mode[0])\n",
    "print(\"Standard Deviation\")\n",
    "print(eCommerceDF['ProductRelated'].std())"
   ]
  },
  {
   "cell_type": "code",
   "execution_count": 41,
   "metadata": {},
   "outputs": [
    {
     "data": {
      "image/png": "[encoded data removed]",
      "text/plain": [
       "<Figure size 432x288 with 1 Axes>"
      ]
     },
     "metadata": {
      "needs_background": "light"
     },
     "output_type": "display_data"
    }
   ],
   "source": [
    "plt.hist(eCommerceDF['ProductRelated'], color = 'c')\n",
    "plt.axvline(eCommerceDF['ProductRelated'].mean(), color='k', linestyle='dashed', linewidth=1)\n",
    "plt.show() "
   ]
  },
  {
   "cell_type": "markdown",
   "metadata": {},
   "source": [
    "#### ProductRelated Duration"
   ]
  },
  {
   "cell_type": "code",
   "execution_count": 42,
   "metadata": {},
   "outputs": [
    {
     "name": "stdout",
     "output_type": "stream",
     "text": [
      "Mean\n",
      "1199.056284420416\n",
      "Median\n",
      "606.8333332999999\n",
      "0.0\n",
      "Standard Deviation\n",
      "1904.7166410725174\n"
     ]
    }
   ],
   "source": [
    "print(\"Mean\")\n",
    "print(eCommerceDF['ProductRelated_Duration'].mean())\n",
    "print(\"Median\")\n",
    "print(eCommerceDF['ProductRelated_Duration'].median())\n",
    "print(\"Mode\")\n",
    "print(mode(eCommerceDF['ProductRelated_Duration']).mode[0])\n",
    "print(\"Standard Deviation\")\n",
    "print(eCommerceDF['ProductRelated_Duration'].std())"
   ]
  },
  {
   "cell_type": "code",
   "execution_count": 43,
   "metadata": {
    "scrolled": true
   },
   "outputs": [
    {
     "name": "stdout",
     "output_type": "stream",
     "text": [
      "                  #ofProductVisitors  ProductRelated_Duration\n",
      "ProductRelatedYN                                             \n",
      "0                                 38                 0.000000\n",
      "1                              12005              2131.841203\n"
     ]
    }
   ],
   "source": [
    "#Create Dataframe of Counts of People who Went to a Product Related Page\n",
    "productyndf = eCommerceDF.groupby(['ProductRelatedYN']).count()\n",
    "productyndf = pd.DataFrame(productyndf['Revenue'])\n",
    "\n",
    "#Create Dataframe of Average Product Page Duration\n",
    "producttimedf = eCommerceDF[eCommerceDF['Revenue']==1]\n",
    "producttimedf = producttimedf.groupby(['ProductRelatedYN']).mean()\n",
    "producttimedf = pd.DataFrame(producttimedf['ProductRelated_Duration'])\n",
    "\n",
    "#Merge Data Frames\n",
    "mergeddf = pd.merge(productyndf,producttimedf, on='ProductRelatedYN')\n",
    "mergeddf = mergeddf.rename(columns={\"Revenue\": \"#ofProductVisitors\"})\n",
    "print(mergeddf)\n",
    "\n",
    "#Gets actual average amount of time spent on page for those who visited the page"
   ]
  },
  {
   "cell_type": "code",
   "execution_count": 44,
   "metadata": {},
   "outputs": [
    {
     "data": {
      "image/png": "[encoded data removed]",
      "text/plain": [
       "<Figure size 432x288 with 1 Axes>"
      ]
     },
     "metadata": {
      "needs_background": "light"
     },
     "output_type": "display_data"
    }
   ],
   "source": [
    "plt.hist(eCommerceDF['ProductRelated_Duration'], color = 'c')\n",
    "plt.axvline(eCommerceDF['ProductRelated_Duration'].mean(), color='k', linestyle='dashed', linewidth=1)\n",
    "plt.show() "
   ]
  },
  {
   "cell_type": "markdown",
   "metadata": {},
   "source": [
    "#### Bounce Rates"
   ]
  },
  {
   "cell_type": "code",
   "execution_count": 45,
   "metadata": {
    "scrolled": true
   },
   "outputs": [
    {
     "name": "stdout",
     "output_type": "stream",
     "text": [
      "Mean\n",
      "0.020521232124885633\n",
      "Median\n",
      "0.0029411759999999\n",
      "0.0\n",
      "Standard Deviation\n",
      "0.04547541412190938\n"
     ]
    }
   ],
   "source": [
    "print(\"Mean\")\n",
    "print(eCommerceDF['BounceRates'].mean())\n",
    "print(\"Median\")\n",
    "print(eCommerceDF['BounceRates'].median())\n",
    "print(\"Mode\")\n",
    "print(mode(eCommerceDF['BounceRates']).mode[0])\n",
    "print(\"Standard Deviation\")\n",
    "print(eCommerceDF['BounceRates'].std())"
   ]
  },
  {
   "cell_type": "code",
   "execution_count": 46,
   "metadata": {
    "scrolled": true
   },
   "outputs": [
    {
     "data": {
      "image/png": "[encoded data removed]",
      "text/plain": [
       "<Figure size 432x288 with 1 Axes>"
      ]
     },
     "metadata": {
      "needs_background": "light"
     },
     "output_type": "display_data"
    }
   ],
   "source": [
    "plt.hist(eCommerceDF['BounceRates'], color = 'c')\n",
    "plt.axvline(eCommerceDF['BounceRates'].mean(), color='k', linestyle='dashed', linewidth=1)\n",
    "plt.show() "
   ]
  },
  {
   "cell_type": "markdown",
   "metadata": {},
   "source": [
    "#### ExitRates"
   ]
  },
  {
   "cell_type": "code",
   "execution_count": 47,
   "metadata": {},
   "outputs": [
    {
     "name": "stdout",
     "output_type": "stream",
     "text": [
      "Mean\n",
      "0.04165042325359046\n",
      "Median\n",
      "0.025\n",
      "0.2\n",
      "Standard Deviation\n",
      "0.046346485572350486\n"
     ]
    }
   ],
   "source": [
    "print(\"Mean\")\n",
    "print(eCommerceDF['ExitRates'].mean())\n",
    "print(\"Median\")\n",
    "print(eCommerceDF['ExitRates'].median())\n",
    "print(\"Mode\")\n",
    "print(mode(eCommerceDF['ExitRates']).mode[0])\n",
    "print(\"Standard Deviation\")\n",
    "print(eCommerceDF['ExitRates'].std())"
   ]
  },
  {
   "cell_type": "code",
   "execution_count": 48,
   "metadata": {},
   "outputs": [
    {
     "data": {
      "image/png": "[encoded data removed]",
      "text/plain": [
       "<Figure size 432x288 with 1 Axes>"
      ]
     },
     "metadata": {
      "needs_background": "light"
     },
     "output_type": "display_data"
    }
   ],
   "source": [
    "plt.hist(eCommerceDF['ExitRates'], color = 'c')\n",
    "plt.axvline(eCommerceDF['ExitRates'].mean(), color='k', linestyle='dashed', linewidth=1)\n",
    "plt.show() "
   ]
  },
  {
   "cell_type": "markdown",
   "metadata": {},
   "source": [
    "#### PageValues"
   ]
  },
  {
   "cell_type": "code",
   "execution_count": 49,
   "metadata": {},
   "outputs": [
    {
     "name": "stdout",
     "output_type": "stream",
     "text": [
      "Mean\n",
      "5.91777579789488\n",
      "Median\n",
      "0.0\n",
      "0.0\n",
      "Standard Deviation\n",
      "18.68411493207842\n"
     ]
    }
   ],
   "source": [
    "print(\"Mean\")\n",
    "print(eCommerceDF['PageValues'].mean())\n",
    "print(\"Median\")\n",
    "print(eCommerceDF['PageValues'].median())\n",
    "print(\"Mode\")\n",
    "print(mode(eCommerceDF['PageValues']).mode[0])\n",
    "print(\"Standard Deviation\")\n",
    "print(eCommerceDF['PageValues'].std())"
   ]
  },
  {
   "cell_type": "code",
   "execution_count": 50,
   "metadata": {},
   "outputs": [
    {
     "data": {
      "image/png": "[encoded data removed]",
      "text/plain": [
       "<Figure size 432x288 with 1 Axes>"
      ]
     },
     "metadata": {
      "needs_background": "light"
     },
     "output_type": "display_data"
    }
   ],
   "source": [
    "plt.hist(eCommerceDF['PageValues'], color = 'c')\n",
    "plt.axvline(eCommerceDF['PageValues'].mean(), color='k', linestyle='dashed', linewidth=1)\n",
    "plt.show() "
   ]
  },
  {
   "cell_type": "markdown",
   "metadata": {},
   "source": [
    "#### SpecialDay"
   ]
  },
  {
   "cell_type": "code",
   "execution_count": 51,
   "metadata": {},
   "outputs": [
    {
     "name": "stdout",
     "output_type": "stream",
     "text": [
      "Mean\n",
      "0.06202773395333397\n",
      "Median\n",
      "0.0\n",
      "0.0\n",
      "Standard Deviation\n",
      "0.1997227115181979\n"
     ]
    }
   ],
   "source": [
    "print(\"Mean\")\n",
    "print(eCommerceDF['SpecialDay'].mean())\n",
    "print(\"Median\")\n",
    "print(eCommerceDF['SpecialDay'].median())\n",
    "print(\"Mode\")\n",
    "print(mode(eCommerceDF['SpecialDay']).mode[0])\n",
    "print(\"Standard Deviation\")\n",
    "print(eCommerceDF['SpecialDay'].std())"
   ]
  },
  {
   "cell_type": "code",
   "execution_count": 52,
   "metadata": {},
   "outputs": [
    {
     "data": {
      "image/png": "[encoded data removed]",
      "text/plain": [
       "<Figure size 432x288 with 1 Axes>"
      ]
     },
     "metadata": {
      "needs_background": "light"
     },
     "output_type": "display_data"
    }
   ],
   "source": [
    "plt.hist(eCommerceDF['SpecialDay'], color = 'c')\n",
    "plt.axvline(eCommerceDF['SpecialDay'].mean(), color='k', linestyle='dashed', linewidth=1)\n",
    "plt.show() "
   ]
  },
  {
   "cell_type": "markdown",
   "metadata": {},
   "source": [
    "#### Month"
   ]
  },
  {
   "cell_type": "code",
   "execution_count": 53,
   "metadata": {},
   "outputs": [
    {
     "name": "stdout",
     "output_type": "stream",
     "text": [
      "May\n"
     ]
    }
   ],
   "source": [
    "print(mode(eCommerceDF['Month']).mode[0])"
   ]
  },
  {
   "cell_type": "code",
   "execution_count": 54,
   "metadata": {},
   "outputs": [
    {
     "data": {
      "text/plain": [
       "<AxesSubplot:xlabel='Month'>"
      ]
     },
     "execution_count": 54,
     "metadata": {},
     "output_type": "execute_result"
    },
    {
     "data": {
      "image/png": "[encoded data removed]",
      "text/plain": [
       "<Figure size 432x288 with 1 Axes>"
      ]
     },
     "metadata": {
      "needs_background": "light"
     },
     "output_type": "display_data"
    }
   ],
   "source": [
    "pd.crosstab(eCommerceDF.Month,eCommerceDF.Month).plot(kind='bar')"
   ]
  },
  {
   "cell_type": "markdown",
   "metadata": {},
   "source": [
    "#### Visitor Type"
   ]
  },
  {
   "cell_type": "code",
   "execution_count": 55,
   "metadata": {},
   "outputs": [
    {
     "name": "stdout",
     "output_type": "stream",
     "text": [
      "Returning_Visitor\n"
     ]
    }
   ],
   "source": [
    "print(mode(eCommerceDF['VisitorType']).mode[0])"
   ]
  },
  {
   "cell_type": "code",
   "execution_count": 56,
   "metadata": {},
   "outputs": [
    {
     "data": {
      "text/plain": [
       "<AxesSubplot:xlabel='VisitorType'>"
      ]
     },
     "execution_count": 56,
     "metadata": {},
     "output_type": "execute_result"
    },
    {
     "data": {
      "image/png": "[encoded data removed]",
      "text/plain": [
       "<Figure size 432x288 with 1 Axes>"
      ]
     },
     "metadata": {
      "needs_background": "light"
     },
     "output_type": "display_data"
    }
   ],
   "source": [
    "pd.crosstab(eCommerceDF.VisitorType,eCommerceDF.VisitorType).plot(kind='bar')"
   ]
  },
  {
   "cell_type": "markdown",
   "metadata": {},
   "source": [
    "#### Weekend"
   ]
  },
  {
   "cell_type": "code",
   "execution_count": 57,
   "metadata": {},
   "outputs": [
    {
     "name": "stdout",
     "output_type": "stream",
     "text": [
      "False\n"
     ]
    }
   ],
   "source": [
    "print(mode(eCommerceDF['Weekend']).mode[0])"
   ]
  },
  {
   "cell_type": "code",
   "execution_count": 58,
   "metadata": {},
   "outputs": [
    {
     "data": {
      "text/plain": [
       "<AxesSubplot:xlabel='Weekend'>"
      ]
     },
     "execution_count": 58,
     "metadata": {},
     "output_type": "execute_result"
    },
    {
     "data": {
      "image/png": "[encoded data removed]",
      "text/plain": [
       "<Figure size 432x288 with 1 Axes>"
      ]
     },
     "metadata": {
      "needs_background": "light"
     },
     "output_type": "display_data"
    }
   ],
   "source": [
    "pd.crosstab(eCommerceDF.Weekend,eCommerceDF.Weekend).plot(kind='bar')"
   ]
  },
  {
   "cell_type": "markdown",
   "metadata": {},
   "source": [
    "### Diagonse Correlation"
   ]
  },
  {
   "cell_type": "markdown",
   "metadata": {},
   "source": [
    "#### Dependent variable of choice for project is revenue\n",
    "\n",
    "Other possible dependent variables of choice were duration, bounce rate, and exit rates."
   ]
  },
  {
   "cell_type": "code",
   "execution_count": 59,
   "metadata": {},
   "outputs": [
    {
     "data": {
      "text/html": [
       "<div>\n",
       "<style scoped>\n",
       "    .dataframe tbody tr th:only-of-type {\n",
       "        vertical-align: middle;\n",
       "    }\n",
       "\n",
       "    .dataframe tbody tr th {\n",
       "        vertical-align: top;\n",
       "    }\n",
       "\n",
       "    .dataframe thead th {\n",
       "        text-align: right;\n",
       "    }\n",
       "</style>\n",
       "<table border=\"1\" class=\"dataframe\">\n",
       "  <thead>\n",
       "    <tr style=\"text-align: right;\">\n",
       "      <th></th>\n",
       "      <th>Administrative</th>\n",
       "      <th>Administrative_Duration</th>\n",
       "      <th>Informational</th>\n",
       "      <th>Informational_Duration</th>\n",
       "      <th>ProductRelated</th>\n",
       "      <th>ProductRelated_Duration</th>\n",
       "      <th>BounceRates</th>\n",
       "      <th>ExitRates</th>\n",
       "      <th>PageValues</th>\n",
       "      <th>SpecialDay</th>\n",
       "      <th>Weekend</th>\n",
       "      <th>NewVisitor</th>\n",
       "      <th>ReturnVisitor</th>\n",
       "      <th>MonthNum</th>\n",
       "      <th>AdministrativeYN</th>\n",
       "      <th>InformationalYN</th>\n",
       "      <th>ProductRelatedYN</th>\n",
       "    </tr>\n",
       "    <tr>\n",
       "      <th>Revenue</th>\n",
       "      <th></th>\n",
       "      <th></th>\n",
       "      <th></th>\n",
       "      <th></th>\n",
       "      <th></th>\n",
       "      <th></th>\n",
       "      <th></th>\n",
       "      <th></th>\n",
       "      <th></th>\n",
       "      <th></th>\n",
       "      <th></th>\n",
       "      <th></th>\n",
       "      <th></th>\n",
       "      <th></th>\n",
       "      <th></th>\n",
       "      <th></th>\n",
       "      <th></th>\n",
       "    </tr>\n",
       "  </thead>\n",
       "  <tbody>\n",
       "    <tr>\n",
       "      <th>False</th>\n",
       "      <td>1.667147</td>\n",
       "      <td>58.941388</td>\n",
       "      <td>0.339173</td>\n",
       "      <td>21.686058</td>\n",
       "      <td>24.004435</td>\n",
       "      <td>887.719047</td>\n",
       "      <td>0.025365</td>\n",
       "      <td>0.048690</td>\n",
       "      <td>0.000000</td>\n",
       "      <td>0.072092</td>\n",
       "      <td>0.227741</td>\n",
       "      <td>0.133718</td>\n",
       "      <td>0.859297</td>\n",
       "      <td>7.430203</td>\n",
       "      <td>0.446724</td>\n",
       "      <td>0.156337</td>\n",
       "      <td>0.996452</td>\n",
       "    </tr>\n",
       "    <tr>\n",
       "      <th>True</th>\n",
       "      <td>4.281415</td>\n",
       "      <td>147.979171</td>\n",
       "      <td>0.986442</td>\n",
       "      <td>72.570299</td>\n",
       "      <td>55.341931</td>\n",
       "      <td>2127.611360</td>\n",
       "      <td>0.006074</td>\n",
       "      <td>0.020655</td>\n",
       "      <td>23.567386</td>\n",
       "      <td>0.032011</td>\n",
       "      <td>0.252646</td>\n",
       "      <td>0.153439</td>\n",
       "      <td>0.840608</td>\n",
       "      <td>8.365079</td>\n",
       "      <td>0.800595</td>\n",
       "      <td>0.382275</td>\n",
       "      <td>0.998016</td>\n",
       "    </tr>\n",
       "  </tbody>\n",
       "</table>\n",
       "</div>"
      ],
      "text/plain": [
       "         Administrative  Administrative_Duration  Informational  \\\n",
       "Revenue                                                           \n",
       "False          1.667147                58.941388       0.339173   \n",
       "True           4.281415               147.979171       0.986442   \n",
       "\n",
       "         Informational_Duration  ProductRelated  ProductRelated_Duration  \\\n",
       "Revenue                                                                    \n",
       "False                 21.686058       24.004435               887.719047   \n",
       "True                  72.570299       55.341931              2127.611360   \n",
       "\n",
       "         BounceRates  ExitRates  PageValues  SpecialDay   Weekend  NewVisitor  \\\n",
       "Revenue                                                                         \n",
       "False       0.025365   0.048690    0.000000    0.072092  0.227741    0.133718   \n",
       "True        0.006074   0.020655   23.567386    0.032011  0.252646    0.153439   \n",
       "\n",
       "         ReturnVisitor  MonthNum  AdministrativeYN  InformationalYN  \\\n",
       "Revenue                                                               \n",
       "False         0.859297  7.430203          0.446724         0.156337   \n",
       "True          0.840608  8.365079          0.800595         0.382275   \n",
       "\n",
       "         ProductRelatedYN  \n",
       "Revenue                    \n",
       "False            0.996452  \n",
       "True             0.998016  "
      ]
     },
     "execution_count": 59,
     "metadata": {},
     "output_type": "execute_result"
    }
   ],
   "source": [
    "eCommerceDF.groupby(by = \"Revenue\").mean()"
   ]
  },
  {
   "cell_type": "code",
   "execution_count": 60,
   "metadata": {},
   "outputs": [
    {
     "data": {
      "text/html": [
       "<div>\n",
       "<style scoped>\n",
       "    .dataframe tbody tr th:only-of-type {\n",
       "        vertical-align: middle;\n",
       "    }\n",
       "\n",
       "    .dataframe tbody tr th {\n",
       "        vertical-align: top;\n",
       "    }\n",
       "\n",
       "    .dataframe thead th {\n",
       "        text-align: right;\n",
       "    }\n",
       "</style>\n",
       "<table border=\"1\" class=\"dataframe\">\n",
       "  <thead>\n",
       "    <tr style=\"text-align: right;\">\n",
       "      <th></th>\n",
       "      <th>Administrative</th>\n",
       "      <th>Administrative_Duration</th>\n",
       "      <th>Informational</th>\n",
       "      <th>Informational_Duration</th>\n",
       "      <th>ProductRelated</th>\n",
       "      <th>ProductRelated_Duration</th>\n",
       "      <th>BounceRates</th>\n",
       "      <th>ExitRates</th>\n",
       "      <th>PageValues</th>\n",
       "      <th>SpecialDay</th>\n",
       "      <th>Weekend</th>\n",
       "      <th>Revenue</th>\n",
       "      <th>NewVisitor</th>\n",
       "      <th>ReturnVisitor</th>\n",
       "      <th>MonthNum</th>\n",
       "      <th>AdministrativeYN</th>\n",
       "      <th>InformationalYN</th>\n",
       "      <th>ProductRelatedYN</th>\n",
       "    </tr>\n",
       "  </thead>\n",
       "  <tbody>\n",
       "    <tr>\n",
       "      <th>Administrative</th>\n",
       "      <td>1.000000</td>\n",
       "      <td>0.601203</td>\n",
       "      <td>0.373173</td>\n",
       "      <td>0.251457</td>\n",
       "      <td>0.426870</td>\n",
       "      <td>0.369415</td>\n",
       "      <td>-0.213506</td>\n",
       "      <td>-0.311713</td>\n",
       "      <td>0.099097</td>\n",
       "      <td>-0.097446</td>\n",
       "      <td>0.023668</td>\n",
       "      <td>0.341903</td>\n",
       "      <td>0.026275</td>\n",
       "      <td>-0.021270</td>\n",
       "      <td>0.095783</td>\n",
       "      <td>0.652558</td>\n",
       "      <td>0.364542</td>\n",
       "      <td>0.023798</td>\n",
       "    </tr>\n",
       "    <tr>\n",
       "      <th>Administrative_Duration</th>\n",
       "      <td>0.601203</td>\n",
       "      <td>1.000000</td>\n",
       "      <td>0.301980</td>\n",
       "      <td>0.236340</td>\n",
       "      <td>0.279669</td>\n",
       "      <td>0.347195</td>\n",
       "      <td>-0.137479</td>\n",
       "      <td>-0.202653</td>\n",
       "      <td>0.067773</td>\n",
       "      <td>-0.074948</td>\n",
       "      <td>0.014627</td>\n",
       "      <td>0.218863</td>\n",
       "      <td>0.023707</td>\n",
       "      <td>-0.021566</td>\n",
       "      <td>0.057569</td>\n",
       "      <td>0.429131</td>\n",
       "      <td>0.254967</td>\n",
       "      <td>0.018816</td>\n",
       "    </tr>\n",
       "    <tr>\n",
       "      <th>Informational</th>\n",
       "      <td>0.373173</td>\n",
       "      <td>0.301980</td>\n",
       "      <td>1.000000</td>\n",
       "      <td>0.620687</td>\n",
       "      <td>0.369688</td>\n",
       "      <td>0.383457</td>\n",
       "      <td>-0.108488</td>\n",
       "      <td>-0.158395</td>\n",
       "      <td>0.048749</td>\n",
       "      <td>-0.048913</td>\n",
       "      <td>0.032669</td>\n",
       "      <td>0.221363</td>\n",
       "      <td>-0.056058</td>\n",
       "      <td>0.059724</td>\n",
       "      <td>0.060993</td>\n",
       "      <td>0.254341</td>\n",
       "      <td>0.760392</td>\n",
       "      <td>0.008249</td>\n",
       "    </tr>\n",
       "    <tr>\n",
       "      <th>Informational_Duration</th>\n",
       "      <td>0.251457</td>\n",
       "      <td>0.236340</td>\n",
       "      <td>0.620687</td>\n",
       "      <td>1.000000</td>\n",
       "      <td>0.276270</td>\n",
       "      <td>0.344733</td>\n",
       "      <td>-0.069669</td>\n",
       "      <td>-0.102376</td>\n",
       "      <td>0.030638</td>\n",
       "      <td>-0.031880</td>\n",
       "      <td>0.023744</td>\n",
       "      <td>0.156227</td>\n",
       "      <td>-0.044073</td>\n",
       "      <td>0.046209</td>\n",
       "      <td>0.042529</td>\n",
       "      <td>0.161075</td>\n",
       "      <td>0.468920</td>\n",
       "      <td>0.012795</td>\n",
       "    </tr>\n",
       "    <tr>\n",
       "      <th>ProductRelated</th>\n",
       "      <td>0.426870</td>\n",
       "      <td>0.279669</td>\n",
       "      <td>0.369688</td>\n",
       "      <td>0.276270</td>\n",
       "      <td>1.000000</td>\n",
       "      <td>0.858140</td>\n",
       "      <td>-0.193986</td>\n",
       "      <td>-0.287401</td>\n",
       "      <td>0.056011</td>\n",
       "      <td>-0.024809</td>\n",
       "      <td>0.014001</td>\n",
       "      <td>0.306882</td>\n",
       "      <td>-0.125039</td>\n",
       "      <td>0.130709</td>\n",
       "      <td>0.153865</td>\n",
       "      <td>0.287171</td>\n",
       "      <td>0.339668</td>\n",
       "      <td>0.040496</td>\n",
       "    </tr>\n",
       "    <tr>\n",
       "      <th>ProductRelated_Duration</th>\n",
       "      <td>0.369415</td>\n",
       "      <td>0.347195</td>\n",
       "      <td>0.383457</td>\n",
       "      <td>0.344733</td>\n",
       "      <td>0.858140</td>\n",
       "      <td>1.000000</td>\n",
       "      <td>-0.174974</td>\n",
       "      <td>-0.246562</td>\n",
       "      <td>0.051989</td>\n",
       "      <td>-0.037504</td>\n",
       "      <td>0.005412</td>\n",
       "      <td>0.282297</td>\n",
       "      <td>-0.118960</td>\n",
       "      <td>0.122648</td>\n",
       "      <td>0.135664</td>\n",
       "      <td>0.252383</td>\n",
       "      <td>0.327089</td>\n",
       "      <td>0.035419</td>\n",
       "    </tr>\n",
       "    <tr>\n",
       "      <th>BounceRates</th>\n",
       "      <td>-0.213506</td>\n",
       "      <td>-0.137479</td>\n",
       "      <td>-0.108488</td>\n",
       "      <td>-0.069669</td>\n",
       "      <td>-0.193986</td>\n",
       "      <td>-0.174974</td>\n",
       "      <td>1.000000</td>\n",
       "      <td>0.902344</td>\n",
       "      <td>-0.115557</td>\n",
       "      <td>0.089155</td>\n",
       "      <td>-0.034854</td>\n",
       "      <td>-0.183960</td>\n",
       "      <td>-0.136368</td>\n",
       "      <td>0.129480</td>\n",
       "      <td>-0.055615</td>\n",
       "      <td>-0.304043</td>\n",
       "      <td>-0.138024</td>\n",
       "      <td>-0.096055</td>\n",
       "    </tr>\n",
       "    <tr>\n",
       "      <th>ExitRates</th>\n",
       "      <td>-0.311713</td>\n",
       "      <td>-0.202653</td>\n",
       "      <td>-0.158395</td>\n",
       "      <td>-0.102376</td>\n",
       "      <td>-0.287401</td>\n",
       "      <td>-0.246562</td>\n",
       "      <td>0.902344</td>\n",
       "      <td>1.000000</td>\n",
       "      <td>-0.173475</td>\n",
       "      <td>0.117770</td>\n",
       "      <td>-0.053257</td>\n",
       "      <td>-0.262320</td>\n",
       "      <td>-0.182819</td>\n",
       "      <td>0.173086</td>\n",
       "      <td>-0.087733</td>\n",
       "      <td>-0.420826</td>\n",
       "      <td>-0.197024</td>\n",
       "      <td>-0.104154</td>\n",
       "    </tr>\n",
       "    <tr>\n",
       "      <th>PageValues</th>\n",
       "      <td>0.099097</td>\n",
       "      <td>0.067773</td>\n",
       "      <td>0.048749</td>\n",
       "      <td>0.030638</td>\n",
       "      <td>0.056011</td>\n",
       "      <td>0.051989</td>\n",
       "      <td>-0.115557</td>\n",
       "      <td>-0.173475</td>\n",
       "      <td>1.000000</td>\n",
       "      <td>-0.066231</td>\n",
       "      <td>0.010334</td>\n",
       "      <td>0.547006</td>\n",
       "      <td>0.104004</td>\n",
       "      <td>-0.115421</td>\n",
       "      <td>0.065684</td>\n",
       "      <td>0.125787</td>\n",
       "      <td>0.057751</td>\n",
       "      <td>0.017820</td>\n",
       "    </tr>\n",
       "    <tr>\n",
       "      <th>SpecialDay</th>\n",
       "      <td>-0.097446</td>\n",
       "      <td>-0.074948</td>\n",
       "      <td>-0.048913</td>\n",
       "      <td>-0.031880</td>\n",
       "      <td>-0.024809</td>\n",
       "      <td>-0.037504</td>\n",
       "      <td>0.089155</td>\n",
       "      <td>0.117770</td>\n",
       "      <td>-0.066231</td>\n",
       "      <td>1.000000</td>\n",
       "      <td>-0.018653</td>\n",
       "      <td>-0.087031</td>\n",
       "      <td>-0.084918</td>\n",
       "      <td>0.089183</td>\n",
       "      <td>-0.260142</td>\n",
       "      <td>-0.125115</td>\n",
       "      <td>-0.048701</td>\n",
       "      <td>0.004130</td>\n",
       "    </tr>\n",
       "    <tr>\n",
       "      <th>Weekend</th>\n",
       "      <td>0.023668</td>\n",
       "      <td>0.014627</td>\n",
       "      <td>0.032669</td>\n",
       "      <td>0.023744</td>\n",
       "      <td>0.014001</td>\n",
       "      <td>0.005412</td>\n",
       "      <td>-0.034854</td>\n",
       "      <td>-0.053257</td>\n",
       "      <td>0.010334</td>\n",
       "      <td>-0.018653</td>\n",
       "      <td>1.000000</td>\n",
       "      <td>0.025509</td>\n",
       "      <td>0.044395</td>\n",
       "      <td>-0.036875</td>\n",
       "      <td>0.015930</td>\n",
       "      <td>0.041581</td>\n",
       "      <td>0.041465</td>\n",
       "      <td>-0.014367</td>\n",
       "    </tr>\n",
       "    <tr>\n",
       "      <th>Revenue</th>\n",
       "      <td>0.341903</td>\n",
       "      <td>0.218863</td>\n",
       "      <td>0.221363</td>\n",
       "      <td>0.156227</td>\n",
       "      <td>0.306882</td>\n",
       "      <td>0.282297</td>\n",
       "      <td>-0.183960</td>\n",
       "      <td>-0.262320</td>\n",
       "      <td>0.547006</td>\n",
       "      <td>-0.087031</td>\n",
       "      <td>0.025509</td>\n",
       "      <td>1.000000</td>\n",
       "      <td>0.024746</td>\n",
       "      <td>-0.022991</td>\n",
       "      <td>0.119665</td>\n",
       "      <td>0.307690</td>\n",
       "      <td>0.239275</td>\n",
       "      <td>0.012093</td>\n",
       "    </tr>\n",
       "    <tr>\n",
       "      <th>NewVisitor</th>\n",
       "      <td>0.026275</td>\n",
       "      <td>0.023707</td>\n",
       "      <td>-0.056058</td>\n",
       "      <td>-0.044073</td>\n",
       "      <td>-0.125039</td>\n",
       "      <td>-0.118960</td>\n",
       "      <td>-0.136368</td>\n",
       "      <td>-0.182819</td>\n",
       "      <td>0.104004</td>\n",
       "      <td>-0.084918</td>\n",
       "      <td>0.044395</td>\n",
       "      <td>0.024746</td>\n",
       "      <td>1.000000</td>\n",
       "      <td>-0.972776</td>\n",
       "      <td>0.091099</td>\n",
       "      <td>0.135170</td>\n",
       "      <td>-0.053880</td>\n",
       "      <td>-0.007414</td>\n",
       "    </tr>\n",
       "    <tr>\n",
       "      <th>ReturnVisitor</th>\n",
       "      <td>-0.021270</td>\n",
       "      <td>-0.021566</td>\n",
       "      <td>0.059724</td>\n",
       "      <td>0.046209</td>\n",
       "      <td>0.130709</td>\n",
       "      <td>0.122648</td>\n",
       "      <td>0.129480</td>\n",
       "      <td>0.173086</td>\n",
       "      <td>-0.115421</td>\n",
       "      <td>0.089183</td>\n",
       "      <td>-0.036875</td>\n",
       "      <td>-0.022991</td>\n",
       "      <td>-0.972776</td>\n",
       "      <td>1.000000</td>\n",
       "      <td>-0.111784</td>\n",
       "      <td>-0.127621</td>\n",
       "      <td>0.058727</td>\n",
       "      <td>0.006195</td>\n",
       "    </tr>\n",
       "    <tr>\n",
       "      <th>MonthNum</th>\n",
       "      <td>0.095783</td>\n",
       "      <td>0.057569</td>\n",
       "      <td>0.060993</td>\n",
       "      <td>0.042529</td>\n",
       "      <td>0.153865</td>\n",
       "      <td>0.135664</td>\n",
       "      <td>-0.055615</td>\n",
       "      <td>-0.087733</td>\n",
       "      <td>0.065684</td>\n",
       "      <td>-0.260142</td>\n",
       "      <td>0.015930</td>\n",
       "      <td>0.119665</td>\n",
       "      <td>0.091099</td>\n",
       "      <td>-0.111784</td>\n",
       "      <td>1.000000</td>\n",
       "      <td>0.082763</td>\n",
       "      <td>0.057626</td>\n",
       "      <td>-0.007749</td>\n",
       "    </tr>\n",
       "    <tr>\n",
       "      <th>AdministrativeYN</th>\n",
       "      <td>0.652558</td>\n",
       "      <td>0.429131</td>\n",
       "      <td>0.254341</td>\n",
       "      <td>0.161075</td>\n",
       "      <td>0.287171</td>\n",
       "      <td>0.252383</td>\n",
       "      <td>-0.304043</td>\n",
       "      <td>-0.420826</td>\n",
       "      <td>0.125787</td>\n",
       "      <td>-0.125115</td>\n",
       "      <td>0.041581</td>\n",
       "      <td>0.307690</td>\n",
       "      <td>0.135170</td>\n",
       "      <td>-0.127621</td>\n",
       "      <td>0.082763</td>\n",
       "      <td>1.000000</td>\n",
       "      <td>0.299950</td>\n",
       "      <td>-0.013798</td>\n",
       "    </tr>\n",
       "    <tr>\n",
       "      <th>InformationalYN</th>\n",
       "      <td>0.364542</td>\n",
       "      <td>0.254967</td>\n",
       "      <td>0.760392</td>\n",
       "      <td>0.468920</td>\n",
       "      <td>0.339668</td>\n",
       "      <td>0.327089</td>\n",
       "      <td>-0.138024</td>\n",
       "      <td>-0.197024</td>\n",
       "      <td>0.057751</td>\n",
       "      <td>-0.048701</td>\n",
       "      <td>0.041465</td>\n",
       "      <td>0.239275</td>\n",
       "      <td>-0.053880</td>\n",
       "      <td>0.058727</td>\n",
       "      <td>0.057626</td>\n",
       "      <td>0.299950</td>\n",
       "      <td>1.000000</td>\n",
       "      <td>0.000349</td>\n",
       "    </tr>\n",
       "    <tr>\n",
       "      <th>ProductRelatedYN</th>\n",
       "      <td>0.023798</td>\n",
       "      <td>0.018816</td>\n",
       "      <td>0.008249</td>\n",
       "      <td>0.012795</td>\n",
       "      <td>0.040496</td>\n",
       "      <td>0.035419</td>\n",
       "      <td>-0.096055</td>\n",
       "      <td>-0.104154</td>\n",
       "      <td>0.017820</td>\n",
       "      <td>0.004130</td>\n",
       "      <td>-0.014367</td>\n",
       "      <td>0.012093</td>\n",
       "      <td>-0.007414</td>\n",
       "      <td>0.006195</td>\n",
       "      <td>-0.007749</td>\n",
       "      <td>-0.013798</td>\n",
       "      <td>0.000349</td>\n",
       "      <td>1.000000</td>\n",
       "    </tr>\n",
       "  </tbody>\n",
       "</table>\n",
       "</div>"
      ],
      "text/plain": [
       "                         Administrative  Administrative_Duration  \\\n",
       "Administrative                 1.000000                 0.601203   \n",
       "Administrative_Duration        0.601203                 1.000000   \n",
       "Informational                  0.373173                 0.301980   \n",
       "Informational_Duration         0.251457                 0.236340   \n",
       "ProductRelated                 0.426870                 0.279669   \n",
       "ProductRelated_Duration        0.369415                 0.347195   \n",
       "BounceRates                   -0.213506                -0.137479   \n",
       "ExitRates                     -0.311713                -0.202653   \n",
       "PageValues                     0.099097                 0.067773   \n",
       "SpecialDay                    -0.097446                -0.074948   \n",
       "Weekend                        0.023668                 0.014627   \n",
       "Revenue                        0.341903                 0.218863   \n",
       "NewVisitor                     0.026275                 0.023707   \n",
       "ReturnVisitor                 -0.021270                -0.021566   \n",
       "MonthNum                       0.095783                 0.057569   \n",
       "AdministrativeYN               0.652558                 0.429131   \n",
       "InformationalYN                0.364542                 0.254967   \n",
       "ProductRelatedYN               0.023798                 0.018816   \n",
       "\n",
       "                         Informational  Informational_Duration  \\\n",
       "Administrative                0.373173                0.251457   \n",
       "Administrative_Duration       0.301980                0.236340   \n",
       "Informational                 1.000000                0.620687   \n",
       "Informational_Duration        0.620687                1.000000   \n",
       "ProductRelated                0.369688                0.276270   \n",
       "ProductRelated_Duration       0.383457                0.344733   \n",
       "BounceRates                  -0.108488               -0.069669   \n",
       "ExitRates                    -0.158395               -0.102376   \n",
       "PageValues                    0.048749                0.030638   \n",
       "SpecialDay                   -0.048913               -0.031880   \n",
       "Weekend                       0.032669                0.023744   \n",
       "Revenue                       0.221363                0.156227   \n",
       "NewVisitor                   -0.056058               -0.044073   \n",
       "ReturnVisitor                 0.059724                0.046209   \n",
       "MonthNum                      0.060993                0.042529   \n",
       "AdministrativeYN              0.254341                0.161075   \n",
       "InformationalYN               0.760392                0.468920   \n",
       "ProductRelatedYN              0.008249                0.012795   \n",
       "\n",
       "                         ProductRelated  ProductRelated_Duration  BounceRates  \\\n",
       "Administrative                 0.426870                 0.369415    -0.213506   \n",
       "Administrative_Duration        0.279669                 0.347195    -0.137479   \n",
       "Informational                  0.369688                 0.383457    -0.108488   \n",
       "Informational_Duration         0.276270                 0.344733    -0.069669   \n",
       "ProductRelated                 1.000000                 0.858140    -0.193986   \n",
       "ProductRelated_Duration        0.858140                 1.000000    -0.174974   \n",
       "BounceRates                   -0.193986                -0.174974     1.000000   \n",
       "ExitRates                     -0.287401                -0.246562     0.902344   \n",
       "PageValues                     0.056011                 0.051989    -0.115557   \n",
       "SpecialDay                    -0.024809                -0.037504     0.089155   \n",
       "Weekend                        0.014001                 0.005412    -0.034854   \n",
       "Revenue                        0.306882                 0.282297    -0.183960   \n",
       "NewVisitor                    -0.125039                -0.118960    -0.136368   \n",
       "ReturnVisitor                  0.130709                 0.122648     0.129480   \n",
       "MonthNum                       0.153865                 0.135664    -0.055615   \n",
       "AdministrativeYN               0.287171                 0.252383    -0.304043   \n",
       "InformationalYN                0.339668                 0.327089    -0.138024   \n",
       "ProductRelatedYN               0.040496                 0.035419    -0.096055   \n",
       "\n",
       "                         ExitRates  PageValues  SpecialDay   Weekend  \\\n",
       "Administrative           -0.311713    0.099097   -0.097446  0.023668   \n",
       "Administrative_Duration  -0.202653    0.067773   -0.074948  0.014627   \n",
       "Informational            -0.158395    0.048749   -0.048913  0.032669   \n",
       "Informational_Duration   -0.102376    0.030638   -0.031880  0.023744   \n",
       "ProductRelated           -0.287401    0.056011   -0.024809  0.014001   \n",
       "ProductRelated_Duration  -0.246562    0.051989   -0.037504  0.005412   \n",
       "BounceRates               0.902344   -0.115557    0.089155 -0.034854   \n",
       "ExitRates                 1.000000   -0.173475    0.117770 -0.053257   \n",
       "PageValues               -0.173475    1.000000   -0.066231  0.010334   \n",
       "SpecialDay                0.117770   -0.066231    1.000000 -0.018653   \n",
       "Weekend                  -0.053257    0.010334   -0.018653  1.000000   \n",
       "Revenue                  -0.262320    0.547006   -0.087031  0.025509   \n",
       "NewVisitor               -0.182819    0.104004   -0.084918  0.044395   \n",
       "ReturnVisitor             0.173086   -0.115421    0.089183 -0.036875   \n",
       "MonthNum                 -0.087733    0.065684   -0.260142  0.015930   \n",
       "AdministrativeYN         -0.420826    0.125787   -0.125115  0.041581   \n",
       "InformationalYN          -0.197024    0.057751   -0.048701  0.041465   \n",
       "ProductRelatedYN         -0.104154    0.017820    0.004130 -0.014367   \n",
       "\n",
       "                          Revenue  NewVisitor  ReturnVisitor  MonthNum  \\\n",
       "Administrative           0.341903    0.026275      -0.021270  0.095783   \n",
       "Administrative_Duration  0.218863    0.023707      -0.021566  0.057569   \n",
       "Informational            0.221363   -0.056058       0.059724  0.060993   \n",
       "Informational_Duration   0.156227   -0.044073       0.046209  0.042529   \n",
       "ProductRelated           0.306882   -0.125039       0.130709  0.153865   \n",
       "ProductRelated_Duration  0.282297   -0.118960       0.122648  0.135664   \n",
       "BounceRates             -0.183960   -0.136368       0.129480 -0.055615   \n",
       "ExitRates               -0.262320   -0.182819       0.173086 -0.087733   \n",
       "PageValues               0.547006    0.104004      -0.115421  0.065684   \n",
       "SpecialDay              -0.087031   -0.084918       0.089183 -0.260142   \n",
       "Weekend                  0.025509    0.044395      -0.036875  0.015930   \n",
       "Revenue                  1.000000    0.024746      -0.022991  0.119665   \n",
       "NewVisitor               0.024746    1.000000      -0.972776  0.091099   \n",
       "ReturnVisitor           -0.022991   -0.972776       1.000000 -0.111784   \n",
       "MonthNum                 0.119665    0.091099      -0.111784  1.000000   \n",
       "AdministrativeYN         0.307690    0.135170      -0.127621  0.082763   \n",
       "InformationalYN          0.239275   -0.053880       0.058727  0.057626   \n",
       "ProductRelatedYN         0.012093   -0.007414       0.006195 -0.007749   \n",
       "\n",
       "                         AdministrativeYN  InformationalYN  ProductRelatedYN  \n",
       "Administrative                   0.652558         0.364542          0.023798  \n",
       "Administrative_Duration          0.429131         0.254967          0.018816  \n",
       "Informational                    0.254341         0.760392          0.008249  \n",
       "Informational_Duration           0.161075         0.468920          0.012795  \n",
       "ProductRelated                   0.287171         0.339668          0.040496  \n",
       "ProductRelated_Duration          0.252383         0.327089          0.035419  \n",
       "BounceRates                     -0.304043        -0.138024         -0.096055  \n",
       "ExitRates                       -0.420826        -0.197024         -0.104154  \n",
       "PageValues                       0.125787         0.057751          0.017820  \n",
       "SpecialDay                      -0.125115        -0.048701          0.004130  \n",
       "Weekend                          0.041581         0.041465         -0.014367  \n",
       "Revenue                          0.307690         0.239275          0.012093  \n",
       "NewVisitor                       0.135170        -0.053880         -0.007414  \n",
       "ReturnVisitor                   -0.127621         0.058727          0.006195  \n",
       "MonthNum                         0.082763         0.057626         -0.007749  \n",
       "AdministrativeYN                 1.000000         0.299950         -0.013798  \n",
       "InformationalYN                  0.299950         1.000000          0.000349  \n",
       "ProductRelatedYN                -0.013798         0.000349          1.000000  "
      ]
     },
     "execution_count": 60,
     "metadata": {},
     "output_type": "execute_result"
    }
   ],
   "source": [
    "eCommerceDF.corr()"
   ]
  },
  {
   "cell_type": "markdown",
   "metadata": {},
   "source": [
    "#### Page Types and Revenue"
   ]
  },
  {
   "cell_type": "code",
   "execution_count": 61,
   "metadata": {},
   "outputs": [
    {
     "name": "stdout",
     "output_type": "stream",
     "text": [
      "                  #ofAdminVisitors  #ofAdminSpenders  Revenue %\n",
      "AdministrativeYN                                               \n",
      "0                             5593               603  10.781334\n",
      "1                             6450              2421  37.534884\n"
     ]
    }
   ],
   "source": [
    "#Create Dataframe of Counts of People who Went to an Administrative Page\n",
    "administrationyndf = eCommerceDF.groupby(['AdministrativeYN']).count()\n",
    "administrationyndf = pd.DataFrame(administrationyndf['Revenue'])\n",
    "\n",
    "#Create Dataframe of Counts of People who Went to an Administrative Page and Spent Money\n",
    "revenuedf = eCommerceDF[eCommerceDF['Revenue']==1]\n",
    "revenuedf = revenuedf.groupby(['AdministrativeYN']).count()\n",
    "revenuedf = pd.DataFrame(revenuedf['Revenue'])\n",
    "\n",
    "#Merge Data Frames and Get Percent of People who Went to an Administrative Page and Spent Money\n",
    "mergeddf = pd.merge(administrationyndf,revenuedf, on='AdministrativeYN')\n",
    "mergeddf = mergeddf.rename(columns={\"Revenue_x\": \"#ofAdminVisitors\", \"Revenue_y\": \"#ofAdminSpenders\"})\n",
    "mergeddf['Revenue %'] = mergeddf['#ofAdminSpenders']/mergeddf['#ofAdminVisitors']*100\n",
    "print(mergeddf)"
   ]
  },
  {
   "cell_type": "code",
   "execution_count": 62,
   "metadata": {},
   "outputs": [],
   "source": [
    "#########INSERT VISUALIZATION"
   ]
  },
  {
   "cell_type": "code",
   "execution_count": 63,
   "metadata": {},
   "outputs": [
    {
     "name": "stdout",
     "output_type": "stream",
     "text": [
      "                 #ofInfoVisitors  #ofInfoSpenders  Revenue %\n",
      "InformationalYN                                             \n",
      "0                           9477             1868  19.710879\n",
      "1                           2566             1156  45.050663\n"
     ]
    }
   ],
   "source": [
    "#Create Dataframe of Counts of People who Went to an Informational Page\n",
    "informationyndf = eCommerceDF.groupby(['InformationalYN']).count()\n",
    "informationyndf = pd.DataFrame(informationyndf['Revenue'])\n",
    "\n",
    "#Create Dataframe of Counts of People who Went to an Informational Page and Spent Money\n",
    "revenuedf = eCommerceDF[eCommerceDF['Revenue']==1]\n",
    "revenuedf = revenuedf.groupby(['InformationalYN']).count()\n",
    "revenuedf = pd.DataFrame(revenuedf['Revenue'])\n",
    "\n",
    "#Merge Data Frames and Get Percent of People who Went to an Informational Page and Spent Money\n",
    "mergeddf = pd.merge(informationyndf,revenuedf, on='InformationalYN')\n",
    "mergeddf = mergeddf.rename(columns={\"Revenue_x\": \"#ofInfoVisitors\", \"Revenue_y\": \"#ofInfoSpenders\"})\n",
    "mergeddf['Revenue %'] = mergeddf['#ofInfoSpenders']/mergeddf['#ofInfoVisitors']*100\n",
    "print(mergeddf)"
   ]
  },
  {
   "cell_type": "code",
   "execution_count": 64,
   "metadata": {},
   "outputs": [],
   "source": [
    "#########INSERT VISUALIZATION"
   ]
  },
  {
   "cell_type": "code",
   "execution_count": 65,
   "metadata": {},
   "outputs": [
    {
     "name": "stdout",
     "output_type": "stream",
     "text": [
      "                  #ofProductVisitors  #ofProductSpenders  Revenue %\n",
      "ProductRelatedYN                                                   \n",
      "0                                 38                   6  15.789474\n",
      "1                              12005                3018  25.139525\n"
     ]
    }
   ],
   "source": [
    "#Create Dataframe of Counts of People who Went to a Product Related Page\n",
    "productyndf = eCommerceDF.groupby(['ProductRelatedYN']).count()\n",
    "productyndf = pd.DataFrame(productyndf['Revenue'])\n",
    "\n",
    "#Create Dataframe of Counts of People who Went to a Product Related and Spent Money\n",
    "revenuedf = eCommerceDF[eCommerceDF['Revenue']==1]\n",
    "revenuedf = revenuedf.groupby(['ProductRelatedYN']).count()\n",
    "revenuedf = pd.DataFrame(revenuedf['Revenue'])\n",
    "\n",
    "#Merge Data Frames and Get Percent of People who Went to a Product Related Page and Spent Money\n",
    "mergeddf = pd.merge(productyndf,revenuedf, on='ProductRelatedYN')\n",
    "mergeddf = mergeddf.rename(columns={\"Revenue_x\": \"#ofProductVisitors\", \"Revenue_y\": \"#ofProductSpenders\"})\n",
    "mergeddf['Revenue %'] = mergeddf['#ofProductSpenders']/mergeddf['#ofProductVisitors']*100\n",
    "print(mergeddf)"
   ]
  },
  {
   "cell_type": "code",
   "execution_count": 66,
   "metadata": {},
   "outputs": [],
   "source": [
    "#########INSERT VISUALIZATION"
   ]
  },
  {
   "cell_type": "code",
   "execution_count": 67,
   "metadata": {},
   "outputs": [],
   "source": [
    "#########INSIGHT\n",
    "\n",
    "#Those who go to pages buy things.\n",
    "#Only 6 people who went to product related pages did not buy something."
   ]
  },
  {
   "cell_type": "markdown",
   "metadata": {},
   "source": [
    "#### Page Durations and Revenue"
   ]
  },
  {
   "cell_type": "code",
   "execution_count": 93,
   "metadata": {},
   "outputs": [
    {
     "name": "stdout",
     "output_type": "stream",
     "text": [
      "                             TotalVisitors  Spenders  Revenue %\n",
      "Administrative_Duration_Cat                                    \n",
      "Long Visit                            1527       765  50.098232\n",
      "Short/No Visit                        3589      1251  34.856506\n"
     ]
    }
   ],
   "source": [
    "adminvisitors = eCommerceDF[eCommerceDF['Administrative']>1]\n",
    "adminddf = adminvisitors.groupby(['Administrative_Duration_Cat']).count()\n",
    "adminddf = pd.DataFrame(adminddf['Revenue'])\n",
    "#print(adminddf)\n",
    "\n",
    "revenuedf = adminvisitors[adminvisitors['Revenue']==1]\n",
    "revenuedf = revenuedf.groupby(['Administrative_Duration_Cat']).count()\n",
    "revenuedf = pd.DataFrame(revenuedf['Revenue'])\n",
    "#print(revenuedf)\n",
    "\n",
    "mergeddf = pd.merge(adminddf,revenuedf, on='Administrative_Duration_Cat')\n",
    "mergeddf = mergeddf.rename(columns={\"Revenue_x\": \"TotalVisitors\", \"Revenue_y\": \"Spenders\"})\n",
    "mergeddf['Revenue %'] = mergeddf['Spenders']/mergeddf['TotalVisitors']*100\n",
    "print(mergeddf)"
   ]
  },
  {
   "cell_type": "code",
   "execution_count": 64,
   "metadata": {},
   "outputs": [],
   "source": [
    "#########INSERT VISUALIZATION"
   ]
  },
  {
   "cell_type": "code",
   "execution_count": 94,
   "metadata": {},
   "outputs": [
    {
     "name": "stdout",
     "output_type": "stream",
     "text": [
      "                            TotalVisitors  Spenders  Revenue %\n",
      "Informational_Duration_Cat                                    \n",
      "Long Visit                            532       314  59.022556\n",
      "Short/No Visit                       1010       426  42.178218\n"
     ]
    }
   ],
   "source": [
    "infovisitors = eCommerceDF[eCommerceDF['Informational']>1]\n",
    "infoddf = infovisitors.groupby(['Informational_Duration_Cat']).count()\n",
    "infoddf = pd.DataFrame(infoddf['Revenue'])\n",
    "#print(infoddf)\n",
    "\n",
    "revenuedf = infovisitors[infovisitors['Revenue']==1]\n",
    "revenuedf = revenuedf.groupby(['Informational_Duration_Cat']).count()\n",
    "revenuedf = pd.DataFrame(revenuedf['Revenue'])\n",
    "#print(revenuedf)\n",
    "\n",
    "mergeddf = pd.merge(infoddf,revenuedf, on='Informational_Duration_Cat')\n",
    "mergeddf = mergeddf.rename(columns={\"Revenue_x\": \"TotalVisitors\", \"Revenue_y\": \"Spenders\"})\n",
    "mergeddf['Revenue %'] = mergeddf['Spenders']/mergeddf['TotalVisitors']*100\n",
    "print(mergeddf)"
   ]
  },
  {
   "cell_type": "code",
   "execution_count": 64,
   "metadata": {},
   "outputs": [],
   "source": [
    "#########INSERT VISUALIZATION"
   ]
  },
  {
   "cell_type": "code",
   "execution_count": 96,
   "metadata": {},
   "outputs": [
    {
     "name": "stdout",
     "output_type": "stream",
     "text": [
      "                             TotalVisitors  Spenders  Revenue %\n",
      "ProductRelated_Duration_Cat                                    \n",
      "Long Visit                            9097      2871  31.559855\n",
      "Short/No Visit                        2408       135   5.606312\n"
     ]
    }
   ],
   "source": [
    "productvisitors = eCommerceDF[eCommerceDF['ProductRelated']>1]\n",
    "productddf = productvisitors.groupby(['ProductRelated_Duration_Cat']).count()\n",
    "productddf = pd.DataFrame(productddf['Revenue'])\n",
    "#print(productddf)\n",
    "\n",
    "revenuedf = productvisitors[productvisitors['Revenue']==1]\n",
    "revenuedf = revenuedf.groupby(['ProductRelated_Duration_Cat']).count()\n",
    "revenuedf = pd.DataFrame(revenuedf['Revenue'])\n",
    "#print(revenuedf)\n",
    "\n",
    "mergeddf = pd.merge(productddf,revenuedf, on='ProductRelated_Duration_Cat')\n",
    "mergeddf = mergeddf.rename(columns={\"Revenue_x\": \"TotalVisitors\", \"Revenue_y\": \"Spenders\"})\n",
    "mergeddf['Revenue %'] = mergeddf['Spenders']/mergeddf['TotalVisitors']*100\n",
    "print(mergeddf)"
   ]
  },
  {
   "cell_type": "code",
   "execution_count": 64,
   "metadata": {},
   "outputs": [],
   "source": [
    "#########INSERT VISUALIZATION"
   ]
  },
  {
   "cell_type": "code",
   "execution_count": null,
   "metadata": {},
   "outputs": [],
   "source": [
    "#########INSIGHT\n",
    "\n",
    "#Those who spend more than the average amount of time on a page are more likely to buy"
   ]
  },
  {
   "cell_type": "markdown",
   "metadata": {},
   "source": [
    "#### Bounce Rates and Revenue"
   ]
  },
  {
   "cell_type": "code",
   "execution_count": 103,
   "metadata": {},
   "outputs": [
    {
     "name": "stdout",
     "output_type": "stream",
     "text": [
      "          TotalBounces  Revenue  Revenue %\n",
      "BounceYN                                  \n",
      "0                 5440     1327  24.393382\n",
      "1                 6603     1697  25.700439\n"
     ]
    }
   ],
   "source": [
    "bouncedf = eCommerceDF.groupby(['BounceYN']).count()\n",
    "bouncedf = pd.DataFrame(bouncedf['Revenue'])\n",
    "#print(bouncedf)\n",
    "\n",
    "revenuedf = eCommerceDF[eCommerceDF['Revenue']==1]\n",
    "revenuedf = revenuedf.groupby(['BounceYN']).count()\n",
    "revenuedf = pd.DataFrame(revenuedf['Revenue'])\n",
    "#print(revenuedf)\n",
    "\n",
    "mergeddf = pd.merge(bouncedf,revenuedf, on='BounceYN')\n",
    "mergeddf = mergeddf.rename(columns={\"Revenue_x\": \"TotalBounces\", \"Revenue_y\": \"Revenue\"})\n",
    "mergeddf['Revenue %'] = mergeddf['Revenue']/mergeddf['TotalBounces']*100\n",
    "print(mergeddf)"
   ]
  },
  {
   "cell_type": "code",
   "execution_count": 64,
   "metadata": {},
   "outputs": [],
   "source": [
    "#########INSERT VISUALIZATION"
   ]
  },
  {
   "cell_type": "code",
   "execution_count": null,
   "metadata": {},
   "outputs": [],
   "source": [
    "#########INSIGHT\n",
    "\n",
    "#Interesting - pages that cause no bounces have very similar revenue rates to those with bounces"
   ]
  },
  {
   "cell_type": "markdown",
   "metadata": {},
   "source": [
    "#### Exit Rates and Revenue"
   ]
  },
  {
   "cell_type": "code",
   "execution_count": 108,
   "metadata": {},
   "outputs": [
    {
     "name": "stdout",
     "output_type": "stream",
     "text": [
      "           TotalExits  Revenue  Revenue %\n",
      "ExitLevel                                \n",
      "High Rate         983        6   0.610376\n",
      "Low Rate        11060     3018  27.287523\n"
     ]
    }
   ],
   "source": [
    "exitldf = eCommerceDF.groupby(['ExitLevel']).count()\n",
    "exitldf = pd.DataFrame(exitldf['Revenue'])\n",
    "#print(exitldf)\n",
    "\n",
    "revenuedf = eCommerceDF[eCommerceDF['Revenue']==1]\n",
    "revenuedf = revenuedf.groupby(['ExitLevel']).count()\n",
    "revenuedf = pd.DataFrame(revenuedf['Revenue'])\n",
    "#print(revenuedf)\n",
    "\n",
    "mergeddf = pd.merge(exitldf,revenuedf, on='ExitLevel')\n",
    "mergeddf = mergeddf.rename(columns={\"Revenue_x\": \"TotalExits\", \"Revenue_y\": \"Revenue\"})\n",
    "mergeddf['Revenue %'] = mergeddf['Revenue']/mergeddf['TotalExits']*100\n",
    "print(mergeddf)"
   ]
  },
  {
   "cell_type": "code",
   "execution_count": null,
   "metadata": {},
   "outputs": [],
   "source": [
    "#########INSIGHT\n",
    "\n",
    "#Those who go to high exit rate pages do not buy things"
   ]
  },
  {
   "cell_type": "markdown",
   "metadata": {},
   "source": [
    "#### Page Values and Revenue"
   ]
  },
  {
   "cell_type": "code",
   "execution_count": null,
   "metadata": {},
   "outputs": [],
   "source": [
    "#########QUESTION/HOLD UP\n",
    "\n",
    "#I am confused by page value - some visits have page value even though they don't have transactions\n",
    "#and page value's metric should be based on whether or not a transaction occurred"
   ]
  },
  {
   "cell_type": "markdown",
   "metadata": {},
   "source": [
    "#### Month and Revenue"
   ]
  },
  {
   "cell_type": "code",
   "execution_count": 68,
   "metadata": {},
   "outputs": [
    {
     "data": {
      "text/html": [
       "<div>\n",
       "<style scoped>\n",
       "    .dataframe tbody tr th:only-of-type {\n",
       "        vertical-align: middle;\n",
       "    }\n",
       "\n",
       "    .dataframe tbody tr th {\n",
       "        vertical-align: top;\n",
       "    }\n",
       "\n",
       "    .dataframe thead th {\n",
       "        text-align: right;\n",
       "    }\n",
       "</style>\n",
       "<table border=\"1\" class=\"dataframe\">\n",
       "  <thead>\n",
       "    <tr style=\"text-align: right;\">\n",
       "      <th></th>\n",
       "      <th></th>\n",
       "      <th>Administrative</th>\n",
       "      <th>Administrative_Duration</th>\n",
       "      <th>Informational</th>\n",
       "      <th>Informational_Duration</th>\n",
       "      <th>ProductRelated</th>\n",
       "      <th>ProductRelated_Duration</th>\n",
       "      <th>BounceRates</th>\n",
       "      <th>ExitRates</th>\n",
       "      <th>PageValues</th>\n",
       "      <th>SpecialDay</th>\n",
       "      <th>Weekend</th>\n",
       "      <th>NewVisitor</th>\n",
       "      <th>ReturnVisitor</th>\n",
       "      <th>MonthNum</th>\n",
       "      <th>AdministrativeYN</th>\n",
       "      <th>InformationalYN</th>\n",
       "      <th>ProductRelatedYN</th>\n",
       "    </tr>\n",
       "    <tr>\n",
       "      <th>Month</th>\n",
       "      <th>Revenue</th>\n",
       "      <th></th>\n",
       "      <th></th>\n",
       "      <th></th>\n",
       "      <th></th>\n",
       "      <th></th>\n",
       "      <th></th>\n",
       "      <th></th>\n",
       "      <th></th>\n",
       "      <th></th>\n",
       "      <th></th>\n",
       "      <th></th>\n",
       "      <th></th>\n",
       "      <th></th>\n",
       "      <th></th>\n",
       "      <th></th>\n",
       "      <th></th>\n",
       "      <th></th>\n",
       "    </tr>\n",
       "  </thead>\n",
       "  <tbody>\n",
       "    <tr>\n",
       "      <th rowspan=\"2\" valign=\"top\">Aug</th>\n",
       "      <th>False</th>\n",
       "      <td>2.656667</td>\n",
       "      <td>77.800624</td>\n",
       "      <td>0.456667</td>\n",
       "      <td>26.246333</td>\n",
       "      <td>29.693333</td>\n",
       "      <td>971.502762</td>\n",
       "      <td>0.023248</td>\n",
       "      <td>0.045580</td>\n",
       "      <td>0.000000</td>\n",
       "      <td>0.000000</td>\n",
       "      <td>0.246667</td>\n",
       "      <td>0.166667</td>\n",
       "      <td>0.833333</td>\n",
       "      <td>8.0</td>\n",
       "      <td>0.626667</td>\n",
       "      <td>0.210000</td>\n",
       "      <td>1.000000</td>\n",
       "    </tr>\n",
       "    <tr>\n",
       "      <th>True</th>\n",
       "      <td>4.362205</td>\n",
       "      <td>178.905500</td>\n",
       "      <td>0.771654</td>\n",
       "      <td>59.085197</td>\n",
       "      <td>59.228346</td>\n",
       "      <td>2015.240448</td>\n",
       "      <td>0.006279</td>\n",
       "      <td>0.019377</td>\n",
       "      <td>19.418265</td>\n",
       "      <td>0.000000</td>\n",
       "      <td>0.173228</td>\n",
       "      <td>0.173228</td>\n",
       "      <td>0.826772</td>\n",
       "      <td>8.0</td>\n",
       "      <td>0.818898</td>\n",
       "      <td>0.322835</td>\n",
       "      <td>0.992126</td>\n",
       "    </tr>\n",
       "    <tr>\n",
       "      <th rowspan=\"2\" valign=\"top\">Dec</th>\n",
       "      <th>False</th>\n",
       "      <td>1.756860</td>\n",
       "      <td>64.622288</td>\n",
       "      <td>0.406250</td>\n",
       "      <td>28.581142</td>\n",
       "      <td>23.631860</td>\n",
       "      <td>929.073320</td>\n",
       "      <td>0.021784</td>\n",
       "      <td>0.045066</td>\n",
       "      <td>0.000000</td>\n",
       "      <td>0.000000</td>\n",
       "      <td>0.216463</td>\n",
       "      <td>0.192835</td>\n",
       "      <td>0.773628</td>\n",
       "      <td>12.0</td>\n",
       "      <td>0.440549</td>\n",
       "      <td>0.170732</td>\n",
       "      <td>0.996951</td>\n",
       "    </tr>\n",
       "    <tr>\n",
       "      <th>True</th>\n",
       "      <td>3.853659</td>\n",
       "      <td>134.223614</td>\n",
       "      <td>0.867209</td>\n",
       "      <td>69.488566</td>\n",
       "      <td>44.303523</td>\n",
       "      <td>1796.452217</td>\n",
       "      <td>0.004581</td>\n",
       "      <td>0.019419</td>\n",
       "      <td>31.242365</td>\n",
       "      <td>0.000000</td>\n",
       "      <td>0.189702</td>\n",
       "      <td>0.208672</td>\n",
       "      <td>0.753388</td>\n",
       "      <td>12.0</td>\n",
       "      <td>0.788618</td>\n",
       "      <td>0.298103</td>\n",
       "      <td>1.000000</td>\n",
       "    </tr>\n",
       "    <tr>\n",
       "      <th rowspan=\"2\" valign=\"top\">Feb</th>\n",
       "      <th>False</th>\n",
       "      <td>0.377143</td>\n",
       "      <td>9.192048</td>\n",
       "      <td>0.074286</td>\n",
       "      <td>1.822857</td>\n",
       "      <td>10.571429</td>\n",
       "      <td>451.513972</td>\n",
       "      <td>0.045686</td>\n",
       "      <td>0.073737</td>\n",
       "      <td>0.000000</td>\n",
       "      <td>0.232000</td>\n",
       "      <td>0.154286</td>\n",
       "      <td>0.005714</td>\n",
       "      <td>0.994286</td>\n",
       "      <td>2.0</td>\n",
       "      <td>0.137143</td>\n",
       "      <td>0.045714</td>\n",
       "      <td>0.994286</td>\n",
       "    </tr>\n",
       "    <tr>\n",
       "      <th>True</th>\n",
       "      <td>5.666667</td>\n",
       "      <td>249.319445</td>\n",
       "      <td>0.500000</td>\n",
       "      <td>20.000000</td>\n",
       "      <td>34.166667</td>\n",
       "      <td>1275.291667</td>\n",
       "      <td>0.009471</td>\n",
       "      <td>0.023224</td>\n",
       "      <td>27.304457</td>\n",
       "      <td>0.400000</td>\n",
       "      <td>0.166667</td>\n",
       "      <td>0.000000</td>\n",
       "      <td>1.000000</td>\n",
       "      <td>2.0</td>\n",
       "      <td>1.000000</td>\n",
       "      <td>0.333333</td>\n",
       "      <td>1.000000</td>\n",
       "    </tr>\n",
       "    <tr>\n",
       "      <th rowspan=\"2\" valign=\"top\">Jul</th>\n",
       "      <th>False</th>\n",
       "      <td>1.650327</td>\n",
       "      <td>59.613577</td>\n",
       "      <td>0.346405</td>\n",
       "      <td>27.608170</td>\n",
       "      <td>27.833333</td>\n",
       "      <td>883.608001</td>\n",
       "      <td>0.031140</td>\n",
       "      <td>0.053452</td>\n",
       "      <td>0.000000</td>\n",
       "      <td>0.000000</td>\n",
       "      <td>0.241830</td>\n",
       "      <td>0.127451</td>\n",
       "      <td>0.872549</td>\n",
       "      <td>7.0</td>\n",
       "      <td>0.473856</td>\n",
       "      <td>0.153595</td>\n",
       "      <td>1.000000</td>\n",
       "    </tr>\n",
       "    <tr>\n",
       "      <th>True</th>\n",
       "      <td>4.250000</td>\n",
       "      <td>109.493077</td>\n",
       "      <td>0.916667</td>\n",
       "      <td>89.101806</td>\n",
       "      <td>54.475000</td>\n",
       "      <td>1903.480050</td>\n",
       "      <td>0.009113</td>\n",
       "      <td>0.025706</td>\n",
       "      <td>14.684871</td>\n",
       "      <td>0.000000</td>\n",
       "      <td>0.225000</td>\n",
       "      <td>0.116667</td>\n",
       "      <td>0.883333</td>\n",
       "      <td>7.0</td>\n",
       "      <td>0.858333</td>\n",
       "      <td>0.425000</td>\n",
       "      <td>1.000000</td>\n",
       "    </tr>\n",
       "    <tr>\n",
       "      <th rowspan=\"2\" valign=\"top\">June</th>\n",
       "      <th>False</th>\n",
       "      <td>1.520179</td>\n",
       "      <td>34.395230</td>\n",
       "      <td>0.408072</td>\n",
       "      <td>16.672571</td>\n",
       "      <td>27.825112</td>\n",
       "      <td>911.694312</td>\n",
       "      <td>0.040538</td>\n",
       "      <td>0.065623</td>\n",
       "      <td>0.000000</td>\n",
       "      <td>0.000000</td>\n",
       "      <td>0.165919</td>\n",
       "      <td>0.094170</td>\n",
       "      <td>0.901345</td>\n",
       "      <td>6.0</td>\n",
       "      <td>0.394619</td>\n",
       "      <td>0.161435</td>\n",
       "      <td>0.995516</td>\n",
       "    </tr>\n",
       "    <tr>\n",
       "      <th>True</th>\n",
       "      <td>5.016949</td>\n",
       "      <td>146.308166</td>\n",
       "      <td>1.101695</td>\n",
       "      <td>31.549266</td>\n",
       "      <td>68.271186</td>\n",
       "      <td>2362.866365</td>\n",
       "      <td>0.007386</td>\n",
       "      <td>0.024909</td>\n",
       "      <td>16.554824</td>\n",
       "      <td>0.000000</td>\n",
       "      <td>0.169492</td>\n",
       "      <td>0.135593</td>\n",
       "      <td>0.864407</td>\n",
       "      <td>6.0</td>\n",
       "      <td>0.881356</td>\n",
       "      <td>0.423729</td>\n",
       "      <td>1.000000</td>\n",
       "    </tr>\n",
       "    <tr>\n",
       "      <th rowspan=\"2\" valign=\"top\">Mar</th>\n",
       "      <th>False</th>\n",
       "      <td>1.489046</td>\n",
       "      <td>55.190901</td>\n",
       "      <td>0.278995</td>\n",
       "      <td>20.837400</td>\n",
       "      <td>16.612113</td>\n",
       "      <td>670.404739</td>\n",
       "      <td>0.020103</td>\n",
       "      <td>0.045478</td>\n",
       "      <td>0.000000</td>\n",
       "      <td>0.000000</td>\n",
       "      <td>0.251289</td>\n",
       "      <td>0.117912</td>\n",
       "      <td>0.882088</td>\n",
       "      <td>3.0</td>\n",
       "      <td>0.438144</td>\n",
       "      <td>0.132732</td>\n",
       "      <td>0.998067</td>\n",
       "    </tr>\n",
       "    <tr>\n",
       "      <th>True</th>\n",
       "      <td>4.190972</td>\n",
       "      <td>165.350445</td>\n",
       "      <td>1.197917</td>\n",
       "      <td>87.800543</td>\n",
       "      <td>39.541667</td>\n",
       "      <td>1686.927938</td>\n",
       "      <td>0.003756</td>\n",
       "      <td>0.017226</td>\n",
       "      <td>25.783715</td>\n",
       "      <td>0.000000</td>\n",
       "      <td>0.274306</td>\n",
       "      <td>0.152778</td>\n",
       "      <td>0.847222</td>\n",
       "      <td>3.0</td>\n",
       "      <td>0.829861</td>\n",
       "      <td>0.437500</td>\n",
       "      <td>1.000000</td>\n",
       "    </tr>\n",
       "    <tr>\n",
       "      <th rowspan=\"2\" valign=\"top\">May</th>\n",
       "      <th>False</th>\n",
       "      <td>1.339202</td>\n",
       "      <td>49.539857</td>\n",
       "      <td>0.268388</td>\n",
       "      <td>15.163563</td>\n",
       "      <td>20.672926</td>\n",
       "      <td>735.019722</td>\n",
       "      <td>0.030701</td>\n",
       "      <td>0.055188</td>\n",
       "      <td>0.000000</td>\n",
       "      <td>0.238498</td>\n",
       "      <td>0.201487</td>\n",
       "      <td>0.084898</td>\n",
       "      <td>0.915102</td>\n",
       "      <td>5.0</td>\n",
       "      <td>0.386933</td>\n",
       "      <td>0.132629</td>\n",
       "      <td>0.995696</td>\n",
       "    </tr>\n",
       "    <tr>\n",
       "      <th>True</th>\n",
       "      <td>4.206086</td>\n",
       "      <td>143.028633</td>\n",
       "      <td>0.980636</td>\n",
       "      <td>69.422960</td>\n",
       "      <td>47.991701</td>\n",
       "      <td>1881.174685</td>\n",
       "      <td>0.005925</td>\n",
       "      <td>0.020198</td>\n",
       "      <td>24.799957</td>\n",
       "      <td>0.130567</td>\n",
       "      <td>0.258645</td>\n",
       "      <td>0.134163</td>\n",
       "      <td>0.865837</td>\n",
       "      <td>5.0</td>\n",
       "      <td>0.800830</td>\n",
       "      <td>0.417704</td>\n",
       "      <td>1.000000</td>\n",
       "    </tr>\n",
       "    <tr>\n",
       "      <th rowspan=\"2\" valign=\"top\">Nov</th>\n",
       "      <th>False</th>\n",
       "      <td>1.658787</td>\n",
       "      <td>58.749190</td>\n",
       "      <td>0.405447</td>\n",
       "      <td>28.697411</td>\n",
       "      <td>32.307297</td>\n",
       "      <td>1230.562567</td>\n",
       "      <td>0.024395</td>\n",
       "      <td>0.045931</td>\n",
       "      <td>0.000000</td>\n",
       "      <td>0.000000</td>\n",
       "      <td>0.255910</td>\n",
       "      <td>0.142857</td>\n",
       "      <td>0.847893</td>\n",
       "      <td>11.0</td>\n",
       "      <td>0.432169</td>\n",
       "      <td>0.180370</td>\n",
       "      <td>0.995375</td>\n",
       "    </tr>\n",
       "    <tr>\n",
       "      <th>True</th>\n",
       "      <td>4.449449</td>\n",
       "      <td>153.385050</td>\n",
       "      <td>1.091091</td>\n",
       "      <td>71.910678</td>\n",
       "      <td>72.239239</td>\n",
       "      <td>2762.119664</td>\n",
       "      <td>0.006671</td>\n",
       "      <td>0.020937</td>\n",
       "      <td>21.073252</td>\n",
       "      <td>0.000000</td>\n",
       "      <td>0.284284</td>\n",
       "      <td>0.138138</td>\n",
       "      <td>0.857858</td>\n",
       "      <td>11.0</td>\n",
       "      <td>0.778779</td>\n",
       "      <td>0.407407</td>\n",
       "      <td>0.996997</td>\n",
       "    </tr>\n",
       "    <tr>\n",
       "      <th rowspan=\"2\" valign=\"top\">Oct</th>\n",
       "      <th>False</th>\n",
       "      <td>3.337079</td>\n",
       "      <td>115.110302</td>\n",
       "      <td>0.382022</td>\n",
       "      <td>17.639442</td>\n",
       "      <td>29.362360</td>\n",
       "      <td>903.316122</td>\n",
       "      <td>0.014027</td>\n",
       "      <td>0.032195</td>\n",
       "      <td>0.000000</td>\n",
       "      <td>0.000000</td>\n",
       "      <td>0.283708</td>\n",
       "      <td>0.255618</td>\n",
       "      <td>0.744382</td>\n",
       "      <td>10.0</td>\n",
       "      <td>0.800562</td>\n",
       "      <td>0.210674</td>\n",
       "      <td>0.991573</td>\n",
       "    </tr>\n",
       "    <tr>\n",
       "      <th>True</th>\n",
       "      <td>4.607735</td>\n",
       "      <td>151.743577</td>\n",
       "      <td>0.723757</td>\n",
       "      <td>82.555254</td>\n",
       "      <td>42.740331</td>\n",
       "      <td>1555.444325</td>\n",
       "      <td>0.007282</td>\n",
       "      <td>0.022462</td>\n",
       "      <td>25.285966</td>\n",
       "      <td>0.000000</td>\n",
       "      <td>0.237569</td>\n",
       "      <td>0.176796</td>\n",
       "      <td>0.823204</td>\n",
       "      <td>10.0</td>\n",
       "      <td>0.812155</td>\n",
       "      <td>0.292818</td>\n",
       "      <td>0.994475</td>\n",
       "    </tr>\n",
       "    <tr>\n",
       "      <th rowspan=\"2\" valign=\"top\">Sep</th>\n",
       "      <th>False</th>\n",
       "      <td>2.982935</td>\n",
       "      <td>96.798306</td>\n",
       "      <td>0.460751</td>\n",
       "      <td>15.380887</td>\n",
       "      <td>27.529010</td>\n",
       "      <td>1050.520047</td>\n",
       "      <td>0.015397</td>\n",
       "      <td>0.033973</td>\n",
       "      <td>0.000000</td>\n",
       "      <td>0.000000</td>\n",
       "      <td>0.184300</td>\n",
       "      <td>0.249147</td>\n",
       "      <td>0.750853</td>\n",
       "      <td>9.0</td>\n",
       "      <td>0.720137</td>\n",
       "      <td>0.208191</td>\n",
       "      <td>1.000000</td>\n",
       "    </tr>\n",
       "    <tr>\n",
       "      <th>True</th>\n",
       "      <td>3.973684</td>\n",
       "      <td>133.186525</td>\n",
       "      <td>0.736842</td>\n",
       "      <td>74.823916</td>\n",
       "      <td>44.243421</td>\n",
       "      <td>1662.989238</td>\n",
       "      <td>0.006229</td>\n",
       "      <td>0.023653</td>\n",
       "      <td>22.272749</td>\n",
       "      <td>0.000000</td>\n",
       "      <td>0.269737</td>\n",
       "      <td>0.210526</td>\n",
       "      <td>0.789474</td>\n",
       "      <td>9.0</td>\n",
       "      <td>0.802632</td>\n",
       "      <td>0.256579</td>\n",
       "      <td>0.993421</td>\n",
       "    </tr>\n",
       "  </tbody>\n",
       "</table>\n",
       "</div>"
      ],
      "text/plain": [
       "               Administrative  Administrative_Duration  Informational  \\\n",
       "Month Revenue                                                           \n",
       "Aug   False          2.656667                77.800624       0.456667   \n",
       "      True           4.362205               178.905500       0.771654   \n",
       "Dec   False          1.756860                64.622288       0.406250   \n",
       "      True           3.853659               134.223614       0.867209   \n",
       "Feb   False          0.377143                 9.192048       0.074286   \n",
       "      True           5.666667               249.319445       0.500000   \n",
       "Jul   False          1.650327                59.613577       0.346405   \n",
       "      True           4.250000               109.493077       0.916667   \n",
       "June  False          1.520179                34.395230       0.408072   \n",
       "      True           5.016949               146.308166       1.101695   \n",
       "Mar   False          1.489046                55.190901       0.278995   \n",
       "      True           4.190972               165.350445       1.197917   \n",
       "May   False          1.339202                49.539857       0.268388   \n",
       "      True           4.206086               143.028633       0.980636   \n",
       "Nov   False          1.658787                58.749190       0.405447   \n",
       "      True           4.449449               153.385050       1.091091   \n",
       "Oct   False          3.337079               115.110302       0.382022   \n",
       "      True           4.607735               151.743577       0.723757   \n",
       "Sep   False          2.982935                96.798306       0.460751   \n",
       "      True           3.973684               133.186525       0.736842   \n",
       "\n",
       "               Informational_Duration  ProductRelated  \\\n",
       "Month Revenue                                           \n",
       "Aug   False                 26.246333       29.693333   \n",
       "      True                  59.085197       59.228346   \n",
       "Dec   False                 28.581142       23.631860   \n",
       "      True                  69.488566       44.303523   \n",
       "Feb   False                  1.822857       10.571429   \n",
       "      True                  20.000000       34.166667   \n",
       "Jul   False                 27.608170       27.833333   \n",
       "      True                  89.101806       54.475000   \n",
       "June  False                 16.672571       27.825112   \n",
       "      True                  31.549266       68.271186   \n",
       "Mar   False                 20.837400       16.612113   \n",
       "      True                  87.800543       39.541667   \n",
       "May   False                 15.163563       20.672926   \n",
       "      True                  69.422960       47.991701   \n",
       "Nov   False                 28.697411       32.307297   \n",
       "      True                  71.910678       72.239239   \n",
       "Oct   False                 17.639442       29.362360   \n",
       "      True                  82.555254       42.740331   \n",
       "Sep   False                 15.380887       27.529010   \n",
       "      True                  74.823916       44.243421   \n",
       "\n",
       "               ProductRelated_Duration  BounceRates  ExitRates  PageValues  \\\n",
       "Month Revenue                                                                \n",
       "Aug   False                 971.502762     0.023248   0.045580    0.000000   \n",
       "      True                 2015.240448     0.006279   0.019377   19.418265   \n",
       "Dec   False                 929.073320     0.021784   0.045066    0.000000   \n",
       "      True                 1796.452217     0.004581   0.019419   31.242365   \n",
       "Feb   False                 451.513972     0.045686   0.073737    0.000000   \n",
       "      True                 1275.291667     0.009471   0.023224   27.304457   \n",
       "Jul   False                 883.608001     0.031140   0.053452    0.000000   \n",
       "      True                 1903.480050     0.009113   0.025706   14.684871   \n",
       "June  False                 911.694312     0.040538   0.065623    0.000000   \n",
       "      True                 2362.866365     0.007386   0.024909   16.554824   \n",
       "Mar   False                 670.404739     0.020103   0.045478    0.000000   \n",
       "      True                 1686.927938     0.003756   0.017226   25.783715   \n",
       "May   False                 735.019722     0.030701   0.055188    0.000000   \n",
       "      True                 1881.174685     0.005925   0.020198   24.799957   \n",
       "Nov   False                1230.562567     0.024395   0.045931    0.000000   \n",
       "      True                 2762.119664     0.006671   0.020937   21.073252   \n",
       "Oct   False                 903.316122     0.014027   0.032195    0.000000   \n",
       "      True                 1555.444325     0.007282   0.022462   25.285966   \n",
       "Sep   False                1050.520047     0.015397   0.033973    0.000000   \n",
       "      True                 1662.989238     0.006229   0.023653   22.272749   \n",
       "\n",
       "               SpecialDay   Weekend  NewVisitor  ReturnVisitor  MonthNum  \\\n",
       "Month Revenue                                                              \n",
       "Aug   False      0.000000  0.246667    0.166667       0.833333       8.0   \n",
       "      True       0.000000  0.173228    0.173228       0.826772       8.0   \n",
       "Dec   False      0.000000  0.216463    0.192835       0.773628      12.0   \n",
       "      True       0.000000  0.189702    0.208672       0.753388      12.0   \n",
       "Feb   False      0.232000  0.154286    0.005714       0.994286       2.0   \n",
       "      True       0.400000  0.166667    0.000000       1.000000       2.0   \n",
       "Jul   False      0.000000  0.241830    0.127451       0.872549       7.0   \n",
       "      True       0.000000  0.225000    0.116667       0.883333       7.0   \n",
       "June  False      0.000000  0.165919    0.094170       0.901345       6.0   \n",
       "      True       0.000000  0.169492    0.135593       0.864407       6.0   \n",
       "Mar   False      0.000000  0.251289    0.117912       0.882088       3.0   \n",
       "      True       0.000000  0.274306    0.152778       0.847222       3.0   \n",
       "May   False      0.238498  0.201487    0.084898       0.915102       5.0   \n",
       "      True       0.130567  0.258645    0.134163       0.865837       5.0   \n",
       "Nov   False      0.000000  0.255910    0.142857       0.847893      11.0   \n",
       "      True       0.000000  0.284284    0.138138       0.857858      11.0   \n",
       "Oct   False      0.000000  0.283708    0.255618       0.744382      10.0   \n",
       "      True       0.000000  0.237569    0.176796       0.823204      10.0   \n",
       "Sep   False      0.000000  0.184300    0.249147       0.750853       9.0   \n",
       "      True       0.000000  0.269737    0.210526       0.789474       9.0   \n",
       "\n",
       "               AdministrativeYN  InformationalYN  ProductRelatedYN  \n",
       "Month Revenue                                                       \n",
       "Aug   False            0.626667         0.210000          1.000000  \n",
       "      True             0.818898         0.322835          0.992126  \n",
       "Dec   False            0.440549         0.170732          0.996951  \n",
       "      True             0.788618         0.298103          1.000000  \n",
       "Feb   False            0.137143         0.045714          0.994286  \n",
       "      True             1.000000         0.333333          1.000000  \n",
       "Jul   False            0.473856         0.153595          1.000000  \n",
       "      True             0.858333         0.425000          1.000000  \n",
       "June  False            0.394619         0.161435          0.995516  \n",
       "      True             0.881356         0.423729          1.000000  \n",
       "Mar   False            0.438144         0.132732          0.998067  \n",
       "      True             0.829861         0.437500          1.000000  \n",
       "May   False            0.386933         0.132629          0.995696  \n",
       "      True             0.800830         0.417704          1.000000  \n",
       "Nov   False            0.432169         0.180370          0.995375  \n",
       "      True             0.778779         0.407407          0.996997  \n",
       "Oct   False            0.800562         0.210674          0.991573  \n",
       "      True             0.812155         0.292818          0.994475  \n",
       "Sep   False            0.720137         0.208191          1.000000  \n",
       "      True             0.802632         0.256579          0.993421  "
      ]
     },
     "execution_count": 68,
     "metadata": {},
     "output_type": "execute_result"
    }
   ],
   "source": [
    "eCommerceDF.groupby(by = [\"Month\",\"Revenue\"]).mean()"
   ]
  },
  {
   "cell_type": "code",
   "execution_count": 69,
   "metadata": {
    "scrolled": true
   },
   "outputs": [
    {
     "data": {
      "text/plain": [
       "Text(0, 0.5, 'Frequency of Purchase')"
      ]
     },
     "execution_count": 69,
     "metadata": {},
     "output_type": "execute_result"
    },
    {
     "data": {
      "image/png": "[encoded data removed]",
      "text/plain": [
       "<Figure size 432x288 with 1 Axes>"
      ]
     },
     "metadata": {
      "needs_background": "light"
     },
     "output_type": "display_data"
    }
   ],
   "source": [
    "%matplotlib inline\n",
    "pd.crosstab(eCommerceDF.Month,eCommerceDF.Revenue).plot(kind='bar')\n",
    "plt.title('Purchase Frequency By Month')\n",
    "plt.xlabel('Month')\n",
    "plt.ylabel('Frequency of Purchase')"
   ]
  },
  {
   "cell_type": "code",
   "execution_count": 70,
   "metadata": {},
   "outputs": [],
   "source": [
    "#########INSIGHT\n",
    "\n",
    "#Month is a predictor of revenue\n",
    "#November yields a higher chance of purchase\n",
    "#Visulaize Special Day Revenue Count for month of November could be interesting"
   ]
  },
  {
   "cell_type": "markdown",
   "metadata": {},
   "source": [
    "#### Visitor Type and Revenue"
   ]
  },
  {
   "cell_type": "code",
   "execution_count": 71,
   "metadata": {
    "scrolled": true
   },
   "outputs": [
    {
     "data": {
      "text/html": [
       "<div>\n",
       "<style scoped>\n",
       "    .dataframe tbody tr th:only-of-type {\n",
       "        vertical-align: middle;\n",
       "    }\n",
       "\n",
       "    .dataframe tbody tr th {\n",
       "        vertical-align: top;\n",
       "    }\n",
       "\n",
       "    .dataframe thead th {\n",
       "        text-align: right;\n",
       "    }\n",
       "</style>\n",
       "<table border=\"1\" class=\"dataframe\">\n",
       "  <thead>\n",
       "    <tr style=\"text-align: right;\">\n",
       "      <th></th>\n",
       "      <th>Administrative</th>\n",
       "      <th>Administrative_Duration</th>\n",
       "      <th>Informational</th>\n",
       "      <th>Informational_Duration</th>\n",
       "      <th>ProductRelated</th>\n",
       "      <th>ProductRelated_Duration</th>\n",
       "      <th>BounceRates</th>\n",
       "      <th>ExitRates</th>\n",
       "      <th>PageValues</th>\n",
       "      <th>SpecialDay</th>\n",
       "      <th>...</th>\n",
       "      <th>Revenue</th>\n",
       "      <th>NewVisitor</th>\n",
       "      <th>ReturnVisitor</th>\n",
       "      <th>MonthNum</th>\n",
       "      <th>AdministrativeYN</th>\n",
       "      <th>InformationalYN</th>\n",
       "      <th>ProductRelatedYN</th>\n",
       "      <th>Administrative_Duration_Cat</th>\n",
       "      <th>Informational_Duration_Cat</th>\n",
       "      <th>ProductRelated_Duration_Cat</th>\n",
       "    </tr>\n",
       "    <tr>\n",
       "      <th>VisitorType</th>\n",
       "      <th></th>\n",
       "      <th></th>\n",
       "      <th></th>\n",
       "      <th></th>\n",
       "      <th></th>\n",
       "      <th></th>\n",
       "      <th></th>\n",
       "      <th></th>\n",
       "      <th></th>\n",
       "      <th></th>\n",
       "      <th></th>\n",
       "      <th></th>\n",
       "      <th></th>\n",
       "      <th></th>\n",
       "      <th></th>\n",
       "      <th></th>\n",
       "      <th></th>\n",
       "      <th></th>\n",
       "      <th></th>\n",
       "      <th></th>\n",
       "      <th></th>\n",
       "    </tr>\n",
       "  </thead>\n",
       "  <tbody>\n",
       "    <tr>\n",
       "      <th>New_Visitor</th>\n",
       "      <td>1670</td>\n",
       "      <td>1670</td>\n",
       "      <td>1670</td>\n",
       "      <td>1670</td>\n",
       "      <td>1670</td>\n",
       "      <td>1670</td>\n",
       "      <td>1670</td>\n",
       "      <td>1670</td>\n",
       "      <td>1670</td>\n",
       "      <td>1670</td>\n",
       "      <td>...</td>\n",
       "      <td>1670</td>\n",
       "      <td>1670</td>\n",
       "      <td>1670</td>\n",
       "      <td>1670</td>\n",
       "      <td>1670</td>\n",
       "      <td>1670</td>\n",
       "      <td>1670</td>\n",
       "      <td>1670</td>\n",
       "      <td>1670</td>\n",
       "      <td>1670</td>\n",
       "    </tr>\n",
       "    <tr>\n",
       "      <th>Other</th>\n",
       "      <td>81</td>\n",
       "      <td>81</td>\n",
       "      <td>81</td>\n",
       "      <td>81</td>\n",
       "      <td>81</td>\n",
       "      <td>81</td>\n",
       "      <td>81</td>\n",
       "      <td>81</td>\n",
       "      <td>81</td>\n",
       "      <td>81</td>\n",
       "      <td>...</td>\n",
       "      <td>81</td>\n",
       "      <td>81</td>\n",
       "      <td>81</td>\n",
       "      <td>81</td>\n",
       "      <td>81</td>\n",
       "      <td>81</td>\n",
       "      <td>81</td>\n",
       "      <td>81</td>\n",
       "      <td>81</td>\n",
       "      <td>81</td>\n",
       "    </tr>\n",
       "    <tr>\n",
       "      <th>Returning_Visitor</th>\n",
       "      <td>10292</td>\n",
       "      <td>10292</td>\n",
       "      <td>10292</td>\n",
       "      <td>10292</td>\n",
       "      <td>10292</td>\n",
       "      <td>10292</td>\n",
       "      <td>10292</td>\n",
       "      <td>10292</td>\n",
       "      <td>10292</td>\n",
       "      <td>10292</td>\n",
       "      <td>...</td>\n",
       "      <td>10292</td>\n",
       "      <td>10292</td>\n",
       "      <td>10292</td>\n",
       "      <td>10292</td>\n",
       "      <td>10292</td>\n",
       "      <td>10292</td>\n",
       "      <td>10292</td>\n",
       "      <td>10292</td>\n",
       "      <td>10292</td>\n",
       "      <td>10292</td>\n",
       "    </tr>\n",
       "  </tbody>\n",
       "</table>\n",
       "<p>3 rows × 22 columns</p>\n",
       "</div>"
      ],
      "text/plain": [
       "                   Administrative  Administrative_Duration  Informational  \\\n",
       "VisitorType                                                                 \n",
       "New_Visitor                  1670                     1670           1670   \n",
       "Other                          81                       81             81   \n",
       "Returning_Visitor           10292                    10292          10292   \n",
       "\n",
       "                   Informational_Duration  ProductRelated  \\\n",
       "VisitorType                                                 \n",
       "New_Visitor                          1670            1670   \n",
       "Other                                  81              81   \n",
       "Returning_Visitor                   10292           10292   \n",
       "\n",
       "                   ProductRelated_Duration  BounceRates  ExitRates  \\\n",
       "VisitorType                                                          \n",
       "New_Visitor                           1670         1670       1670   \n",
       "Other                                   81           81         81   \n",
       "Returning_Visitor                    10292        10292      10292   \n",
       "\n",
       "                   PageValues  SpecialDay  ...  Revenue  NewVisitor  \\\n",
       "VisitorType                                ...                        \n",
       "New_Visitor              1670        1670  ...     1670        1670   \n",
       "Other                      81          81  ...       81          81   \n",
       "Returning_Visitor       10292       10292  ...    10292       10292   \n",
       "\n",
       "                   ReturnVisitor  MonthNum  AdministrativeYN  InformationalYN  \\\n",
       "VisitorType                                                                     \n",
       "New_Visitor                 1670      1670              1670             1670   \n",
       "Other                         81        81                81               81   \n",
       "Returning_Visitor          10292     10292             10292            10292   \n",
       "\n",
       "                   ProductRelatedYN  Administrative_Duration_Cat  \\\n",
       "VisitorType                                                        \n",
       "New_Visitor                    1670                         1670   \n",
       "Other                            81                           81   \n",
       "Returning_Visitor             10292                        10292   \n",
       "\n",
       "                   Informational_Duration_Cat  ProductRelated_Duration_Cat  \n",
       "VisitorType                                                                 \n",
       "New_Visitor                              1670                         1670  \n",
       "Other                                      81                           81  \n",
       "Returning_Visitor                       10292                        10292  \n",
       "\n",
       "[3 rows x 22 columns]"
      ]
     },
     "execution_count": 71,
     "metadata": {},
     "output_type": "execute_result"
    }
   ],
   "source": [
    "eCommerceDF.groupby(by=\"VisitorType\").count()"
   ]
  },
  {
   "cell_type": "code",
   "execution_count": 72,
   "metadata": {
    "scrolled": true
   },
   "outputs": [
    {
     "data": {
      "text/html": [
       "<div>\n",
       "<style scoped>\n",
       "    .dataframe tbody tr th:only-of-type {\n",
       "        vertical-align: middle;\n",
       "    }\n",
       "\n",
       "    .dataframe tbody tr th {\n",
       "        vertical-align: top;\n",
       "    }\n",
       "\n",
       "    .dataframe thead th {\n",
       "        text-align: right;\n",
       "    }\n",
       "</style>\n",
       "<table border=\"1\" class=\"dataframe\">\n",
       "  <thead>\n",
       "    <tr style=\"text-align: right;\">\n",
       "      <th></th>\n",
       "      <th></th>\n",
       "      <th>Administrative</th>\n",
       "      <th>Administrative_Duration</th>\n",
       "      <th>Informational</th>\n",
       "      <th>Informational_Duration</th>\n",
       "      <th>ProductRelated</th>\n",
       "      <th>ProductRelated_Duration</th>\n",
       "      <th>BounceRates</th>\n",
       "      <th>ExitRates</th>\n",
       "      <th>PageValues</th>\n",
       "      <th>SpecialDay</th>\n",
       "      <th>...</th>\n",
       "      <th>Weekend</th>\n",
       "      <th>NewVisitor</th>\n",
       "      <th>ReturnVisitor</th>\n",
       "      <th>MonthNum</th>\n",
       "      <th>AdministrativeYN</th>\n",
       "      <th>InformationalYN</th>\n",
       "      <th>ProductRelatedYN</th>\n",
       "      <th>Administrative_Duration_Cat</th>\n",
       "      <th>Informational_Duration_Cat</th>\n",
       "      <th>ProductRelated_Duration_Cat</th>\n",
       "    </tr>\n",
       "    <tr>\n",
       "      <th>VisitorType</th>\n",
       "      <th>Revenue</th>\n",
       "      <th></th>\n",
       "      <th></th>\n",
       "      <th></th>\n",
       "      <th></th>\n",
       "      <th></th>\n",
       "      <th></th>\n",
       "      <th></th>\n",
       "      <th></th>\n",
       "      <th></th>\n",
       "      <th></th>\n",
       "      <th></th>\n",
       "      <th></th>\n",
       "      <th></th>\n",
       "      <th></th>\n",
       "      <th></th>\n",
       "      <th></th>\n",
       "      <th></th>\n",
       "      <th></th>\n",
       "      <th></th>\n",
       "      <th></th>\n",
       "      <th></th>\n",
       "    </tr>\n",
       "  </thead>\n",
       "  <tbody>\n",
       "    <tr>\n",
       "      <th rowspan=\"2\" valign=\"top\">New_Visitor</th>\n",
       "      <th>False</th>\n",
       "      <td>1206</td>\n",
       "      <td>1206</td>\n",
       "      <td>1206</td>\n",
       "      <td>1206</td>\n",
       "      <td>1206</td>\n",
       "      <td>1206</td>\n",
       "      <td>1206</td>\n",
       "      <td>1206</td>\n",
       "      <td>1206</td>\n",
       "      <td>1206</td>\n",
       "      <td>...</td>\n",
       "      <td>1206</td>\n",
       "      <td>1206</td>\n",
       "      <td>1206</td>\n",
       "      <td>1206</td>\n",
       "      <td>1206</td>\n",
       "      <td>1206</td>\n",
       "      <td>1206</td>\n",
       "      <td>1206</td>\n",
       "      <td>1206</td>\n",
       "      <td>1206</td>\n",
       "    </tr>\n",
       "    <tr>\n",
       "      <th>True</th>\n",
       "      <td>464</td>\n",
       "      <td>464</td>\n",
       "      <td>464</td>\n",
       "      <td>464</td>\n",
       "      <td>464</td>\n",
       "      <td>464</td>\n",
       "      <td>464</td>\n",
       "      <td>464</td>\n",
       "      <td>464</td>\n",
       "      <td>464</td>\n",
       "      <td>...</td>\n",
       "      <td>464</td>\n",
       "      <td>464</td>\n",
       "      <td>464</td>\n",
       "      <td>464</td>\n",
       "      <td>464</td>\n",
       "      <td>464</td>\n",
       "      <td>464</td>\n",
       "      <td>464</td>\n",
       "      <td>464</td>\n",
       "      <td>464</td>\n",
       "    </tr>\n",
       "    <tr>\n",
       "      <th rowspan=\"2\" valign=\"top\">Other</th>\n",
       "      <th>False</th>\n",
       "      <td>63</td>\n",
       "      <td>63</td>\n",
       "      <td>63</td>\n",
       "      <td>63</td>\n",
       "      <td>63</td>\n",
       "      <td>63</td>\n",
       "      <td>63</td>\n",
       "      <td>63</td>\n",
       "      <td>63</td>\n",
       "      <td>63</td>\n",
       "      <td>...</td>\n",
       "      <td>63</td>\n",
       "      <td>63</td>\n",
       "      <td>63</td>\n",
       "      <td>63</td>\n",
       "      <td>63</td>\n",
       "      <td>63</td>\n",
       "      <td>63</td>\n",
       "      <td>63</td>\n",
       "      <td>63</td>\n",
       "      <td>63</td>\n",
       "    </tr>\n",
       "    <tr>\n",
       "      <th>True</th>\n",
       "      <td>18</td>\n",
       "      <td>18</td>\n",
       "      <td>18</td>\n",
       "      <td>18</td>\n",
       "      <td>18</td>\n",
       "      <td>18</td>\n",
       "      <td>18</td>\n",
       "      <td>18</td>\n",
       "      <td>18</td>\n",
       "      <td>18</td>\n",
       "      <td>...</td>\n",
       "      <td>18</td>\n",
       "      <td>18</td>\n",
       "      <td>18</td>\n",
       "      <td>18</td>\n",
       "      <td>18</td>\n",
       "      <td>18</td>\n",
       "      <td>18</td>\n",
       "      <td>18</td>\n",
       "      <td>18</td>\n",
       "      <td>18</td>\n",
       "    </tr>\n",
       "    <tr>\n",
       "      <th rowspan=\"2\" valign=\"top\">Returning_Visitor</th>\n",
       "      <th>False</th>\n",
       "      <td>7750</td>\n",
       "      <td>7750</td>\n",
       "      <td>7750</td>\n",
       "      <td>7750</td>\n",
       "      <td>7750</td>\n",
       "      <td>7750</td>\n",
       "      <td>7750</td>\n",
       "      <td>7750</td>\n",
       "      <td>7750</td>\n",
       "      <td>7750</td>\n",
       "      <td>...</td>\n",
       "      <td>7750</td>\n",
       "      <td>7750</td>\n",
       "      <td>7750</td>\n",
       "      <td>7750</td>\n",
       "      <td>7750</td>\n",
       "      <td>7750</td>\n",
       "      <td>7750</td>\n",
       "      <td>7750</td>\n",
       "      <td>7750</td>\n",
       "      <td>7750</td>\n",
       "    </tr>\n",
       "    <tr>\n",
       "      <th>True</th>\n",
       "      <td>2542</td>\n",
       "      <td>2542</td>\n",
       "      <td>2542</td>\n",
       "      <td>2542</td>\n",
       "      <td>2542</td>\n",
       "      <td>2542</td>\n",
       "      <td>2542</td>\n",
       "      <td>2542</td>\n",
       "      <td>2542</td>\n",
       "      <td>2542</td>\n",
       "      <td>...</td>\n",
       "      <td>2542</td>\n",
       "      <td>2542</td>\n",
       "      <td>2542</td>\n",
       "      <td>2542</td>\n",
       "      <td>2542</td>\n",
       "      <td>2542</td>\n",
       "      <td>2542</td>\n",
       "      <td>2542</td>\n",
       "      <td>2542</td>\n",
       "      <td>2542</td>\n",
       "    </tr>\n",
       "  </tbody>\n",
       "</table>\n",
       "<p>6 rows × 21 columns</p>\n",
       "</div>"
      ],
      "text/plain": [
       "                           Administrative  Administrative_Duration  \\\n",
       "VisitorType       Revenue                                            \n",
       "New_Visitor       False              1206                     1206   \n",
       "                  True                464                      464   \n",
       "Other             False                63                       63   \n",
       "                  True                 18                       18   \n",
       "Returning_Visitor False              7750                     7750   \n",
       "                  True               2542                     2542   \n",
       "\n",
       "                           Informational  Informational_Duration  \\\n",
       "VisitorType       Revenue                                          \n",
       "New_Visitor       False             1206                    1206   \n",
       "                  True               464                     464   \n",
       "Other             False               63                      63   \n",
       "                  True                18                      18   \n",
       "Returning_Visitor False             7750                    7750   \n",
       "                  True              2542                    2542   \n",
       "\n",
       "                           ProductRelated  ProductRelated_Duration  \\\n",
       "VisitorType       Revenue                                            \n",
       "New_Visitor       False              1206                     1206   \n",
       "                  True                464                      464   \n",
       "Other             False                63                       63   \n",
       "                  True                 18                       18   \n",
       "Returning_Visitor False              7750                     7750   \n",
       "                  True               2542                     2542   \n",
       "\n",
       "                           BounceRates  ExitRates  PageValues  SpecialDay  \\\n",
       "VisitorType       Revenue                                                   \n",
       "New_Visitor       False           1206       1206        1206        1206   \n",
       "                  True             464        464         464         464   \n",
       "Other             False             63         63          63          63   \n",
       "                  True              18         18          18          18   \n",
       "Returning_Visitor False           7750       7750        7750        7750   \n",
       "                  True            2542       2542        2542        2542   \n",
       "\n",
       "                           ...  Weekend  NewVisitor  ReturnVisitor  MonthNum  \\\n",
       "VisitorType       Revenue  ...                                                 \n",
       "New_Visitor       False    ...     1206        1206           1206      1206   \n",
       "                  True     ...      464         464            464       464   \n",
       "Other             False    ...       63          63             63        63   \n",
       "                  True     ...       18          18             18        18   \n",
       "Returning_Visitor False    ...     7750        7750           7750      7750   \n",
       "                  True     ...     2542        2542           2542      2542   \n",
       "\n",
       "                           AdministrativeYN  InformationalYN  \\\n",
       "VisitorType       Revenue                                      \n",
       "New_Visitor       False                1206             1206   \n",
       "                  True                  464              464   \n",
       "Other             False                  63               63   \n",
       "                  True                   18               18   \n",
       "Returning_Visitor False                7750             7750   \n",
       "                  True                 2542             2542   \n",
       "\n",
       "                           ProductRelatedYN  Administrative_Duration_Cat  \\\n",
       "VisitorType       Revenue                                                  \n",
       "New_Visitor       False                1206                         1206   \n",
       "                  True                  464                          464   \n",
       "Other             False                  63                           63   \n",
       "                  True                   18                           18   \n",
       "Returning_Visitor False                7750                         7750   \n",
       "                  True                 2542                         2542   \n",
       "\n",
       "                           Informational_Duration_Cat  \\\n",
       "VisitorType       Revenue                               \n",
       "New_Visitor       False                          1206   \n",
       "                  True                            464   \n",
       "Other             False                            63   \n",
       "                  True                             18   \n",
       "Returning_Visitor False                          7750   \n",
       "                  True                           2542   \n",
       "\n",
       "                           ProductRelated_Duration_Cat  \n",
       "VisitorType       Revenue                               \n",
       "New_Visitor       False                           1206  \n",
       "                  True                             464  \n",
       "Other             False                             63  \n",
       "                  True                              18  \n",
       "Returning_Visitor False                           7750  \n",
       "                  True                            2542  \n",
       "\n",
       "[6 rows x 21 columns]"
      ]
     },
     "execution_count": 72,
     "metadata": {},
     "output_type": "execute_result"
    }
   ],
   "source": [
    "eCommerceDF.groupby(by=[\"VisitorType\",\"Revenue\"]).count()"
   ]
  },
  {
   "cell_type": "code",
   "execution_count": 73,
   "metadata": {},
   "outputs": [
    {
     "data": {
      "text/plain": [
       "Text(0, 0.5, 'Frequency of Purchase')"
      ]
     },
     "execution_count": 73,
     "metadata": {},
     "output_type": "execute_result"
    },
    {
     "data": {
      "image/png": "[encoded data removed]",
      "text/plain": [
       "<Figure size 432x288 with 1 Axes>"
      ]
     },
     "metadata": {
      "needs_background": "light"
     },
     "output_type": "display_data"
    }
   ],
   "source": [
    "%matplotlib inline\n",
    "pd.crosstab(eCommerceDF.VisitorType,eCommerceDF.Revenue).plot(kind='bar')\n",
    "plt.title('Purchase Frequency By Visitor Type')\n",
    "plt.xlabel('VisitorType')\n",
    "plt.ylabel('Frequency of Purchase')"
   ]
  },
  {
   "cell_type": "code",
   "execution_count": 109,
   "metadata": {},
   "outputs": [
    {
     "name": "stdout",
     "output_type": "stream",
     "text": [
      "                   TotalVisitors  Revenue  Revenue %\n",
      "VisitorType                                         \n",
      "New_Visitor                 1670      464  27.784431\n",
      "Other                         81       18  22.222222\n",
      "Returning_Visitor          10292     2542  24.698795\n"
     ]
    }
   ],
   "source": [
    "visitordf = eCommerceDF.groupby(['VisitorType']).count()\n",
    "visitordf = pd.DataFrame(visitordf['Revenue'])\n",
    "#print(visitordf)\n",
    "\n",
    "revenuedf = eCommerceDF[eCommerceDF['Revenue']==1]\n",
    "revenuedf = revenuedf.groupby(['VisitorType']).count()\n",
    "revenuedf = pd.DataFrame(revenuedf['Revenue'])\n",
    "#print(revenuedf)\n",
    "\n",
    "mergeddf = pd.merge(visitordf,revenuedf, on='VisitorType')\n",
    "mergeddf = mergeddf.rename(columns={\"Revenue_x\": \"TotalVisitors\", \"Revenue_y\": \"Revenue\"})\n",
    "mergeddf['Revenue %'] = mergeddf['Revenue']/mergeddf['TotalVisitors']*100\n",
    "print(mergeddf)"
   ]
  },
  {
   "cell_type": "code",
   "execution_count": 74,
   "metadata": {},
   "outputs": [],
   "source": [
    "#########INSIGHT\n",
    "\n",
    "#No significant impact from visitor type"
   ]
  },
  {
   "cell_type": "markdown",
   "metadata": {},
   "source": [
    "#### Weekend and Revenue"
   ]
  },
  {
   "cell_type": "code",
   "execution_count": 75,
   "metadata": {
    "scrolled": true
   },
   "outputs": [
    {
     "data": {
      "text/plain": [
       "Text(0, 0.5, 'Frequency of Purchase')"
      ]
     },
     "execution_count": 75,
     "metadata": {},
     "output_type": "execute_result"
    },
    {
     "data": {
      "image/png": "[encoded data removed]",
      "text/plain": [
       "<Figure size 432x288 with 1 Axes>"
      ]
     },
     "metadata": {
      "needs_background": "light"
     },
     "output_type": "display_data"
    }
   ],
   "source": [
    "%matplotlib inline\n",
    "pd.crosstab(eCommerceDF.Weekend,eCommerceDF.Revenue).plot(kind='bar')\n",
    "plt.title('Purchase Frequency By Weekend')\n",
    "plt.xlabel('Weekend')\n",
    "plt.ylabel('Frequency of Purchase')\n",
    "\n"
   ]
  },
  {
   "cell_type": "code",
   "execution_count": 110,
   "metadata": {},
   "outputs": [
    {
     "name": "stdout",
     "output_type": "stream",
     "text": [
      "         WeekendCount  Revenue  Revenue %\n",
      "Weekend                                  \n",
      "False            9225     2260  24.498645\n",
      "True             2818      764  27.111427\n"
     ]
    }
   ],
   "source": [
    "weekenddf = eCommerceDF.groupby(['Weekend']).count()\n",
    "weekenddf = pd.DataFrame(weekenddf['Revenue'])\n",
    "#print(visitordf)\n",
    "\n",
    "revenuedf = eCommerceDF[eCommerceDF['Revenue']==1]\n",
    "revenuedf = revenuedf.groupby(['Weekend']).count()\n",
    "revenuedf = pd.DataFrame(revenuedf['Revenue'])\n",
    "#print(revenuedf)\n",
    "\n",
    "mergeddf = pd.merge(weekenddf,revenuedf, on='Weekend')\n",
    "mergeddf = mergeddf.rename(columns={\"Revenue_x\": \"WeekendCount\", \"Revenue_y\": \"Revenue\"})\n",
    "mergeddf['Revenue %'] = mergeddf['Revenue']/mergeddf['WeekendCount']*100\n",
    "print(mergeddf)"
   ]
  },
  {
   "cell_type": "code",
   "execution_count": 76,
   "metadata": {},
   "outputs": [],
   "source": [
    "#########INSIGHT\n",
    "\n",
    "#No significant impact from weekend "
   ]
  },
  {
   "cell_type": "markdown",
   "metadata": {},
   "source": [
    "## Data Analytics"
   ]
  },
  {
   "cell_type": "code",
   "execution_count": null,
   "metadata": {},
   "outputs": [],
   "source": []
  }
 ],
 "metadata": {
  "interpreter": {
   "hash": "f9b8210a67d4a5b974f0633f975e29130ba799535bb14bbb888dd93393bdb865"
  },
  "kernelspec": {
   "display_name": "Python 3 (ipykernel)",
   "language": "python",
   "name": "python3"
  },
  "language_info": {
   "codemirror_mode": {
    "name": "ipython",
    "version": 3
   },
   "file_extension": ".py",
   "mimetype": "text/x-python",
   "name": "python",
   "nbconvert_exporter": "python",
   "pygments_lexer": "ipython3",
   "version": "3.9.7"
  }
 },
 "nbformat": 4,
 "nbformat_minor": 2
}
