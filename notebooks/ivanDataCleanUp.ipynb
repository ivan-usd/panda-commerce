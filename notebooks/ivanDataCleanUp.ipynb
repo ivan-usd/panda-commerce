{
 "cells": [
  {
   "cell_type": "markdown",
   "metadata": {},
   "source": [
    "# Ivan's E-Commerce Exploratory NoteBook"
   ]
  },
  {
   "cell_type": "markdown",
   "metadata": {},
   "source": [
    "#####\n",
    "Data Importing and Pre-processing\n",
    "- Import dataset and describe characteristics such as dimensions, data types, file types, and import methods used\n",
    "- Clean, wrangle, and handle missing data\n",
    "- Transform data appropriately using techniques such as aggregation, normalization, and feature construction\n",
    "- Reduce redundant data and perform need based discretization\n",
    "\n",
    "Data Analysis and Visualization\n",
    "- Identify categorical, ordinal, and numerical variables within data\n",
    "- Provide measures of centrality and distribution with visualizations\n",
    "- Diagnose for correlations between variables and determine independent and dependent variables\n",
    "- Perform exploratory analysis in combination with visualization techniques to discover patterns and features of interest\n",
    "\n",
    "Data Analytics\n",
    "- Determine the need for a supervised or unsupervised learning method and identify dependent and independent variables\n",
    "- Train, test, and provide accuracy and evaluation metrics for model results\n",
    "\n",
    "Presentation\n",
    "- In a 5 to 10 minutes video, briefly explain the project workflow from the code and results in your markdown notebook\n",
    "State your findings from the data and provide the interpretation of results from your analysis at each stage in the project"
   ]
  },
  {
   "cell_type": "code",
   "execution_count": 16,
   "metadata": {},
   "outputs": [],
   "source": [
    "import numpy as np\n",
    "import pandas as pd\n",
    "import matplotlib as mpl\n",
    "import matplotlib.pyplot as plt\n",
    "import seaborn as sns"
   ]
  },
  {
   "cell_type": "markdown",
   "metadata": {},
   "source": [
    "#### Importing CSV Dataset from E-Commerce"
   ]
  },
  {
   "cell_type": "code",
   "execution_count": 15,
   "metadata": {},
   "outputs": [],
   "source": [
    "#Set File Path & import csv\n",
    "datasetFP = '../data/Dataset 3 (Online Shoppers Intention)/online_shoppers_intention.csv'\n",
    "eCommerceDF = pd.read_csv(datasetFP) "
   ]
  },
  {
   "cell_type": "markdown",
   "metadata": {},
   "source": [
    "#### Getting number of rows and columns"
   ]
  },
  {
   "cell_type": "code",
   "execution_count": 14,
   "metadata": {},
   "outputs": [
    {
     "data": {
      "text/plain": [
       "(12330, 18)"
      ]
     },
     "execution_count": 14,
     "metadata": {},
     "output_type": "execute_result"
    }
   ],
   "source": [
    "eCommerceDF.shape"
   ]
  },
  {
   "cell_type": "markdown",
   "metadata": {},
   "source": [
    "#### Found when Informational page = 0 Informational Duration = 0"
   ]
  },
  {
   "cell_type": "code",
   "execution_count": 17,
   "metadata": {},
   "outputs": [
    {
     "data": {
      "text/plain": [
       "Informational\n",
       "0.0        0.000000\n",
       "1.0       72.384123\n",
       "2.0      139.785144\n",
       "3.0      191.345717\n",
       "4.0      254.306293\n",
       "5.0      396.399345\n",
       "6.0      422.321253\n",
       "7.0      390.512416\n",
       "8.0      503.889031\n",
       "9.0      705.293704\n",
       "10.0     602.566667\n",
       "11.0    1258.833333\n",
       "12.0     651.145476\n",
       "13.0    1949.166667\n",
       "14.0     893.783334\n",
       "16.0    1210.397619\n",
       "24.0    2050.433333\n",
       "Name: Informational_Duration, dtype: float64"
      ]
     },
     "execution_count": 17,
     "metadata": {},
     "output_type": "execute_result"
    }
   ],
   "source": [
    "eCommerceDF.groupby(['Informational'])['Informational_Duration'].mean()"
   ]
  },
  {
   "cell_type": "code",
   "execution_count": 18,
   "metadata": {},
   "outputs": [],
   "source": [
    "eCommerceDF.loc[eCommerceDF['Informational'].isnull()&eCommerceDF['Informational_Duration'].notnull()&eCommerceDF['Informational_Duration'].eq(0),'Informational'] = 0"
   ]
  },
  {
   "cell_type": "markdown",
   "metadata": {},
   "source": [
    "#### Filling missing PageValue based on mean of Revenue when False"
   ]
  },
  {
   "cell_type": "code",
   "execution_count": 19,
   "metadata": {},
   "outputs": [
    {
     "data": {
      "text/plain": [
       "Revenue\n",
       "False     1.99\n",
       "True     27.35\n",
       "Name: PageValues, dtype: float64"
      ]
     },
     "execution_count": 19,
     "metadata": {},
     "output_type": "execute_result"
    }
   ],
   "source": [
    "revenueGroupBy = round(eCommerceDF.groupby(['Revenue'])['PageValues'].mean(),2)\n",
    "revenueGroupBy"
   ]
  },
  {
   "cell_type": "code",
   "execution_count": 20,
   "metadata": {},
   "outputs": [],
   "source": [
    "eCommerceDF.loc[eCommerceDF['PageValues'].isnull()&eCommerceDF['Revenue'].notnull()&eCommerceDF['Revenue'].eq(False),'PageValues'] = revenueGroupBy[0]"
   ]
  },
  {
   "cell_type": "markdown",
   "metadata": {},
   "source": [
    "#### Could not find a good way to fill for Operating Systems -> opted to drop remaining values ~1% dropped "
   ]
  },
  {
   "cell_type": "code",
   "execution_count": 23,
   "metadata": {},
   "outputs": [
    {
     "data": {
      "text/plain": [
       "12330"
      ]
     },
     "execution_count": 23,
     "metadata": {},
     "output_type": "execute_result"
    }
   ],
   "source": [
    "eCommerceDF.shape[0]"
   ]
  },
  {
   "cell_type": "code",
   "execution_count": 24,
   "metadata": {},
   "outputs": [],
   "source": [
    "eCommerceDF = eCommerceDF.dropna()"
   ]
  },
  {
   "cell_type": "code",
   "execution_count": 25,
   "metadata": {},
   "outputs": [
    {
     "data": {
      "text/plain": [
       "12164"
      ]
     },
     "execution_count": 25,
     "metadata": {},
     "output_type": "execute_result"
    }
   ],
   "source": [
    "eCommerceDF.shape[0]"
   ]
  },
  {
   "cell_type": "markdown",
   "metadata": {},
   "source": [
    "#### Log Normalized Data"
   ]
  },
  {
   "cell_type": "code",
   "execution_count": 29,
   "metadata": {},
   "outputs": [
    {
     "data": {
      "text/plain": [
       "Index(['Administrative', 'Administrative_Duration', 'Informational',\n",
       "       'Informational_Duration', 'ProductRelated', 'ProductRelated_Duration',\n",
       "       'BounceRates', 'ExitRates', 'PageValues', 'SpecialDay', 'Month',\n",
       "       'OperatingSystems', 'Browser', 'Region', 'TrafficType', 'VisitorType',\n",
       "       'Weekend', 'Revenue', 'Informational_log'],\n",
       "      dtype='object')"
      ]
     },
     "execution_count": 29,
     "metadata": {},
     "output_type": "execute_result"
    }
   ],
   "source": [
    "eCommerceDF.columns"
   ]
  },
  {
   "cell_type": "code",
   "execution_count": 30,
   "metadata": {},
   "outputs": [
    {
     "data": {
      "text/plain": [
       "<AxesSubplot:>"
      ]
     },
     "execution_count": 30,
     "metadata": {},
     "output_type": "execute_result"
    },
    {
     "data": {
      "image/png": "[encoded data removed]",
      "text/plain": [
       "<Figure size 432x288 with 1 Axes>"
      ]
     },
     "metadata": {
      "needs_background": "light"
     },
     "output_type": "display_data"
    }
   ],
   "source": [
    "eCommerceDF['Informational'].hist()"
   ]
  },
  {
   "cell_type": "code",
   "execution_count": 31,
   "metadata": {},
   "outputs": [],
   "source": [
    "eCommerceDF['Informational_log'] = np.log2(eCommerceDF['Informational'])"
   ]
  },
  {
   "cell_type": "code",
   "execution_count": 36,
   "metadata": {},
   "outputs": [
    {
     "data": {
      "text/plain": [
       "Administrative             0.137313\n",
       "Administrative_Duration    0.095587\n",
       "Informational              0.093731\n",
       "Informational_Duration     0.068876\n",
       "ProductRelated             0.158276\n",
       "ProductRelated_Duration    0.152177\n",
       "BounceRates               -0.150189\n",
       "ExitRates                 -0.206684\n",
       "PageValues                 0.492258\n",
       "SpecialDay                -0.084532\n",
       "OperatingSystems          -0.013245\n",
       "Browser                    0.023551\n",
       "Region                    -0.012348\n",
       "TrafficType               -0.002355\n",
       "Weekend                    0.030136\n",
       "Revenue                    1.000000\n",
       "Informational_log          0.027290\n",
       "Informational_sqrt         0.109714\n",
       "Name: Revenue, dtype: float64"
      ]
     },
     "execution_count": 36,
     "metadata": {},
     "output_type": "execute_result"
    }
   ],
   "source": [
    "eCommerceDF.corr()['Revenue']\n"
   ]
  },
  {
   "cell_type": "code",
   "execution_count": 40,
   "metadata": {},
   "outputs": [],
   "source": [
    "subset = eCommerceDF[eCommerceDF['Revenue']=='True']\n",
    "#subset.corr()"
   ]
  }
 ],
 "metadata": {
  "interpreter": {
   "hash": "edf72fecd2f8f7465faa8e2b6b0f77dc36bfd5180406b2b2f000eb58cd98d48a"
  },
  "kernelspec": {
   "display_name": "Python 3.8.8 64-bit ('base': conda)",
   "language": "python",
   "name": "python3"
  },
  "language_info": {
   "codemirror_mode": {
    "name": "ipython",
    "version": 3
   },
   "file_extension": ".py",
   "mimetype": "text/x-python",
   "name": "python",
   "nbconvert_exporter": "python",
   "pygments_lexer": "ipython3",
   "version": "3.8.8"
  },
  "orig_nbformat": 4
 },
 "nbformat": 4,
 "nbformat_minor": 2
}
