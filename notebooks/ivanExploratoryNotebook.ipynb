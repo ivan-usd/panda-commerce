{
 "cells": [
  {
   "cell_type": "markdown",
   "metadata": {},
   "source": [
    "# Ivan's E-Commerce Exploratory NoteBook"
   ]
  },
  {
   "cell_type": "markdown",
   "metadata": {},
   "source": [
    "#####\n",
    "Data Importing and Pre-processing\n",
    "- Import dataset and describe characteristics such as dimensions, data types, file types, and import methods used\n",
    "- Clean, wrangle, and handle missing data\n",
    "- Transform data appropriately using techniques such as aggregation, normalization, and feature construction\n",
    "- Reduce redundant data and perform need based discretization\n",
    "\n",
    "Data Analysis and Visualization\n",
    "- Identify categorical, ordinal, and numerical variables within data\n",
    "- Provide measures of centrality and distribution with visualizations\n",
    "- Diagnose for correlations between variables and determine independent and dependent variables\n",
    "- Perform exploratory analysis in combination with visualization techniques to discover patterns and features of interest\n",
    "\n",
    "Data Analytics\n",
    "- Determine the need for a supervised or unsupervised learning method and identify dependent and independent variables\n",
    "- Train, test, and provide accuracy and evaluation metrics for model results\n",
    "\n",
    "Presentation\n",
    "- In a 5 to 10 minutes video, briefly explain the project workflow from the code and results in your markdown notebook\n",
    "State your findings from the data and provide the interpretation of results from your analysis at each stage in the project"
   ]
  },
  {
   "cell_type": "markdown",
   "metadata": {},
   "source": [
    "#### Importing libraries"
   ]
  },
  {
   "cell_type": "code",
   "execution_count": 100,
   "metadata": {},
   "outputs": [],
   "source": [
    "import numpy as np\n",
    "import pandas as pd\n",
    "import matplotlib as mpl\n",
    "import matplotlib.pyplot as plt\n",
    "import seaborn as sns\n",
    "from sklearn.linear_model import LogisticRegression\n",
    "from sklearn.model_selection import train_test_split\n",
    "from imblearn.over_sampling import SMOTE\n",
    "from sklearn import metrics"
   ]
  },
  {
   "cell_type": "markdown",
   "metadata": {},
   "source": [
    "#### Importing CSV Dataset from E-Commerce"
   ]
  },
  {
   "cell_type": "code",
   "execution_count": 101,
   "metadata": {},
   "outputs": [],
   "source": [
    "#Set File Path & import csv\n",
    "datasetFP = '../data/Dataset 3 (Online Shoppers Intention)/online_shoppers_intention.csv'\n",
    "eCommerceDF = pd.read_csv(datasetFP) "
   ]
  },
  {
   "cell_type": "code",
   "execution_count": 102,
   "metadata": {},
   "outputs": [
    {
     "data": {
      "text/plain": [
       "(12330, 18)"
      ]
     },
     "execution_count": 102,
     "metadata": {},
     "output_type": "execute_result"
    }
   ],
   "source": [
    "eCommerceDF.shape"
   ]
  },
  {
   "cell_type": "markdown",
   "metadata": {},
   "source": [
    "##### 12330 Rows and 18 columns in the data set"
   ]
  },
  {
   "cell_type": "markdown",
   "metadata": {},
   "source": [
    "### Removing duplicates from the data"
   ]
  },
  {
   "cell_type": "code",
   "execution_count": 103,
   "metadata": {},
   "outputs": [],
   "source": [
    "eCommerceDF = eCommerceDF.drop_duplicates()"
   ]
  },
  {
   "cell_type": "code",
   "execution_count": 104,
   "metadata": {},
   "outputs": [
    {
     "data": {
      "text/plain": [
       "(12209, 18)"
      ]
     },
     "execution_count": 104,
     "metadata": {},
     "output_type": "execute_result"
    }
   ],
   "source": [
    "eCommerceDF.shape"
   ]
  },
  {
   "cell_type": "markdown",
   "metadata": {},
   "source": [
    "##### Removed 121 duplicate values"
   ]
  },
  {
   "cell_type": "markdown",
   "metadata": {},
   "source": [
    "### Displaying total missing value count per column"
   ]
  },
  {
   "cell_type": "code",
   "execution_count": 105,
   "metadata": {},
   "outputs": [
    {
     "data": {
      "text/plain": [
       "Administrative               0\n",
       "Administrative_Duration      0\n",
       "Informational              128\n",
       "Informational_Duration       0\n",
       "ProductRelated               0\n",
       "ProductRelated_Duration      0\n",
       "BounceRates                  0\n",
       "ExitRates                    0\n",
       "PageValues                 135\n",
       "SpecialDay                   0\n",
       "Month                        0\n",
       "OperatingSystems           123\n",
       "Browser                      0\n",
       "Region                       0\n",
       "TrafficType                  0\n",
       "VisitorType                  0\n",
       "Weekend                      0\n",
       "Revenue                      0\n",
       "dtype: int64"
      ]
     },
     "execution_count": 105,
     "metadata": {},
     "output_type": "execute_result"
    }
   ],
   "source": [
    "eCommerceDF.isnull().sum()"
   ]
  },
  {
   "cell_type": "markdown",
   "metadata": {},
   "source": [
    "### Filling Page Values based on Revenue --> Saw if Revenue is False Page Values had a value of 0"
   ]
  },
  {
   "cell_type": "code",
   "execution_count": 106,
   "metadata": {},
   "outputs": [],
   "source": [
    "eCommerceDF.loc[eCommerceDF['PageValues'].isnull()&eCommerceDF['Revenue'].notnull()&eCommerceDF['Revenue'].eq(False),'PageValues'] = 0"
   ]
  },
  {
   "cell_type": "markdown",
   "metadata": {},
   "source": [
    "### Filling incorrect Revenue values based on inversed previous logic --> If PageValues != 0 then Revenue = True"
   ]
  },
  {
   "cell_type": "code",
   "execution_count": 107,
   "metadata": {},
   "outputs": [],
   "source": [
    "eCommerceDF.loc[eCommerceDF['PageValues']!=0&eCommerceDF['Revenue'].eq(False),'Revenue'] = True"
   ]
  },
  {
   "cell_type": "code",
   "execution_count": 108,
   "metadata": {},
   "outputs": [
    {
     "data": {
      "text/plain": [
       "Administrative            -0.005337\n",
       "Administrative_Duration   -0.006583\n",
       "Informational             -0.008812\n",
       "Informational_Duration    -0.010230\n",
       "ProductRelated             0.004743\n",
       "ProductRelated_Duration    0.003867\n",
       "BounceRates                0.025934\n",
       "ExitRates                  0.015798\n",
       "PageValues                 0.019594\n",
       "SpecialDay                 0.013518\n",
       "OperatingSystems           1.000000\n",
       "Browser                    0.215002\n",
       "Region                     0.072517\n",
       "TrafficType                0.183672\n",
       "Weekend                    0.001013\n",
       "Revenue                   -0.013535\n",
       "Name: OperatingSystems, dtype: float64"
      ]
     },
     "execution_count": 108,
     "metadata": {},
     "output_type": "execute_result"
    }
   ],
   "source": [
    "eCommerceDF.corr()['OperatingSystems']"
   ]
  },
  {
   "cell_type": "markdown",
   "metadata": {},
   "source": [
    "### Dropping Operating System Column not a good predictor variable for Revenue"
   ]
  },
  {
   "cell_type": "code",
   "execution_count": 109,
   "metadata": {},
   "outputs": [],
   "source": [
    "eCommerceDF = eCommerceDF.drop('OperatingSystems',1)"
   ]
  },
  {
   "cell_type": "code",
   "execution_count": 110,
   "metadata": {},
   "outputs": [
    {
     "data": {
      "text/plain": [
       "Administrative               0\n",
       "Administrative_Duration      0\n",
       "Informational              128\n",
       "Informational_Duration       0\n",
       "ProductRelated               0\n",
       "ProductRelated_Duration      0\n",
       "BounceRates                  0\n",
       "ExitRates                    0\n",
       "PageValues                  21\n",
       "SpecialDay                   0\n",
       "Month                        0\n",
       "Browser                      0\n",
       "Region                       0\n",
       "TrafficType                  0\n",
       "VisitorType                  0\n",
       "Weekend                      0\n",
       "Revenue                      0\n",
       "dtype: int64"
      ]
     },
     "execution_count": 110,
     "metadata": {},
     "output_type": "execute_result"
    }
   ],
   "source": [
    "eCommerceDF.isnull().sum()"
   ]
  },
  {
   "cell_type": "markdown",
   "metadata": {},
   "source": [
    "### Filling Information with logic --> If user duration on an Informational Page is 0 then Informational_Duration has to be equal to 0 "
   ]
  },
  {
   "cell_type": "code",
   "execution_count": 111,
   "metadata": {},
   "outputs": [],
   "source": [
    "eCommerceDF.loc[eCommerceDF['Informational'].isnull()&eCommerceDF['Informational_Duration'].notnull()&eCommerceDF['Informational_Duration'].eq(0),'Informational'] = 0"
   ]
  },
  {
   "cell_type": "code",
   "execution_count": 112,
   "metadata": {},
   "outputs": [
    {
     "data": {
      "text/plain": [
       "Administrative              0\n",
       "Administrative_Duration     0\n",
       "Informational              24\n",
       "Informational_Duration      0\n",
       "ProductRelated              0\n",
       "ProductRelated_Duration     0\n",
       "BounceRates                 0\n",
       "ExitRates                   0\n",
       "PageValues                 21\n",
       "SpecialDay                  0\n",
       "Month                       0\n",
       "Browser                     0\n",
       "Region                      0\n",
       "TrafficType                 0\n",
       "VisitorType                 0\n",
       "Weekend                     0\n",
       "Revenue                     0\n",
       "dtype: int64"
      ]
     },
     "execution_count": 112,
     "metadata": {},
     "output_type": "execute_result"
    }
   ],
   "source": [
    "eCommerceDF.isnull().sum()"
   ]
  },
  {
   "cell_type": "code",
   "execution_count": 113,
   "metadata": {},
   "outputs": [
    {
     "data": {
      "text/plain": [
       "12209"
      ]
     },
     "execution_count": 113,
     "metadata": {},
     "output_type": "execute_result"
    }
   ],
   "source": [
    "eCommerceDF.shape[0]"
   ]
  },
  {
   "cell_type": "markdown",
   "metadata": {},
   "source": [
    "### Dropped remaining 45 null values"
   ]
  },
  {
   "cell_type": "code",
   "execution_count": 114,
   "metadata": {},
   "outputs": [],
   "source": [
    "eCommerceDF = eCommerceDF.dropna()"
   ]
  },
  {
   "cell_type": "code",
   "execution_count": 115,
   "metadata": {},
   "outputs": [
    {
     "data": {
      "text/plain": [
       "12164"
      ]
     },
     "execution_count": 115,
     "metadata": {},
     "output_type": "execute_result"
    }
   ],
   "source": [
    "eCommerceDF.shape[0] "
   ]
  },
  {
   "cell_type": "markdown",
   "metadata": {},
   "source": [
    "### Inspecting data type for each column"
   ]
  },
  {
   "cell_type": "code",
   "execution_count": 116,
   "metadata": {},
   "outputs": [
    {
     "data": {
      "text/plain": [
       "Administrative               int64\n",
       "Administrative_Duration    float64\n",
       "Informational              float64\n",
       "Informational_Duration     float64\n",
       "ProductRelated               int64\n",
       "ProductRelated_Duration    float64\n",
       "BounceRates                float64\n",
       "ExitRates                  float64\n",
       "PageValues                 float64\n",
       "SpecialDay                 float64\n",
       "Month                       object\n",
       "Browser                      int64\n",
       "Region                       int64\n",
       "TrafficType                  int64\n",
       "VisitorType                 object\n",
       "Weekend                       bool\n",
       "Revenue                       bool\n",
       "dtype: object"
      ]
     },
     "execution_count": 116,
     "metadata": {},
     "output_type": "execute_result"
    }
   ],
   "source": [
    "eCommerceDF.dtypes"
   ]
  },
  {
   "cell_type": "markdown",
   "metadata": {},
   "source": [
    "### Updating data type for Informational to int to align with Admin and Product Related"
   ]
  },
  {
   "cell_type": "code",
   "execution_count": 117,
   "metadata": {},
   "outputs": [],
   "source": [
    "eCommerceDF['Informational'] = eCommerceDF['Informational'].astype('int64')"
   ]
  },
  {
   "cell_type": "markdown",
   "metadata": {},
   "source": [
    "### Dropping following columns due to low correlation to Revenue"
   ]
  },
  {
   "cell_type": "code",
   "execution_count": 118,
   "metadata": {},
   "outputs": [
    {
     "data": {
      "text/html": [
       "<div>\n",
       "<style scoped>\n",
       "    .dataframe tbody tr th:only-of-type {\n",
       "        vertical-align: middle;\n",
       "    }\n",
       "\n",
       "    .dataframe tbody tr th {\n",
       "        vertical-align: top;\n",
       "    }\n",
       "\n",
       "    .dataframe thead th {\n",
       "        text-align: right;\n",
       "    }\n",
       "</style>\n",
       "<table border=\"1\" class=\"dataframe\">\n",
       "  <thead>\n",
       "    <tr style=\"text-align: right;\">\n",
       "      <th></th>\n",
       "      <th>Browser</th>\n",
       "      <th>Region</th>\n",
       "      <th>TrafficType</th>\n",
       "      <th>Revenue</th>\n",
       "    </tr>\n",
       "  </thead>\n",
       "  <tbody>\n",
       "    <tr>\n",
       "      <th>Browser</th>\n",
       "      <td>1.000000</td>\n",
       "      <td>0.091677</td>\n",
       "      <td>0.103203</td>\n",
       "      <td>0.012111</td>\n",
       "    </tr>\n",
       "    <tr>\n",
       "      <th>Region</th>\n",
       "      <td>0.091677</td>\n",
       "      <td>1.000000</td>\n",
       "      <td>0.043468</td>\n",
       "      <td>-0.013214</td>\n",
       "    </tr>\n",
       "    <tr>\n",
       "      <th>TrafficType</th>\n",
       "      <td>0.103203</td>\n",
       "      <td>0.043468</td>\n",
       "      <td>1.000000</td>\n",
       "      <td>-0.024429</td>\n",
       "    </tr>\n",
       "    <tr>\n",
       "      <th>Revenue</th>\n",
       "      <td>0.012111</td>\n",
       "      <td>-0.013214</td>\n",
       "      <td>-0.024429</td>\n",
       "      <td>1.000000</td>\n",
       "    </tr>\n",
       "  </tbody>\n",
       "</table>\n",
       "</div>"
      ],
      "text/plain": [
       "              Browser    Region  TrafficType   Revenue\n",
       "Browser      1.000000  0.091677     0.103203  0.012111\n",
       "Region       0.091677  1.000000     0.043468 -0.013214\n",
       "TrafficType  0.103203  0.043468     1.000000 -0.024429\n",
       "Revenue      0.012111 -0.013214    -0.024429  1.000000"
      ]
     },
     "execution_count": 118,
     "metadata": {},
     "output_type": "execute_result"
    }
   ],
   "source": [
    "eCommerceDF[['Browser','Region','TrafficType', 'Revenue']].corr()"
   ]
  },
  {
   "cell_type": "code",
   "execution_count": 119,
   "metadata": {},
   "outputs": [],
   "source": [
    "eCommerceDF = eCommerceDF.drop(columns=['Browser','Region','TrafficType'])"
   ]
  },
  {
   "cell_type": "markdown",
   "metadata": {},
   "source": [
    "### Exploring relationships for the following columns after inital preprocessing"
   ]
  },
  {
   "cell_type": "code",
   "execution_count": 120,
   "metadata": {},
   "outputs": [
    {
     "data": {
      "text/plain": [
       "Index(['Administrative', 'Administrative_Duration', 'Informational',\n",
       "       'Informational_Duration', 'ProductRelated', 'ProductRelated_Duration',\n",
       "       'BounceRates', 'ExitRates', 'PageValues', 'SpecialDay', 'Month',\n",
       "       'VisitorType', 'Weekend', 'Revenue'],\n",
       "      dtype='object')"
      ]
     },
     "execution_count": 120,
     "metadata": {},
     "output_type": "execute_result"
    }
   ],
   "source": [
    "eCommerceDF.columns"
   ]
  },
  {
   "cell_type": "markdown",
   "metadata": {},
   "source": [
    "#### Other and New_Vistors have a low count compared to Returning_Visitor"
   ]
  },
  {
   "cell_type": "code",
   "execution_count": 121,
   "metadata": {},
   "outputs": [
    {
     "data": {
      "text/html": [
       "<div>\n",
       "<style scoped>\n",
       "    .dataframe tbody tr th:only-of-type {\n",
       "        vertical-align: middle;\n",
       "    }\n",
       "\n",
       "    .dataframe tbody tr th {\n",
       "        vertical-align: top;\n",
       "    }\n",
       "\n",
       "    .dataframe thead th {\n",
       "        text-align: right;\n",
       "    }\n",
       "</style>\n",
       "<table border=\"1\" class=\"dataframe\">\n",
       "  <thead>\n",
       "    <tr style=\"text-align: right;\">\n",
       "      <th></th>\n",
       "      <th>Administrative</th>\n",
       "      <th>Administrative_Duration</th>\n",
       "      <th>Informational</th>\n",
       "      <th>Informational_Duration</th>\n",
       "      <th>ProductRelated</th>\n",
       "      <th>ProductRelated_Duration</th>\n",
       "      <th>BounceRates</th>\n",
       "      <th>ExitRates</th>\n",
       "      <th>PageValues</th>\n",
       "      <th>SpecialDay</th>\n",
       "      <th>Month</th>\n",
       "      <th>Weekend</th>\n",
       "      <th>Revenue</th>\n",
       "    </tr>\n",
       "    <tr>\n",
       "      <th>VisitorType</th>\n",
       "      <th></th>\n",
       "      <th></th>\n",
       "      <th></th>\n",
       "      <th></th>\n",
       "      <th></th>\n",
       "      <th></th>\n",
       "      <th></th>\n",
       "      <th></th>\n",
       "      <th></th>\n",
       "      <th></th>\n",
       "      <th></th>\n",
       "      <th></th>\n",
       "      <th></th>\n",
       "    </tr>\n",
       "  </thead>\n",
       "  <tbody>\n",
       "    <tr>\n",
       "      <th>New_Visitor</th>\n",
       "      <td>1690</td>\n",
       "      <td>1690</td>\n",
       "      <td>1690</td>\n",
       "      <td>1690</td>\n",
       "      <td>1690</td>\n",
       "      <td>1690</td>\n",
       "      <td>1690</td>\n",
       "      <td>1690</td>\n",
       "      <td>1690</td>\n",
       "      <td>1690</td>\n",
       "      <td>1690</td>\n",
       "      <td>1690</td>\n",
       "      <td>1690</td>\n",
       "    </tr>\n",
       "    <tr>\n",
       "      <th>Other</th>\n",
       "      <td>81</td>\n",
       "      <td>81</td>\n",
       "      <td>81</td>\n",
       "      <td>81</td>\n",
       "      <td>81</td>\n",
       "      <td>81</td>\n",
       "      <td>81</td>\n",
       "      <td>81</td>\n",
       "      <td>81</td>\n",
       "      <td>81</td>\n",
       "      <td>81</td>\n",
       "      <td>81</td>\n",
       "      <td>81</td>\n",
       "    </tr>\n",
       "    <tr>\n",
       "      <th>Returning_Visitor</th>\n",
       "      <td>10393</td>\n",
       "      <td>10393</td>\n",
       "      <td>10393</td>\n",
       "      <td>10393</td>\n",
       "      <td>10393</td>\n",
       "      <td>10393</td>\n",
       "      <td>10393</td>\n",
       "      <td>10393</td>\n",
       "      <td>10393</td>\n",
       "      <td>10393</td>\n",
       "      <td>10393</td>\n",
       "      <td>10393</td>\n",
       "      <td>10393</td>\n",
       "    </tr>\n",
       "  </tbody>\n",
       "</table>\n",
       "</div>"
      ],
      "text/plain": [
       "                   Administrative  Administrative_Duration  Informational  \\\n",
       "VisitorType                                                                 \n",
       "New_Visitor                  1690                     1690           1690   \n",
       "Other                          81                       81             81   \n",
       "Returning_Visitor           10393                    10393          10393   \n",
       "\n",
       "                   Informational_Duration  ProductRelated  \\\n",
       "VisitorType                                                 \n",
       "New_Visitor                          1690            1690   \n",
       "Other                                  81              81   \n",
       "Returning_Visitor                   10393           10393   \n",
       "\n",
       "                   ProductRelated_Duration  BounceRates  ExitRates  \\\n",
       "VisitorType                                                          \n",
       "New_Visitor                           1690         1690       1690   \n",
       "Other                                   81           81         81   \n",
       "Returning_Visitor                    10393        10393      10393   \n",
       "\n",
       "                   PageValues  SpecialDay  Month  Weekend  Revenue  \n",
       "VisitorType                                                         \n",
       "New_Visitor              1690        1690   1690     1690     1690  \n",
       "Other                      81          81     81       81       81  \n",
       "Returning_Visitor       10393       10393  10393    10393    10393  "
      ]
     },
     "execution_count": 121,
     "metadata": {},
     "output_type": "execute_result"
    }
   ],
   "source": [
    "eCommerceDF.groupby(by=\"VisitorType\").count()"
   ]
  },
  {
   "cell_type": "markdown",
   "metadata": {},
   "source": [
    "### Noticed on average if a purchase is made a greater amount of Product Related and Informational Pages are visited"
   ]
  },
  {
   "cell_type": "code",
   "execution_count": 122,
   "metadata": {},
   "outputs": [
    {
     "data": {
      "text/html": [
       "<div>\n",
       "<style scoped>\n",
       "    .dataframe tbody tr th:only-of-type {\n",
       "        vertical-align: middle;\n",
       "    }\n",
       "\n",
       "    .dataframe tbody tr th {\n",
       "        vertical-align: top;\n",
       "    }\n",
       "\n",
       "    .dataframe thead th {\n",
       "        text-align: right;\n",
       "    }\n",
       "</style>\n",
       "<table border=\"1\" class=\"dataframe\">\n",
       "  <thead>\n",
       "    <tr style=\"text-align: right;\">\n",
       "      <th></th>\n",
       "      <th>Administrative</th>\n",
       "      <th>Administrative_Duration</th>\n",
       "      <th>Informational</th>\n",
       "      <th>Informational_Duration</th>\n",
       "      <th>ProductRelated</th>\n",
       "      <th>ProductRelated_Duration</th>\n",
       "      <th>BounceRates</th>\n",
       "      <th>ExitRates</th>\n",
       "      <th>PageValues</th>\n",
       "      <th>SpecialDay</th>\n",
       "      <th>Weekend</th>\n",
       "    </tr>\n",
       "    <tr>\n",
       "      <th>Revenue</th>\n",
       "      <th></th>\n",
       "      <th></th>\n",
       "      <th></th>\n",
       "      <th></th>\n",
       "      <th></th>\n",
       "      <th></th>\n",
       "      <th></th>\n",
       "      <th></th>\n",
       "      <th></th>\n",
       "      <th></th>\n",
       "      <th></th>\n",
       "    </tr>\n",
       "  </thead>\n",
       "  <tbody>\n",
       "    <tr>\n",
       "      <th>False</th>\n",
       "      <td>1.674278</td>\n",
       "      <td>59.279889</td>\n",
       "      <td>0.342079</td>\n",
       "      <td>21.808975</td>\n",
       "      <td>24.075530</td>\n",
       "      <td>890.945726</td>\n",
       "      <td>0.025313</td>\n",
       "      <td>0.048604</td>\n",
       "      <td>0.000000</td>\n",
       "      <td>0.071753</td>\n",
       "      <td>0.228126</td>\n",
       "    </tr>\n",
       "    <tr>\n",
       "      <th>True</th>\n",
       "      <td>4.273650</td>\n",
       "      <td>147.106622</td>\n",
       "      <td>0.979705</td>\n",
       "      <td>72.139553</td>\n",
       "      <td>55.276268</td>\n",
       "      <td>2125.572116</td>\n",
       "      <td>0.006094</td>\n",
       "      <td>0.020691</td>\n",
       "      <td>23.544304</td>\n",
       "      <td>0.032209</td>\n",
       "      <td>0.251718</td>\n",
       "    </tr>\n",
       "  </tbody>\n",
       "</table>\n",
       "</div>"
      ],
      "text/plain": [
       "         Administrative  Administrative_Duration  Informational  \\\n",
       "Revenue                                                           \n",
       "False          1.674278                59.279889       0.342079   \n",
       "True           4.273650               147.106622       0.979705   \n",
       "\n",
       "         Informational_Duration  ProductRelated  ProductRelated_Duration  \\\n",
       "Revenue                                                                    \n",
       "False                 21.808975       24.075530               890.945726   \n",
       "True                  72.139553       55.276268              2125.572116   \n",
       "\n",
       "         BounceRates  ExitRates  PageValues  SpecialDay   Weekend  \n",
       "Revenue                                                            \n",
       "False       0.025313   0.048604    0.000000    0.071753  0.228126  \n",
       "True        0.006094   0.020691   23.544304    0.032209  0.251718  "
      ]
     },
     "execution_count": 122,
     "metadata": {},
     "output_type": "execute_result"
    }
   ],
   "source": [
    "eCommerceDF.groupby(by = \"Revenue\").mean()"
   ]
  },
  {
   "cell_type": "markdown",
   "metadata": {},
   "source": [
    "### Month is a good predictor for Revenue -->  November yields a higher chance of a purchase"
   ]
  },
  {
   "cell_type": "code",
   "execution_count": 123,
   "metadata": {},
   "outputs": [
    {
     "data": {
      "text/plain": [
       "Text(0, 0.5, 'Frequency of Purchase')"
      ]
     },
     "execution_count": 123,
     "metadata": {},
     "output_type": "execute_result"
    },
    {
     "data": {
      "image/png": "[encoded data removed]",
      "text/plain": [
       "<Figure size 432x288 with 1 Axes>"
      ]
     },
     "metadata": {
      "needs_background": "light"
     },
     "output_type": "display_data"
    }
   ],
   "source": [
    "pd.crosstab(eCommerceDF.Month,eCommerceDF.Revenue).plot(kind='bar')\n",
    "plt.title('Purchase Frequency By Month')\n",
    "plt.xlabel('Month')\n",
    "plt.ylabel('Frequency of Purchase')"
   ]
  },
  {
   "cell_type": "markdown",
   "metadata": {},
   "source": [
    "### Special Day does not appear to be a good indicator based off the graph"
   ]
  },
  {
   "cell_type": "code",
   "execution_count": 124,
   "metadata": {},
   "outputs": [
    {
     "data": {
      "text/plain": [
       "Text(0, 0.5, 'Frequency of Purchase')"
      ]
     },
     "execution_count": 124,
     "metadata": {},
     "output_type": "execute_result"
    },
    {
     "data": {
      "image/png": "[encoded data removed]",
      "text/plain": [
       "<Figure size 432x288 with 1 Axes>"
      ]
     },
     "metadata": {
      "needs_background": "light"
     },
     "output_type": "display_data"
    }
   ],
   "source": [
    "%matplotlib inline\n",
    "pd.crosstab(eCommerceDF.SpecialDay,eCommerceDF.Revenue).plot(kind='bar')\n",
    "plt.title('Purchase Frequency By Month')\n",
    "plt.xlabel('Month')\n",
    "plt.ylabel('Frequency of Purchase')"
   ]
  },
  {
   "cell_type": "markdown",
   "metadata": {},
   "source": [
    "### Vistor Type May Not be a good predictor --> Seems like there is an equal ratio between New and Returning"
   ]
  },
  {
   "cell_type": "code",
   "execution_count": 125,
   "metadata": {},
   "outputs": [
    {
     "data": {
      "text/plain": [
       "Text(0, 0.5, 'Frequency of Purchase')"
      ]
     },
     "execution_count": 125,
     "metadata": {},
     "output_type": "execute_result"
    },
    {
     "data": {
      "image/png": "[encoded data removed]",
      "text/plain": [
       "<Figure size 432x288 with 1 Axes>"
      ]
     },
     "metadata": {
      "needs_background": "light"
     },
     "output_type": "display_data"
    }
   ],
   "source": [
    "%matplotlib inline\n",
    "pd.crosstab(eCommerceDF.VisitorType,eCommerceDF.Revenue).plot(kind='bar')\n",
    "plt.title('Purchase Frequency By Visitor Type')\n",
    "plt.xlabel('VisitorType')\n",
    "plt.ylabel('Frequency of Purchase')"
   ]
  },
  {
   "cell_type": "markdown",
   "metadata": {},
   "source": [
    "### Weekend may not be a good predictor --> Equal ratio based off a purchase being made on weekend or weekday"
   ]
  },
  {
   "cell_type": "code",
   "execution_count": 126,
   "metadata": {},
   "outputs": [
    {
     "data": {
      "text/plain": [
       "Text(0, 0.5, 'Frequency of Purchase')"
      ]
     },
     "execution_count": 126,
     "metadata": {},
     "output_type": "execute_result"
    },
    {
     "data": {
      "image/png": "[encoded data removed]",
      "text/plain": [
       "<Figure size 432x288 with 1 Axes>"
      ]
     },
     "metadata": {
      "needs_background": "light"
     },
     "output_type": "display_data"
    }
   ],
   "source": [
    "%matplotlib inline\n",
    "pd.crosstab(eCommerceDF.Weekend,eCommerceDF.Revenue).plot(kind='bar')\n",
    "plt.title('Purchase Frequency By Weekend')\n",
    "plt.xlabel('Weekend')\n",
    "plt.ylabel('Frequency of Purchase')"
   ]
  },
  {
   "cell_type": "markdown",
   "metadata": {},
   "source": [
    "### I will be dropping vistor type, weekend, bounce rates, exit rates, page values as a result of the team findings "
   ]
  },
  {
   "cell_type": "code",
   "execution_count": 127,
   "metadata": {},
   "outputs": [],
   "source": [
    "eCommerceDF = eCommerceDF.drop(columns=['Weekend','VisitorType','BounceRates','PageValues','SpecialDay'])"
   ]
  },
  {
   "cell_type": "code",
   "execution_count": 128,
   "metadata": {},
   "outputs": [
    {
     "data": {
      "text/plain": [
       "Administrative             0.339887\n",
       "Administrative_Duration    0.214997\n",
       "Informational              0.218070\n",
       "Informational_Duration     0.154887\n",
       "ProductRelated             0.304676\n",
       "ProductRelated_Duration    0.280170\n",
       "ExitRates                 -0.261418\n",
       "Revenue                    1.000000\n",
       "Name: Revenue, dtype: float64"
      ]
     },
     "execution_count": 128,
     "metadata": {},
     "output_type": "execute_result"
    }
   ],
   "source": [
    "eCommerceDF.corr()['Revenue']"
   ]
  },
  {
   "cell_type": "markdown",
   "metadata": {},
   "source": [
    "### Check data for variance and normalizing if necessary"
   ]
  },
  {
   "cell_type": "code",
   "execution_count": 129,
   "metadata": {},
   "outputs": [
    {
     "data": {
      "text/plain": [
       "<function matplotlib.pyplot.show(close=None, block=None)>"
      ]
     },
     "execution_count": 129,
     "metadata": {},
     "output_type": "execute_result"
    },
    {
     "data": {
      "image/png": "[encoded data removed]",
      "text/plain": [
       "<Figure size 864x432 with 1 Axes>"
      ]
     },
     "metadata": {
      "needs_background": "light"
     },
     "output_type": "display_data"
    }
   ],
   "source": [
    "plt.figure(figsize=(12,6))\n",
    "eCommerceDF.boxplot()\n",
    "plt.show"
   ]
  },
  {
   "cell_type": "markdown",
   "metadata": {},
   "source": [
    "### Transform columns using log to normalize extreme outliers"
   ]
  },
  {
   "cell_type": "markdown",
   "metadata": {},
   "source": [
    "##### Following function will check each column and verify if it is an int64 or float64 then log normalize the data in that column"
   ]
  },
  {
   "cell_type": "code",
   "execution_count": 130,
   "metadata": {},
   "outputs": [],
   "source": [
    "eCommerceDF_log = eCommerceDF\n",
    "\n",
    "numerics = ['float64','int64']\n",
    "for c in [c for c in eCommerceDF_log.columns if eCommerceDF_log[c].dtype in numerics]:\n",
    "    eCommerceDF_log[c] = np.log(eCommerceDF_log[c]+1)"
   ]
  },
  {
   "cell_type": "markdown",
   "metadata": {},
   "source": [
    "### Log normalization reduced the extereme outliers"
   ]
  },
  {
   "cell_type": "code",
   "execution_count": 131,
   "metadata": {},
   "outputs": [
    {
     "data": {
      "text/plain": [
       "<function matplotlib.pyplot.show(close=None, block=None)>"
      ]
     },
     "execution_count": 131,
     "metadata": {},
     "output_type": "execute_result"
    },
    {
     "data": {
      "image/png": "[encoded data removed]",
      "text/plain": [
       "<Figure size 864x432 with 1 Axes>"
      ]
     },
     "metadata": {
      "needs_background": "light"
     },
     "output_type": "display_data"
    }
   ],
   "source": [
    "plt.figure(figsize=(12,6))\n",
    "eCommerceDF_log.boxplot()\n",
    "plt.show"
   ]
  },
  {
   "cell_type": "markdown",
   "metadata": {},
   "source": [
    "### Columns and correlations to keep for log regression model"
   ]
  },
  {
   "cell_type": "code",
   "execution_count": 132,
   "metadata": {},
   "outputs": [
    {
     "data": {
      "text/plain": [
       "Index(['Administrative', 'Administrative_Duration', 'Informational',\n",
       "       'Informational_Duration', 'ProductRelated', 'ProductRelated_Duration',\n",
       "       'ExitRates', 'Month', 'Revenue'],\n",
       "      dtype='object')"
      ]
     },
     "execution_count": 132,
     "metadata": {},
     "output_type": "execute_result"
    }
   ],
   "source": [
    "eCommerceDF.columns"
   ]
  },
  {
   "cell_type": "code",
   "execution_count": 133,
   "metadata": {},
   "outputs": [
    {
     "data": {
      "text/plain": [
       "Administrative             0.349338\n",
       "Administrative_Duration    0.326470\n",
       "Informational              0.241452\n",
       "Informational_Duration     0.243927\n",
       "ProductRelated             0.363558\n",
       "ProductRelated_Duration    0.327384\n",
       "ExitRates                 -0.265289\n",
       "Revenue                    1.000000\n",
       "Name: Revenue, dtype: float64"
      ]
     },
     "execution_count": 133,
     "metadata": {},
     "output_type": "execute_result"
    }
   ],
   "source": [
    "eCommerceDF.corr()['Revenue']"
   ]
  },
  {
   "cell_type": "markdown",
   "metadata": {},
   "source": [
    "### Log Regression Set Up"
   ]
  },
  {
   "cell_type": "markdown",
   "metadata": {},
   "source": [
    "##### Notice there is an imbalance between False and True Values as first seen in the preprocessing steps"
   ]
  },
  {
   "cell_type": "code",
   "execution_count": 134,
   "metadata": {},
   "outputs": [
    {
     "data": {
      "text/plain": [
       "Text(0, 0.5, 'Count In DataFrame')"
      ]
     },
     "execution_count": 134,
     "metadata": {},
     "output_type": "execute_result"
    },
    {
     "data": {
      "image/png": "[encoded data removed]",
      "text/plain": [
       "<Figure size 432x288 with 1 Axes>"
      ]
     },
     "metadata": {
      "needs_background": "light"
     },
     "output_type": "display_data"
    }
   ],
   "source": [
    "pd.crosstab(eCommerceDF_log.Revenue,eCommerceDF_log.Revenue.count()).plot(kind='bar')\n",
    "plt.title('Revenue Count')\n",
    "plt.xlabel('Revenue')\n",
    "plt.ylabel('Count In DataFrame')"
   ]
  },
  {
   "cell_type": "markdown",
   "metadata": {},
   "source": [
    "### Encoding Months for preprocessing via panda dummy variables"
   ]
  },
  {
   "cell_type": "code",
   "execution_count": 135,
   "metadata": {},
   "outputs": [],
   "source": [
    "eCommerceDF_log = pd.get_dummies(eCommerceDF_log, columns=[\"Month\"])"
   ]
  },
  {
   "cell_type": "markdown",
   "metadata": {},
   "source": [
    "### Seperating data into a training and test set"
   ]
  },
  {
   "cell_type": "code",
   "execution_count": 136,
   "metadata": {},
   "outputs": [],
   "source": [
    "X = eCommerceDF_log.loc[:, eCommerceDF_log.columns != 'Revenue']\n",
    "y = eCommerceDF_log.loc[:, eCommerceDF_log.columns == 'Revenue']"
   ]
  },
  {
   "cell_type": "markdown",
   "metadata": {},
   "source": [
    "##### Using Imbalance Learn library SMOTE to oversample and "
   ]
  },
  {
   "cell_type": "code",
   "execution_count": 137,
   "metadata": {},
   "outputs": [],
   "source": [
    "os = SMOTE(random_state=0)"
   ]
  },
  {
   "cell_type": "code",
   "execution_count": 138,
   "metadata": {},
   "outputs": [],
   "source": [
    "X_train, X_test, y_train, y_test = train_test_split(X, y, test_size=0.20, random_state=0)\n",
    "columns = X_train.columns"
   ]
  },
  {
   "cell_type": "markdown",
   "metadata": {},
   "source": [
    "##### Oversampled only on training data SMOTE will not create duplicates but create a similar, randomly tweaked observation"
   ]
  },
  {
   "cell_type": "code",
   "execution_count": 139,
   "metadata": {},
   "outputs": [
    {
     "name": "stdout",
     "output_type": "stream",
     "text": [
      "length of oversampled data is  14502\n",
      "Number of purchases in oversampled data 7251\n",
      "Number of no purchases 7251\n",
      "Proportion of no purchases data in oversampled data is  0.5\n",
      "Proportion of purchases data in oversampled data is  0.5\n"
     ]
    }
   ],
   "source": [
    "os_data_X,os_data_y=os.fit_resample(X_train, y_train)\n",
    "os_data_X = pd.DataFrame(data=os_data_X,columns=columns )\n",
    "os_data_y= pd.DataFrame(data=os_data_y,columns=['Revenue'])\n",
    "print(\"length of oversampled data is \",len(os_data_X))\n",
    "print(\"Number of purchases in oversampled data\",len(os_data_y[os_data_y['Revenue']==True]))\n",
    "print(\"Number of no purchases\",len(os_data_y[os_data_y['Revenue']==False]))\n",
    "print(\"Proportion of no purchases data in oversampled data is \",len(os_data_y[os_data_y['Revenue']==False])/len(os_data_X))\n",
    "print(\"Proportion of purchases data in oversampled data is \",len(os_data_y[os_data_y['Revenue']==True])/len(os_data_X))"
   ]
  },
  {
   "cell_type": "markdown",
   "metadata": {},
   "source": [
    "#### Now the training data is balanced and ready to fit into the Log Regression Model"
   ]
  },
  {
   "cell_type": "code",
   "execution_count": 140,
   "metadata": {},
   "outputs": [
    {
     "data": {
      "text/plain": [
       "Text(0, 0.5, 'Count In DataFrame')"
      ]
     },
     "execution_count": 140,
     "metadata": {},
     "output_type": "execute_result"
    },
    {
     "data": {
      "image/png": "[encoded data removed]",
      "text/plain": [
       "<Figure size 432x288 with 1 Axes>"
      ]
     },
     "metadata": {
      "needs_background": "light"
     },
     "output_type": "display_data"
    }
   ],
   "source": [
    "pd.crosstab(os_data_y.Revenue,os_data_y.Revenue.count()).plot(kind='bar')\n",
    "plt.title('Revenue Count')\n",
    "plt.xlabel('Revenue')\n",
    "plt.ylabel('Count In DataFrame')"
   ]
  },
  {
   "cell_type": "code",
   "execution_count": 141,
   "metadata": {},
   "outputs": [],
   "source": [
    "logReg = LogisticRegression(max_iter=10000)"
   ]
  },
  {
   "cell_type": "markdown",
   "metadata": {},
   "source": [
    "#### Fitting the training data created via SMOTE"
   ]
  },
  {
   "cell_type": "code",
   "execution_count": 142,
   "metadata": {},
   "outputs": [
    {
     "data": {
      "text/plain": [
       "LogisticRegression(max_iter=10000)"
      ]
     },
     "execution_count": 142,
     "metadata": {},
     "output_type": "execute_result"
    }
   ],
   "source": [
    "logReg.fit(os_data_X,os_data_y.values.ravel())"
   ]
  },
  {
   "cell_type": "markdown",
   "metadata": {},
   "source": [
    "##### Using the non oversampled test data to test the Log Regression prediction"
   ]
  },
  {
   "cell_type": "code",
   "execution_count": 143,
   "metadata": {},
   "outputs": [],
   "source": [
    "y_pred = logReg.predict(X_test)"
   ]
  },
  {
   "cell_type": "markdown",
   "metadata": {},
   "source": [
    "#### Visualizing the Confusion Matrix which shows 1345 + 428 correctly predicted values and 513 + 147 incorrect predicted values"
   ]
  },
  {
   "cell_type": "code",
   "execution_count": 145,
   "metadata": {},
   "outputs": [
    {
     "data": {
      "text/plain": [
       "Text(0.5, 257.44, 'Predicted label')"
      ]
     },
     "execution_count": 145,
     "metadata": {},
     "output_type": "execute_result"
    },
    {
     "data": {
      "image/png": "[encoded data removed]",
      "text/plain": [
       "<Figure size 432x288 with 2 Axes>"
      ]
     },
     "metadata": {
      "needs_background": "light"
     },
     "output_type": "display_data"
    }
   ],
   "source": [
    "cnf_matrix = metrics.confusion_matrix(y_test, y_pred)\n",
    "class_names=[0,1] # name  of classes\n",
    "fig, ax = plt.subplots()\n",
    "tick_marks = np.arange(len(class_names))\n",
    "plt.xticks(tick_marks, class_names)\n",
    "plt.yticks(tick_marks, class_names)\n",
    "# create heatmap\n",
    "sns.heatmap(pd.DataFrame(cnf_matrix), annot=True, cmap=\"YlGnBu\" ,fmt='g')\n",
    "ax.xaxis.set_label_position(\"top\")\n",
    "plt.tight_layout()\n",
    "plt.title('Confusion matrix', y=1.1)\n",
    "plt.ylabel('Actual label')\n",
    "plt.xlabel('Predicted label')"
   ]
  },
  {
   "cell_type": "code",
   "execution_count": 146,
   "metadata": {},
   "outputs": [
    {
     "name": "stdout",
     "output_type": "stream",
     "text": [
      "Accuracy: 0.7287299630086314\n",
      "Precision: 0.45483528161530284\n",
      "Recall: 0.7443478260869565\n"
     ]
    }
   ],
   "source": [
    "print(\"Accuracy:\",metrics.accuracy_score(y_test, y_pred))\n",
    "print(\"Precision:\",metrics.precision_score(y_test, y_pred))\n",
    "print(\"Recall:\",metrics.recall_score(y_test, y_pred))"
   ]
  },
  {
   "cell_type": "markdown",
   "metadata": {},
   "source": [
    "#### Plotting the ROC Curve, Log Model produced a viable result above the 0.5 random mark"
   ]
  },
  {
   "cell_type": "code",
   "execution_count": 147,
   "metadata": {},
   "outputs": [
    {
     "data": {
      "image/png": "[encoded data removed]",
      "text/plain": [
       "<Figure size 432x288 with 1 Axes>"
      ]
     },
     "metadata": {
      "needs_background": "light"
     },
     "output_type": "display_data"
    }
   ],
   "source": [
    "y_pred_proba = logReg.predict_proba(X_test)[::,1]\n",
    "fpr, tpr, _ = metrics.roc_curve(y_test,  y_pred_proba)\n",
    "auc = metrics.roc_auc_score(y_test, y_pred_proba)\n",
    "plt.plot(fpr,tpr,label=\"data 1, auc=\"+str(auc))\n",
    "plt.plot([0, 1], [0, 1],'r--')\n",
    "plt.xlabel('False Positive Rate')\n",
    "plt.ylabel('True Positive Rate')\n",
    "plt.legend(loc=4)\n",
    "plt.show()"
   ]
  }
 ],
 "metadata": {
  "interpreter": {
   "hash": "f9b8210a67d4a5b974f0633f975e29130ba799535bb14bbb888dd93393bdb865"
  },
  "kernelspec": {
   "display_name": "Python 3.8.8 64-bit ('base': conda)",
   "language": "python",
   "name": "python3"
  },
  "language_info": {
   "codemirror_mode": {
    "name": "ipython",
    "version": 3
   },
   "file_extension": ".py",
   "mimetype": "text/x-python",
   "name": "python",
   "nbconvert_exporter": "python",
   "pygments_lexer": "ipython3",
   "version": "3.8.8"
  },
  "orig_nbformat": 4
 },
 "nbformat": 4,
 "nbformat_minor": 2
}
