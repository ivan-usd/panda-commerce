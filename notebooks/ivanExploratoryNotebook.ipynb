{
 "cells": [
  {
   "cell_type": "markdown",
   "metadata": {},
   "source": [
    "# Ivan's E-Commerce Exploratory NoteBook"
   ]
  },
  {
   "cell_type": "markdown",
   "metadata": {},
   "source": [
    "#####\n",
    "Data Importing and Pre-processing\n",
    "- Import dataset and describe characteristics such as dimensions, data types, file types, and import methods used\n",
    "- Clean, wrangle, and handle missing data\n",
    "- Transform data appropriately using techniques such as aggregation, normalization, and feature construction\n",
    "- Reduce redundant data and perform need based discretization\n",
    "\n",
    "Data Analysis and Visualization\n",
    "- Identify categorical, ordinal, and numerical variables within data\n",
    "- Provide measures of centrality and distribution with visualizations\n",
    "- Diagnose for correlations between variables and determine independent and dependent variables\n",
    "- Perform exploratory analysis in combination with visualization techniques to discover patterns and features of interest\n",
    "\n",
    "Data Analytics\n",
    "- Determine the need for a supervised or unsupervised learning method and identify dependent and independent variables\n",
    "- Train, test, and provide accuracy and evaluation metrics for model results\n",
    "\n",
    "Presentation\n",
    "- In a 5 to 10 minutes video, briefly explain the project workflow from the code and results in your markdown notebook\n",
    "State your findings from the data and provide the interpretation of results from your analysis at each stage in the project"
   ]
  },
  {
   "cell_type": "markdown",
   "metadata": {},
   "source": [
    "Saving log normailizing example for reference\n",
    "eCommerceDF['logarithm_base2'] = np.log2(eCommerceDF['ProductRelated'])\n",
    "eCommerceDF['logarithm_base2'].hist()"
   ]
  },
  {
   "cell_type": "markdown",
   "metadata": {},
   "source": [
    "#### Importing libraries"
   ]
  },
  {
   "cell_type": "code",
   "execution_count": 52,
   "metadata": {},
   "outputs": [],
   "source": [
    "import numpy as np\n",
    "import pandas as pd\n",
    "import matplotlib as mpl\n",
    "import matplotlib.pyplot as plt\n",
    "import seaborn as sns\n",
    "from sklearn.linear_model import LogisticRegression\n",
    "from sklearn.feature_extraction.text import CountVectorizer\n",
    "from sklearn.model_selection import train_test_split\n",
    "from sklearn.preprocessing import OrdinalEncoder\n",
    "from imblearn.over_sampling import SMOTE"
   ]
  },
  {
   "cell_type": "markdown",
   "metadata": {},
   "source": [
    "#### Importing CSV Dataset from E-Commerce"
   ]
  },
  {
   "cell_type": "code",
   "execution_count": 53,
   "metadata": {},
   "outputs": [],
   "source": [
    "#Set File Path & import csv\n",
    "datasetFP = '../data/Dataset 3 (Online Shoppers Intention)/online_shoppers_intention.csv'\n",
    "eCommerceDF = pd.read_csv(datasetFP) "
   ]
  },
  {
   "cell_type": "code",
   "execution_count": 54,
   "metadata": {},
   "outputs": [
    {
     "data": {
      "text/plain": [
       "Administrative             0.138917\n",
       "Administrative_Duration    0.093587\n",
       "Informational              0.094514\n",
       "Informational_Duration     0.070345\n",
       "ProductRelated             0.158538\n",
       "ProductRelated_Duration    0.152373\n",
       "BounceRates               -0.150673\n",
       "ExitRates                 -0.207071\n",
       "PageValues                 0.492422\n",
       "SpecialDay                -0.082305\n",
       "OperatingSystems          -0.014012\n",
       "Browser                    0.023984\n",
       "Region                    -0.011595\n",
       "TrafficType               -0.005113\n",
       "Weekend                    0.029295\n",
       "Revenue                    1.000000\n",
       "Name: Revenue, dtype: float64"
      ]
     },
     "execution_count": 54,
     "metadata": {},
     "output_type": "execute_result"
    }
   ],
   "source": [
    "eCommerceDF.corr()['Revenue']"
   ]
  },
  {
   "cell_type": "code",
   "execution_count": 55,
   "metadata": {},
   "outputs": [
    {
     "data": {
      "text/plain": [
       "(12330, 18)"
      ]
     },
     "execution_count": 55,
     "metadata": {},
     "output_type": "execute_result"
    }
   ],
   "source": [
    "eCommerceDF.shape"
   ]
  },
  {
   "cell_type": "markdown",
   "metadata": {},
   "source": [
    "### Removing duplicates from the data"
   ]
  },
  {
   "cell_type": "code",
   "execution_count": 56,
   "metadata": {},
   "outputs": [],
   "source": [
    "eCommerceDF = eCommerceDF.drop_duplicates()"
   ]
  },
  {
   "cell_type": "code",
   "execution_count": 57,
   "metadata": {},
   "outputs": [
    {
     "data": {
      "text/plain": [
       "(12209, 18)"
      ]
     },
     "execution_count": 57,
     "metadata": {},
     "output_type": "execute_result"
    }
   ],
   "source": [
    "eCommerceDF.shape"
   ]
  },
  {
   "cell_type": "markdown",
   "metadata": {},
   "source": [
    "### Filling Page Values based on Revenue --> Saw if Revenue is False Page Values had a value of 0"
   ]
  },
  {
   "cell_type": "code",
   "execution_count": 58,
   "metadata": {},
   "outputs": [],
   "source": [
    "eCommerceDF.loc[eCommerceDF['PageValues'].isnull()&eCommerceDF['Revenue'].notnull()&eCommerceDF['Revenue'].eq(False),'PageValues'] = 0"
   ]
  },
  {
   "cell_type": "markdown",
   "metadata": {},
   "source": [
    "### Filling Revenue based on previous logic --> If PageValues = 0 then Revenue = False"
   ]
  },
  {
   "cell_type": "code",
   "execution_count": 59,
   "metadata": {},
   "outputs": [],
   "source": [
    "eCommerceDF.loc[eCommerceDF['PageValues']!=0&eCommerceDF['Revenue'].eq(False),'Revenue'] = True"
   ]
  },
  {
   "cell_type": "code",
   "execution_count": 60,
   "metadata": {},
   "outputs": [
    {
     "data": {
      "text/html": [
       "<div>\n",
       "<style scoped>\n",
       "    .dataframe tbody tr th:only-of-type {\n",
       "        vertical-align: middle;\n",
       "    }\n",
       "\n",
       "    .dataframe tbody tr th {\n",
       "        vertical-align: top;\n",
       "    }\n",
       "\n",
       "    .dataframe thead th {\n",
       "        text-align: right;\n",
       "    }\n",
       "</style>\n",
       "<table border=\"1\" class=\"dataframe\">\n",
       "  <thead>\n",
       "    <tr style=\"text-align: right;\">\n",
       "      <th></th>\n",
       "      <th>Administrative</th>\n",
       "      <th>Administrative_Duration</th>\n",
       "      <th>Informational</th>\n",
       "      <th>Informational_Duration</th>\n",
       "      <th>ProductRelated</th>\n",
       "      <th>ProductRelated_Duration</th>\n",
       "      <th>BounceRates</th>\n",
       "      <th>ExitRates</th>\n",
       "      <th>PageValues</th>\n",
       "      <th>SpecialDay</th>\n",
       "      <th>OperatingSystems</th>\n",
       "      <th>Browser</th>\n",
       "      <th>Region</th>\n",
       "      <th>TrafficType</th>\n",
       "      <th>Weekend</th>\n",
       "      <th>Revenue</th>\n",
       "    </tr>\n",
       "  </thead>\n",
       "  <tbody>\n",
       "    <tr>\n",
       "      <th>Administrative</th>\n",
       "      <td>1.000000</td>\n",
       "      <td>0.600493</td>\n",
       "      <td>0.373009</td>\n",
       "      <td>0.254846</td>\n",
       "      <td>0.428396</td>\n",
       "      <td>0.371237</td>\n",
       "      <td>-0.213442</td>\n",
       "      <td>-0.311419</td>\n",
       "      <td>0.097417</td>\n",
       "      <td>-0.096870</td>\n",
       "      <td>-0.005337</td>\n",
       "      <td>-0.025537</td>\n",
       "      <td>-0.007078</td>\n",
       "      <td>-0.034520</td>\n",
       "      <td>0.023949</td>\n",
       "      <td>0.341764</td>\n",
       "    </tr>\n",
       "    <tr>\n",
       "      <th>Administrative_Duration</th>\n",
       "      <td>0.600493</td>\n",
       "      <td>1.000000</td>\n",
       "      <td>0.301845</td>\n",
       "      <td>0.237237</td>\n",
       "      <td>0.286935</td>\n",
       "      <td>0.353643</td>\n",
       "      <td>-0.137153</td>\n",
       "      <td>-0.202092</td>\n",
       "      <td>0.066621</td>\n",
       "      <td>-0.074615</td>\n",
       "      <td>-0.006583</td>\n",
       "      <td>-0.015687</td>\n",
       "      <td>-0.006609</td>\n",
       "      <td>-0.014911</td>\n",
       "      <td>0.013342</td>\n",
       "      <td>0.215851</td>\n",
       "    </tr>\n",
       "    <tr>\n",
       "      <th>Informational</th>\n",
       "      <td>0.373009</td>\n",
       "      <td>0.301845</td>\n",
       "      <td>1.000000</td>\n",
       "      <td>0.618599</td>\n",
       "      <td>0.371334</td>\n",
       "      <td>0.384959</td>\n",
       "      <td>-0.108863</td>\n",
       "      <td>-0.158998</td>\n",
       "      <td>0.047088</td>\n",
       "      <td>-0.049473</td>\n",
       "      <td>-0.008812</td>\n",
       "      <td>-0.037830</td>\n",
       "      <td>-0.029978</td>\n",
       "      <td>-0.034458</td>\n",
       "      <td>0.032945</td>\n",
       "      <td>0.219442</td>\n",
       "    </tr>\n",
       "    <tr>\n",
       "      <th>Informational_Duration</th>\n",
       "      <td>0.254846</td>\n",
       "      <td>0.237237</td>\n",
       "      <td>0.618599</td>\n",
       "      <td>1.000000</td>\n",
       "      <td>0.279114</td>\n",
       "      <td>0.346621</td>\n",
       "      <td>-0.070017</td>\n",
       "      <td>-0.102930</td>\n",
       "      <td>0.029931</td>\n",
       "      <td>-0.031236</td>\n",
       "      <td>-0.010230</td>\n",
       "      <td>-0.019543</td>\n",
       "      <td>-0.027824</td>\n",
       "      <td>-0.025083</td>\n",
       "      <td>0.023237</td>\n",
       "      <td>0.157555</td>\n",
       "    </tr>\n",
       "    <tr>\n",
       "      <th>ProductRelated</th>\n",
       "      <td>0.428396</td>\n",
       "      <td>0.286935</td>\n",
       "      <td>0.371334</td>\n",
       "      <td>0.279114</td>\n",
       "      <td>1.000000</td>\n",
       "      <td>0.860349</td>\n",
       "      <td>-0.193276</td>\n",
       "      <td>-0.286290</td>\n",
       "      <td>0.054859</td>\n",
       "      <td>-0.025766</td>\n",
       "      <td>0.004743</td>\n",
       "      <td>-0.013504</td>\n",
       "      <td>-0.039920</td>\n",
       "      <td>-0.044099</td>\n",
       "      <td>0.013602</td>\n",
       "      <td>0.306388</td>\n",
       "    </tr>\n",
       "    <tr>\n",
       "      <th>ProductRelated_Duration</th>\n",
       "      <td>0.371237</td>\n",
       "      <td>0.353643</td>\n",
       "      <td>0.384959</td>\n",
       "      <td>0.346621</td>\n",
       "      <td>0.860349</td>\n",
       "      <td>1.000000</td>\n",
       "      <td>-0.174186</td>\n",
       "      <td>-0.245483</td>\n",
       "      <td>0.051277</td>\n",
       "      <td>-0.038055</td>\n",
       "      <td>0.003867</td>\n",
       "      <td>-0.007650</td>\n",
       "      <td>-0.034700</td>\n",
       "      <td>-0.037279</td>\n",
       "      <td>0.005016</td>\n",
       "      <td>0.282378</td>\n",
       "    </tr>\n",
       "    <tr>\n",
       "      <th>BounceRates</th>\n",
       "      <td>-0.213442</td>\n",
       "      <td>-0.137153</td>\n",
       "      <td>-0.108863</td>\n",
       "      <td>-0.070017</td>\n",
       "      <td>-0.193276</td>\n",
       "      <td>-0.174186</td>\n",
       "      <td>1.000000</td>\n",
       "      <td>0.902538</td>\n",
       "      <td>-0.115421</td>\n",
       "      <td>0.087994</td>\n",
       "      <td>0.025934</td>\n",
       "      <td>-0.015922</td>\n",
       "      <td>0.001752</td>\n",
       "      <td>0.088280</td>\n",
       "      <td>-0.035434</td>\n",
       "      <td>-0.184240</td>\n",
       "    </tr>\n",
       "    <tr>\n",
       "      <th>ExitRates</th>\n",
       "      <td>-0.311419</td>\n",
       "      <td>-0.202092</td>\n",
       "      <td>-0.158998</td>\n",
       "      <td>-0.102930</td>\n",
       "      <td>-0.286290</td>\n",
       "      <td>-0.245483</td>\n",
       "      <td>0.902538</td>\n",
       "      <td>1.000000</td>\n",
       "      <td>-0.173206</td>\n",
       "      <td>0.116600</td>\n",
       "      <td>0.015798</td>\n",
       "      <td>-0.003716</td>\n",
       "      <td>-0.001874</td>\n",
       "      <td>0.086725</td>\n",
       "      <td>-0.053577</td>\n",
       "      <td>-0.262224</td>\n",
       "    </tr>\n",
       "    <tr>\n",
       "      <th>PageValues</th>\n",
       "      <td>0.097417</td>\n",
       "      <td>0.066621</td>\n",
       "      <td>0.047088</td>\n",
       "      <td>0.029931</td>\n",
       "      <td>0.054859</td>\n",
       "      <td>0.051277</td>\n",
       "      <td>-0.115421</td>\n",
       "      <td>-0.173206</td>\n",
       "      <td>1.000000</td>\n",
       "      <td>-0.066073</td>\n",
       "      <td>0.019594</td>\n",
       "      <td>0.046020</td>\n",
       "      <td>0.010350</td>\n",
       "      <td>0.012953</td>\n",
       "      <td>0.010434</td>\n",
       "      <td>0.546952</td>\n",
       "    </tr>\n",
       "    <tr>\n",
       "      <th>SpecialDay</th>\n",
       "      <td>-0.096870</td>\n",
       "      <td>-0.074615</td>\n",
       "      <td>-0.049473</td>\n",
       "      <td>-0.031236</td>\n",
       "      <td>-0.025766</td>\n",
       "      <td>-0.038055</td>\n",
       "      <td>0.087994</td>\n",
       "      <td>0.116600</td>\n",
       "      <td>-0.066073</td>\n",
       "      <td>1.000000</td>\n",
       "      <td>0.013518</td>\n",
       "      <td>0.003564</td>\n",
       "      <td>-0.016367</td>\n",
       "      <td>0.052905</td>\n",
       "      <td>-0.017666</td>\n",
       "      <td>-0.084733</td>\n",
       "    </tr>\n",
       "    <tr>\n",
       "      <th>OperatingSystems</th>\n",
       "      <td>-0.005337</td>\n",
       "      <td>-0.006583</td>\n",
       "      <td>-0.008812</td>\n",
       "      <td>-0.010230</td>\n",
       "      <td>0.004743</td>\n",
       "      <td>0.003867</td>\n",
       "      <td>0.025934</td>\n",
       "      <td>0.015798</td>\n",
       "      <td>0.019594</td>\n",
       "      <td>0.013518</td>\n",
       "      <td>1.000000</td>\n",
       "      <td>0.215002</td>\n",
       "      <td>0.072517</td>\n",
       "      <td>0.183672</td>\n",
       "      <td>0.001013</td>\n",
       "      <td>-0.013535</td>\n",
       "    </tr>\n",
       "    <tr>\n",
       "      <th>Browser</th>\n",
       "      <td>-0.025537</td>\n",
       "      <td>-0.015687</td>\n",
       "      <td>-0.037830</td>\n",
       "      <td>-0.019543</td>\n",
       "      <td>-0.013504</td>\n",
       "      <td>-0.007650</td>\n",
       "      <td>-0.015922</td>\n",
       "      <td>-0.003716</td>\n",
       "      <td>0.046020</td>\n",
       "      <td>0.003564</td>\n",
       "      <td>0.215002</td>\n",
       "      <td>1.000000</td>\n",
       "      <td>0.092122</td>\n",
       "      <td>0.102907</td>\n",
       "      <td>-0.039636</td>\n",
       "      <td>0.012079</td>\n",
       "    </tr>\n",
       "    <tr>\n",
       "      <th>Region</th>\n",
       "      <td>-0.007078</td>\n",
       "      <td>-0.006609</td>\n",
       "      <td>-0.029978</td>\n",
       "      <td>-0.027824</td>\n",
       "      <td>-0.039920</td>\n",
       "      <td>-0.034700</td>\n",
       "      <td>0.001752</td>\n",
       "      <td>-0.001874</td>\n",
       "      <td>0.010350</td>\n",
       "      <td>-0.016367</td>\n",
       "      <td>0.072517</td>\n",
       "      <td>0.092122</td>\n",
       "      <td>1.000000</td>\n",
       "      <td>0.043008</td>\n",
       "      <td>-0.001409</td>\n",
       "      <td>-0.012148</td>\n",
       "    </tr>\n",
       "    <tr>\n",
       "      <th>TrafficType</th>\n",
       "      <td>-0.034520</td>\n",
       "      <td>-0.014911</td>\n",
       "      <td>-0.034458</td>\n",
       "      <td>-0.025083</td>\n",
       "      <td>-0.044099</td>\n",
       "      <td>-0.037279</td>\n",
       "      <td>0.088280</td>\n",
       "      <td>0.086725</td>\n",
       "      <td>0.012953</td>\n",
       "      <td>0.052905</td>\n",
       "      <td>0.183672</td>\n",
       "      <td>0.102907</td>\n",
       "      <td>0.043008</td>\n",
       "      <td>1.000000</td>\n",
       "      <td>-0.002040</td>\n",
       "      <td>-0.025953</td>\n",
       "    </tr>\n",
       "    <tr>\n",
       "      <th>Weekend</th>\n",
       "      <td>0.023949</td>\n",
       "      <td>0.013342</td>\n",
       "      <td>0.032945</td>\n",
       "      <td>0.023237</td>\n",
       "      <td>0.013602</td>\n",
       "      <td>0.005016</td>\n",
       "      <td>-0.035434</td>\n",
       "      <td>-0.053577</td>\n",
       "      <td>0.010434</td>\n",
       "      <td>-0.017666</td>\n",
       "      <td>0.001013</td>\n",
       "      <td>-0.039636</td>\n",
       "      <td>-0.001409</td>\n",
       "      <td>-0.002040</td>\n",
       "      <td>1.000000</td>\n",
       "      <td>0.025432</td>\n",
       "    </tr>\n",
       "    <tr>\n",
       "      <th>Revenue</th>\n",
       "      <td>0.341764</td>\n",
       "      <td>0.215851</td>\n",
       "      <td>0.219442</td>\n",
       "      <td>0.157555</td>\n",
       "      <td>0.306388</td>\n",
       "      <td>0.282378</td>\n",
       "      <td>-0.184240</td>\n",
       "      <td>-0.262224</td>\n",
       "      <td>0.546952</td>\n",
       "      <td>-0.084733</td>\n",
       "      <td>-0.013535</td>\n",
       "      <td>0.012079</td>\n",
       "      <td>-0.012148</td>\n",
       "      <td>-0.025953</td>\n",
       "      <td>0.025432</td>\n",
       "      <td>1.000000</td>\n",
       "    </tr>\n",
       "  </tbody>\n",
       "</table>\n",
       "</div>"
      ],
      "text/plain": [
       "                         Administrative  Administrative_Duration  \\\n",
       "Administrative                 1.000000                 0.600493   \n",
       "Administrative_Duration        0.600493                 1.000000   \n",
       "Informational                  0.373009                 0.301845   \n",
       "Informational_Duration         0.254846                 0.237237   \n",
       "ProductRelated                 0.428396                 0.286935   \n",
       "ProductRelated_Duration        0.371237                 0.353643   \n",
       "BounceRates                   -0.213442                -0.137153   \n",
       "ExitRates                     -0.311419                -0.202092   \n",
       "PageValues                     0.097417                 0.066621   \n",
       "SpecialDay                    -0.096870                -0.074615   \n",
       "OperatingSystems              -0.005337                -0.006583   \n",
       "Browser                       -0.025537                -0.015687   \n",
       "Region                        -0.007078                -0.006609   \n",
       "TrafficType                   -0.034520                -0.014911   \n",
       "Weekend                        0.023949                 0.013342   \n",
       "Revenue                        0.341764                 0.215851   \n",
       "\n",
       "                         Informational  Informational_Duration  \\\n",
       "Administrative                0.373009                0.254846   \n",
       "Administrative_Duration       0.301845                0.237237   \n",
       "Informational                 1.000000                0.618599   \n",
       "Informational_Duration        0.618599                1.000000   \n",
       "ProductRelated                0.371334                0.279114   \n",
       "ProductRelated_Duration       0.384959                0.346621   \n",
       "BounceRates                  -0.108863               -0.070017   \n",
       "ExitRates                    -0.158998               -0.102930   \n",
       "PageValues                    0.047088                0.029931   \n",
       "SpecialDay                   -0.049473               -0.031236   \n",
       "OperatingSystems             -0.008812               -0.010230   \n",
       "Browser                      -0.037830               -0.019543   \n",
       "Region                       -0.029978               -0.027824   \n",
       "TrafficType                  -0.034458               -0.025083   \n",
       "Weekend                       0.032945                0.023237   \n",
       "Revenue                       0.219442                0.157555   \n",
       "\n",
       "                         ProductRelated  ProductRelated_Duration  BounceRates  \\\n",
       "Administrative                 0.428396                 0.371237    -0.213442   \n",
       "Administrative_Duration        0.286935                 0.353643    -0.137153   \n",
       "Informational                  0.371334                 0.384959    -0.108863   \n",
       "Informational_Duration         0.279114                 0.346621    -0.070017   \n",
       "ProductRelated                 1.000000                 0.860349    -0.193276   \n",
       "ProductRelated_Duration        0.860349                 1.000000    -0.174186   \n",
       "BounceRates                   -0.193276                -0.174186     1.000000   \n",
       "ExitRates                     -0.286290                -0.245483     0.902538   \n",
       "PageValues                     0.054859                 0.051277    -0.115421   \n",
       "SpecialDay                    -0.025766                -0.038055     0.087994   \n",
       "OperatingSystems               0.004743                 0.003867     0.025934   \n",
       "Browser                       -0.013504                -0.007650    -0.015922   \n",
       "Region                        -0.039920                -0.034700     0.001752   \n",
       "TrafficType                   -0.044099                -0.037279     0.088280   \n",
       "Weekend                        0.013602                 0.005016    -0.035434   \n",
       "Revenue                        0.306388                 0.282378    -0.184240   \n",
       "\n",
       "                         ExitRates  PageValues  SpecialDay  OperatingSystems  \\\n",
       "Administrative           -0.311419    0.097417   -0.096870         -0.005337   \n",
       "Administrative_Duration  -0.202092    0.066621   -0.074615         -0.006583   \n",
       "Informational            -0.158998    0.047088   -0.049473         -0.008812   \n",
       "Informational_Duration   -0.102930    0.029931   -0.031236         -0.010230   \n",
       "ProductRelated           -0.286290    0.054859   -0.025766          0.004743   \n",
       "ProductRelated_Duration  -0.245483    0.051277   -0.038055          0.003867   \n",
       "BounceRates               0.902538   -0.115421    0.087994          0.025934   \n",
       "ExitRates                 1.000000   -0.173206    0.116600          0.015798   \n",
       "PageValues               -0.173206    1.000000   -0.066073          0.019594   \n",
       "SpecialDay                0.116600   -0.066073    1.000000          0.013518   \n",
       "OperatingSystems          0.015798    0.019594    0.013518          1.000000   \n",
       "Browser                  -0.003716    0.046020    0.003564          0.215002   \n",
       "Region                   -0.001874    0.010350   -0.016367          0.072517   \n",
       "TrafficType               0.086725    0.012953    0.052905          0.183672   \n",
       "Weekend                  -0.053577    0.010434   -0.017666          0.001013   \n",
       "Revenue                  -0.262224    0.546952   -0.084733         -0.013535   \n",
       "\n",
       "                          Browser    Region  TrafficType   Weekend   Revenue  \n",
       "Administrative          -0.025537 -0.007078    -0.034520  0.023949  0.341764  \n",
       "Administrative_Duration -0.015687 -0.006609    -0.014911  0.013342  0.215851  \n",
       "Informational           -0.037830 -0.029978    -0.034458  0.032945  0.219442  \n",
       "Informational_Duration  -0.019543 -0.027824    -0.025083  0.023237  0.157555  \n",
       "ProductRelated          -0.013504 -0.039920    -0.044099  0.013602  0.306388  \n",
       "ProductRelated_Duration -0.007650 -0.034700    -0.037279  0.005016  0.282378  \n",
       "BounceRates             -0.015922  0.001752     0.088280 -0.035434 -0.184240  \n",
       "ExitRates               -0.003716 -0.001874     0.086725 -0.053577 -0.262224  \n",
       "PageValues               0.046020  0.010350     0.012953  0.010434  0.546952  \n",
       "SpecialDay               0.003564 -0.016367     0.052905 -0.017666 -0.084733  \n",
       "OperatingSystems         0.215002  0.072517     0.183672  0.001013 -0.013535  \n",
       "Browser                  1.000000  0.092122     0.102907 -0.039636  0.012079  \n",
       "Region                   0.092122  1.000000     0.043008 -0.001409 -0.012148  \n",
       "TrafficType              0.102907  0.043008     1.000000 -0.002040 -0.025953  \n",
       "Weekend                 -0.039636 -0.001409    -0.002040  1.000000  0.025432  \n",
       "Revenue                  0.012079 -0.012148    -0.025953  0.025432  1.000000  "
      ]
     },
     "execution_count": 60,
     "metadata": {},
     "output_type": "execute_result"
    }
   ],
   "source": [
    "eCommerceDF.corr()"
   ]
  },
  {
   "cell_type": "markdown",
   "metadata": {},
   "source": [
    "### Dropping Operating System Column not a good predictor variable for Revenue"
   ]
  },
  {
   "cell_type": "code",
   "execution_count": 61,
   "metadata": {},
   "outputs": [],
   "source": [
    "eCommerceDF = eCommerceDF.drop('OperatingSystems',1)"
   ]
  },
  {
   "cell_type": "code",
   "execution_count": 62,
   "metadata": {},
   "outputs": [
    {
     "data": {
      "text/plain": [
       "Administrative               0\n",
       "Administrative_Duration      0\n",
       "Informational              128\n",
       "Informational_Duration       0\n",
       "ProductRelated               0\n",
       "ProductRelated_Duration      0\n",
       "BounceRates                  0\n",
       "ExitRates                    0\n",
       "PageValues                  21\n",
       "SpecialDay                   0\n",
       "Month                        0\n",
       "Browser                      0\n",
       "Region                       0\n",
       "TrafficType                  0\n",
       "VisitorType                  0\n",
       "Weekend                      0\n",
       "Revenue                      0\n",
       "dtype: int64"
      ]
     },
     "execution_count": 62,
     "metadata": {},
     "output_type": "execute_result"
    }
   ],
   "source": [
    "eCommerceDF.isnull().sum()"
   ]
  },
  {
   "cell_type": "markdown",
   "metadata": {},
   "source": [
    "### Filling Information with logic --> If user duration on an Informational Page is 0 then Informational has to be equal to 0 "
   ]
  },
  {
   "cell_type": "code",
   "execution_count": 63,
   "metadata": {},
   "outputs": [],
   "source": [
    "eCommerceDF.loc[eCommerceDF['Informational'].isnull()&eCommerceDF['Informational_Duration'].notnull()&eCommerceDF['Informational_Duration'].eq(0),'Informational'] = 0"
   ]
  },
  {
   "cell_type": "code",
   "execution_count": 64,
   "metadata": {},
   "outputs": [
    {
     "data": {
      "text/plain": [
       "Administrative              0\n",
       "Administrative_Duration     0\n",
       "Informational              24\n",
       "Informational_Duration      0\n",
       "ProductRelated              0\n",
       "ProductRelated_Duration     0\n",
       "BounceRates                 0\n",
       "ExitRates                   0\n",
       "PageValues                 21\n",
       "SpecialDay                  0\n",
       "Month                       0\n",
       "Browser                     0\n",
       "Region                      0\n",
       "TrafficType                 0\n",
       "VisitorType                 0\n",
       "Weekend                     0\n",
       "Revenue                     0\n",
       "dtype: int64"
      ]
     },
     "execution_count": 64,
     "metadata": {},
     "output_type": "execute_result"
    }
   ],
   "source": [
    "eCommerceDF.isnull().sum()"
   ]
  },
  {
   "cell_type": "code",
   "execution_count": 65,
   "metadata": {},
   "outputs": [
    {
     "data": {
      "text/plain": [
       "12209"
      ]
     },
     "execution_count": 65,
     "metadata": {},
     "output_type": "execute_result"
    }
   ],
   "source": [
    "eCommerceDF.shape[0]"
   ]
  },
  {
   "cell_type": "markdown",
   "metadata": {},
   "source": [
    "### Dropped remaining values 45 total"
   ]
  },
  {
   "cell_type": "code",
   "execution_count": 66,
   "metadata": {},
   "outputs": [],
   "source": [
    "eCommerceDF = eCommerceDF.dropna()"
   ]
  },
  {
   "cell_type": "code",
   "execution_count": 67,
   "metadata": {},
   "outputs": [
    {
     "data": {
      "text/plain": [
       "12164"
      ]
     },
     "execution_count": 67,
     "metadata": {},
     "output_type": "execute_result"
    }
   ],
   "source": [
    "eCommerceDF.shape[0] "
   ]
  },
  {
   "cell_type": "code",
   "execution_count": 68,
   "metadata": {},
   "outputs": [
    {
     "data": {
      "text/plain": [
       "Administrative               int64\n",
       "Administrative_Duration    float64\n",
       "Informational              float64\n",
       "Informational_Duration     float64\n",
       "ProductRelated               int64\n",
       "ProductRelated_Duration    float64\n",
       "BounceRates                float64\n",
       "ExitRates                  float64\n",
       "PageValues                 float64\n",
       "SpecialDay                 float64\n",
       "Month                       object\n",
       "Browser                      int64\n",
       "Region                       int64\n",
       "TrafficType                  int64\n",
       "VisitorType                 object\n",
       "Weekend                       bool\n",
       "Revenue                       bool\n",
       "dtype: object"
      ]
     },
     "execution_count": 68,
     "metadata": {},
     "output_type": "execute_result"
    }
   ],
   "source": [
    "eCommerceDF.dtypes"
   ]
  },
  {
   "cell_type": "markdown",
   "metadata": {},
   "source": [
    "### Updating data type for Informational to int "
   ]
  },
  {
   "cell_type": "code",
   "execution_count": 69,
   "metadata": {},
   "outputs": [],
   "source": [
    "eCommerceDF['Informational'] = eCommerceDF['Informational'].astype('int64')"
   ]
  },
  {
   "cell_type": "markdown",
   "metadata": {},
   "source": [
    "### Dropping following columns due to low correlation in predicting Revenue"
   ]
  },
  {
   "cell_type": "code",
   "execution_count": 70,
   "metadata": {},
   "outputs": [],
   "source": [
    "eCommerceDF = eCommerceDF.drop(columns=['Browser','Region','TrafficType'])"
   ]
  },
  {
   "cell_type": "code",
   "execution_count": 71,
   "metadata": {},
   "outputs": [
    {
     "data": {
      "text/plain": [
       "Index(['Administrative', 'Administrative_Duration', 'Informational',\n",
       "       'Informational_Duration', 'ProductRelated', 'ProductRelated_Duration',\n",
       "       'BounceRates', 'ExitRates', 'PageValues', 'SpecialDay', 'Month',\n",
       "       'VisitorType', 'Weekend', 'Revenue'],\n",
       "      dtype='object')"
      ]
     },
     "execution_count": 71,
     "metadata": {},
     "output_type": "execute_result"
    }
   ],
   "source": [
    "eCommerceDF.columns"
   ]
  },
  {
   "cell_type": "code",
   "execution_count": 72,
   "metadata": {},
   "outputs": [
    {
     "data": {
      "text/html": [
       "<div>\n",
       "<style scoped>\n",
       "    .dataframe tbody tr th:only-of-type {\n",
       "        vertical-align: middle;\n",
       "    }\n",
       "\n",
       "    .dataframe tbody tr th {\n",
       "        vertical-align: top;\n",
       "    }\n",
       "\n",
       "    .dataframe thead th {\n",
       "        text-align: right;\n",
       "    }\n",
       "</style>\n",
       "<table border=\"1\" class=\"dataframe\">\n",
       "  <thead>\n",
       "    <tr style=\"text-align: right;\">\n",
       "      <th></th>\n",
       "      <th>Administrative</th>\n",
       "      <th>Administrative_Duration</th>\n",
       "      <th>Informational</th>\n",
       "      <th>Informational_Duration</th>\n",
       "      <th>ProductRelated</th>\n",
       "      <th>ProductRelated_Duration</th>\n",
       "      <th>BounceRates</th>\n",
       "      <th>ExitRates</th>\n",
       "      <th>PageValues</th>\n",
       "      <th>SpecialDay</th>\n",
       "      <th>Month</th>\n",
       "      <th>Weekend</th>\n",
       "      <th>Revenue</th>\n",
       "    </tr>\n",
       "    <tr>\n",
       "      <th>VisitorType</th>\n",
       "      <th></th>\n",
       "      <th></th>\n",
       "      <th></th>\n",
       "      <th></th>\n",
       "      <th></th>\n",
       "      <th></th>\n",
       "      <th></th>\n",
       "      <th></th>\n",
       "      <th></th>\n",
       "      <th></th>\n",
       "      <th></th>\n",
       "      <th></th>\n",
       "      <th></th>\n",
       "    </tr>\n",
       "  </thead>\n",
       "  <tbody>\n",
       "    <tr>\n",
       "      <th>New_Visitor</th>\n",
       "      <td>1690</td>\n",
       "      <td>1690</td>\n",
       "      <td>1690</td>\n",
       "      <td>1690</td>\n",
       "      <td>1690</td>\n",
       "      <td>1690</td>\n",
       "      <td>1690</td>\n",
       "      <td>1690</td>\n",
       "      <td>1690</td>\n",
       "      <td>1690</td>\n",
       "      <td>1690</td>\n",
       "      <td>1690</td>\n",
       "      <td>1690</td>\n",
       "    </tr>\n",
       "    <tr>\n",
       "      <th>Other</th>\n",
       "      <td>81</td>\n",
       "      <td>81</td>\n",
       "      <td>81</td>\n",
       "      <td>81</td>\n",
       "      <td>81</td>\n",
       "      <td>81</td>\n",
       "      <td>81</td>\n",
       "      <td>81</td>\n",
       "      <td>81</td>\n",
       "      <td>81</td>\n",
       "      <td>81</td>\n",
       "      <td>81</td>\n",
       "      <td>81</td>\n",
       "    </tr>\n",
       "    <tr>\n",
       "      <th>Returning_Visitor</th>\n",
       "      <td>10393</td>\n",
       "      <td>10393</td>\n",
       "      <td>10393</td>\n",
       "      <td>10393</td>\n",
       "      <td>10393</td>\n",
       "      <td>10393</td>\n",
       "      <td>10393</td>\n",
       "      <td>10393</td>\n",
       "      <td>10393</td>\n",
       "      <td>10393</td>\n",
       "      <td>10393</td>\n",
       "      <td>10393</td>\n",
       "      <td>10393</td>\n",
       "    </tr>\n",
       "  </tbody>\n",
       "</table>\n",
       "</div>"
      ],
      "text/plain": [
       "                   Administrative  Administrative_Duration  Informational  \\\n",
       "VisitorType                                                                 \n",
       "New_Visitor                  1690                     1690           1690   \n",
       "Other                          81                       81             81   \n",
       "Returning_Visitor           10393                    10393          10393   \n",
       "\n",
       "                   Informational_Duration  ProductRelated  \\\n",
       "VisitorType                                                 \n",
       "New_Visitor                          1690            1690   \n",
       "Other                                  81              81   \n",
       "Returning_Visitor                   10393           10393   \n",
       "\n",
       "                   ProductRelated_Duration  BounceRates  ExitRates  \\\n",
       "VisitorType                                                          \n",
       "New_Visitor                           1690         1690       1690   \n",
       "Other                                   81           81         81   \n",
       "Returning_Visitor                    10393        10393      10393   \n",
       "\n",
       "                   PageValues  SpecialDay  Month  Weekend  Revenue  \n",
       "VisitorType                                                         \n",
       "New_Visitor              1690        1690   1690     1690     1690  \n",
       "Other                      81          81     81       81       81  \n",
       "Returning_Visitor       10393       10393  10393    10393    10393  "
      ]
     },
     "execution_count": 72,
     "metadata": {},
     "output_type": "execute_result"
    }
   ],
   "source": [
    "eCommerceDF.groupby(by=\"VisitorType\").count()"
   ]
  },
  {
   "cell_type": "code",
   "execution_count": 73,
   "metadata": {},
   "outputs": [
    {
     "data": {
      "text/html": [
       "<div>\n",
       "<style scoped>\n",
       "    .dataframe tbody tr th:only-of-type {\n",
       "        vertical-align: middle;\n",
       "    }\n",
       "\n",
       "    .dataframe tbody tr th {\n",
       "        vertical-align: top;\n",
       "    }\n",
       "\n",
       "    .dataframe thead th {\n",
       "        text-align: right;\n",
       "    }\n",
       "</style>\n",
       "<table border=\"1\" class=\"dataframe\">\n",
       "  <thead>\n",
       "    <tr style=\"text-align: right;\">\n",
       "      <th></th>\n",
       "      <th></th>\n",
       "      <th>Administrative</th>\n",
       "      <th>Administrative_Duration</th>\n",
       "      <th>Informational</th>\n",
       "      <th>Informational_Duration</th>\n",
       "      <th>ProductRelated</th>\n",
       "      <th>ProductRelated_Duration</th>\n",
       "      <th>BounceRates</th>\n",
       "      <th>ExitRates</th>\n",
       "      <th>PageValues</th>\n",
       "      <th>SpecialDay</th>\n",
       "      <th>Month</th>\n",
       "      <th>Weekend</th>\n",
       "    </tr>\n",
       "    <tr>\n",
       "      <th>VisitorType</th>\n",
       "      <th>Revenue</th>\n",
       "      <th></th>\n",
       "      <th></th>\n",
       "      <th></th>\n",
       "      <th></th>\n",
       "      <th></th>\n",
       "      <th></th>\n",
       "      <th></th>\n",
       "      <th></th>\n",
       "      <th></th>\n",
       "      <th></th>\n",
       "      <th></th>\n",
       "      <th></th>\n",
       "    </tr>\n",
       "  </thead>\n",
       "  <tbody>\n",
       "    <tr>\n",
       "      <th rowspan=\"2\" valign=\"top\">New_Visitor</th>\n",
       "      <th>False</th>\n",
       "      <td>1220</td>\n",
       "      <td>1220</td>\n",
       "      <td>1220</td>\n",
       "      <td>1220</td>\n",
       "      <td>1220</td>\n",
       "      <td>1220</td>\n",
       "      <td>1220</td>\n",
       "      <td>1220</td>\n",
       "      <td>1220</td>\n",
       "      <td>1220</td>\n",
       "      <td>1220</td>\n",
       "      <td>1220</td>\n",
       "    </tr>\n",
       "    <tr>\n",
       "      <th>True</th>\n",
       "      <td>470</td>\n",
       "      <td>470</td>\n",
       "      <td>470</td>\n",
       "      <td>470</td>\n",
       "      <td>470</td>\n",
       "      <td>470</td>\n",
       "      <td>470</td>\n",
       "      <td>470</td>\n",
       "      <td>470</td>\n",
       "      <td>470</td>\n",
       "      <td>470</td>\n",
       "      <td>470</td>\n",
       "    </tr>\n",
       "    <tr>\n",
       "      <th rowspan=\"2\" valign=\"top\">Other</th>\n",
       "      <th>False</th>\n",
       "      <td>63</td>\n",
       "      <td>63</td>\n",
       "      <td>63</td>\n",
       "      <td>63</td>\n",
       "      <td>63</td>\n",
       "      <td>63</td>\n",
       "      <td>63</td>\n",
       "      <td>63</td>\n",
       "      <td>63</td>\n",
       "      <td>63</td>\n",
       "      <td>63</td>\n",
       "      <td>63</td>\n",
       "    </tr>\n",
       "    <tr>\n",
       "      <th>True</th>\n",
       "      <td>18</td>\n",
       "      <td>18</td>\n",
       "      <td>18</td>\n",
       "      <td>18</td>\n",
       "      <td>18</td>\n",
       "      <td>18</td>\n",
       "      <td>18</td>\n",
       "      <td>18</td>\n",
       "      <td>18</td>\n",
       "      <td>18</td>\n",
       "      <td>18</td>\n",
       "      <td>18</td>\n",
       "    </tr>\n",
       "    <tr>\n",
       "      <th rowspan=\"2\" valign=\"top\">Returning_Visitor</th>\n",
       "      <th>False</th>\n",
       "      <td>7826</td>\n",
       "      <td>7826</td>\n",
       "      <td>7826</td>\n",
       "      <td>7826</td>\n",
       "      <td>7826</td>\n",
       "      <td>7826</td>\n",
       "      <td>7826</td>\n",
       "      <td>7826</td>\n",
       "      <td>7826</td>\n",
       "      <td>7826</td>\n",
       "      <td>7826</td>\n",
       "      <td>7826</td>\n",
       "    </tr>\n",
       "    <tr>\n",
       "      <th>True</th>\n",
       "      <td>2567</td>\n",
       "      <td>2567</td>\n",
       "      <td>2567</td>\n",
       "      <td>2567</td>\n",
       "      <td>2567</td>\n",
       "      <td>2567</td>\n",
       "      <td>2567</td>\n",
       "      <td>2567</td>\n",
       "      <td>2567</td>\n",
       "      <td>2567</td>\n",
       "      <td>2567</td>\n",
       "      <td>2567</td>\n",
       "    </tr>\n",
       "  </tbody>\n",
       "</table>\n",
       "</div>"
      ],
      "text/plain": [
       "                           Administrative  Administrative_Duration  \\\n",
       "VisitorType       Revenue                                            \n",
       "New_Visitor       False              1220                     1220   \n",
       "                  True                470                      470   \n",
       "Other             False                63                       63   \n",
       "                  True                 18                       18   \n",
       "Returning_Visitor False              7826                     7826   \n",
       "                  True               2567                     2567   \n",
       "\n",
       "                           Informational  Informational_Duration  \\\n",
       "VisitorType       Revenue                                          \n",
       "New_Visitor       False             1220                    1220   \n",
       "                  True               470                     470   \n",
       "Other             False               63                      63   \n",
       "                  True                18                      18   \n",
       "Returning_Visitor False             7826                    7826   \n",
       "                  True              2567                    2567   \n",
       "\n",
       "                           ProductRelated  ProductRelated_Duration  \\\n",
       "VisitorType       Revenue                                            \n",
       "New_Visitor       False              1220                     1220   \n",
       "                  True                470                      470   \n",
       "Other             False                63                       63   \n",
       "                  True                 18                       18   \n",
       "Returning_Visitor False              7826                     7826   \n",
       "                  True               2567                     2567   \n",
       "\n",
       "                           BounceRates  ExitRates  PageValues  SpecialDay  \\\n",
       "VisitorType       Revenue                                                   \n",
       "New_Visitor       False           1220       1220        1220        1220   \n",
       "                  True             470        470         470         470   \n",
       "Other             False             63         63          63          63   \n",
       "                  True              18         18          18          18   \n",
       "Returning_Visitor False           7826       7826        7826        7826   \n",
       "                  True            2567       2567        2567        2567   \n",
       "\n",
       "                           Month  Weekend  \n",
       "VisitorType       Revenue                  \n",
       "New_Visitor       False     1220     1220  \n",
       "                  True       470      470  \n",
       "Other             False       63       63  \n",
       "                  True        18       18  \n",
       "Returning_Visitor False     7826     7826  \n",
       "                  True      2567     2567  "
      ]
     },
     "execution_count": 73,
     "metadata": {},
     "output_type": "execute_result"
    }
   ],
   "source": [
    "eCommerceDF.groupby(by=[\"VisitorType\",\"Revenue\"]).count()\n"
   ]
  },
  {
   "cell_type": "code",
   "execution_count": 74,
   "metadata": {},
   "outputs": [
    {
     "data": {
      "text/html": [
       "<div>\n",
       "<style scoped>\n",
       "    .dataframe tbody tr th:only-of-type {\n",
       "        vertical-align: middle;\n",
       "    }\n",
       "\n",
       "    .dataframe tbody tr th {\n",
       "        vertical-align: top;\n",
       "    }\n",
       "\n",
       "    .dataframe thead th {\n",
       "        text-align: right;\n",
       "    }\n",
       "</style>\n",
       "<table border=\"1\" class=\"dataframe\">\n",
       "  <thead>\n",
       "    <tr style=\"text-align: right;\">\n",
       "      <th></th>\n",
       "      <th>Administrative</th>\n",
       "      <th>Administrative_Duration</th>\n",
       "      <th>Informational</th>\n",
       "      <th>Informational_Duration</th>\n",
       "      <th>ProductRelated</th>\n",
       "      <th>ProductRelated_Duration</th>\n",
       "      <th>BounceRates</th>\n",
       "      <th>ExitRates</th>\n",
       "      <th>PageValues</th>\n",
       "      <th>SpecialDay</th>\n",
       "      <th>Weekend</th>\n",
       "    </tr>\n",
       "    <tr>\n",
       "      <th>Revenue</th>\n",
       "      <th></th>\n",
       "      <th></th>\n",
       "      <th></th>\n",
       "      <th></th>\n",
       "      <th></th>\n",
       "      <th></th>\n",
       "      <th></th>\n",
       "      <th></th>\n",
       "      <th></th>\n",
       "      <th></th>\n",
       "      <th></th>\n",
       "    </tr>\n",
       "  </thead>\n",
       "  <tbody>\n",
       "    <tr>\n",
       "      <th>False</th>\n",
       "      <td>1.674278</td>\n",
       "      <td>59.279889</td>\n",
       "      <td>0.342079</td>\n",
       "      <td>21.808975</td>\n",
       "      <td>24.075530</td>\n",
       "      <td>890.945726</td>\n",
       "      <td>0.025313</td>\n",
       "      <td>0.048604</td>\n",
       "      <td>0.000000</td>\n",
       "      <td>0.071753</td>\n",
       "      <td>0.228126</td>\n",
       "    </tr>\n",
       "    <tr>\n",
       "      <th>True</th>\n",
       "      <td>4.273650</td>\n",
       "      <td>147.106622</td>\n",
       "      <td>0.979705</td>\n",
       "      <td>72.139553</td>\n",
       "      <td>55.276268</td>\n",
       "      <td>2125.572116</td>\n",
       "      <td>0.006094</td>\n",
       "      <td>0.020691</td>\n",
       "      <td>23.544304</td>\n",
       "      <td>0.032209</td>\n",
       "      <td>0.251718</td>\n",
       "    </tr>\n",
       "  </tbody>\n",
       "</table>\n",
       "</div>"
      ],
      "text/plain": [
       "         Administrative  Administrative_Duration  Informational  \\\n",
       "Revenue                                                           \n",
       "False          1.674278                59.279889       0.342079   \n",
       "True           4.273650               147.106622       0.979705   \n",
       "\n",
       "         Informational_Duration  ProductRelated  ProductRelated_Duration  \\\n",
       "Revenue                                                                    \n",
       "False                 21.808975       24.075530               890.945726   \n",
       "True                  72.139553       55.276268              2125.572116   \n",
       "\n",
       "         BounceRates  ExitRates  PageValues  SpecialDay   Weekend  \n",
       "Revenue                                                            \n",
       "False       0.025313   0.048604    0.000000    0.071753  0.228126  \n",
       "True        0.006094   0.020691   23.544304    0.032209  0.251718  "
      ]
     },
     "execution_count": 74,
     "metadata": {},
     "output_type": "execute_result"
    }
   ],
   "source": [
    "eCommerceDF.groupby(by = \"Revenue\").mean()"
   ]
  },
  {
   "cell_type": "markdown",
   "metadata": {},
   "source": [
    "### November had the highest True Revenue Value ---> Prehaps strong purchasing for Black Friday Holiday?? --> Visulaize Special Day Revenue Count for month of November could be interesting"
   ]
  },
  {
   "cell_type": "code",
   "execution_count": 75,
   "metadata": {},
   "outputs": [
    {
     "data": {
      "text/html": [
       "<div>\n",
       "<style scoped>\n",
       "    .dataframe tbody tr th:only-of-type {\n",
       "        vertical-align: middle;\n",
       "    }\n",
       "\n",
       "    .dataframe tbody tr th {\n",
       "        vertical-align: top;\n",
       "    }\n",
       "\n",
       "    .dataframe thead th {\n",
       "        text-align: right;\n",
       "    }\n",
       "</style>\n",
       "<table border=\"1\" class=\"dataframe\">\n",
       "  <thead>\n",
       "    <tr style=\"text-align: right;\">\n",
       "      <th></th>\n",
       "      <th></th>\n",
       "      <th>Administrative</th>\n",
       "      <th>Administrative_Duration</th>\n",
       "      <th>Informational</th>\n",
       "      <th>Informational_Duration</th>\n",
       "      <th>ProductRelated</th>\n",
       "      <th>ProductRelated_Duration</th>\n",
       "      <th>BounceRates</th>\n",
       "      <th>ExitRates</th>\n",
       "      <th>PageValues</th>\n",
       "      <th>SpecialDay</th>\n",
       "      <th>Weekend</th>\n",
       "    </tr>\n",
       "    <tr>\n",
       "      <th>Month</th>\n",
       "      <th>Revenue</th>\n",
       "      <th></th>\n",
       "      <th></th>\n",
       "      <th></th>\n",
       "      <th></th>\n",
       "      <th></th>\n",
       "      <th></th>\n",
       "      <th></th>\n",
       "      <th></th>\n",
       "      <th></th>\n",
       "      <th></th>\n",
       "      <th></th>\n",
       "    </tr>\n",
       "  </thead>\n",
       "  <tbody>\n",
       "    <tr>\n",
       "      <th rowspan=\"2\" valign=\"top\">Aug</th>\n",
       "      <th>False</th>\n",
       "      <td>2.634868</td>\n",
       "      <td>77.116076</td>\n",
       "      <td>0.450658</td>\n",
       "      <td>25.900987</td>\n",
       "      <td>29.536184</td>\n",
       "      <td>964.290336</td>\n",
       "      <td>0.023255</td>\n",
       "      <td>0.045517</td>\n",
       "      <td>0.000000</td>\n",
       "      <td>0.000000</td>\n",
       "      <td>0.243421</td>\n",
       "    </tr>\n",
       "    <tr>\n",
       "      <th>True</th>\n",
       "      <td>4.317829</td>\n",
       "      <td>176.475182</td>\n",
       "      <td>0.759690</td>\n",
       "      <td>58.169147</td>\n",
       "      <td>58.813953</td>\n",
       "      <td>1999.339304</td>\n",
       "      <td>0.006325</td>\n",
       "      <td>0.019368</td>\n",
       "      <td>19.744339</td>\n",
       "      <td>0.000000</td>\n",
       "      <td>0.170543</td>\n",
       "    </tr>\n",
       "    <tr>\n",
       "      <th rowspan=\"2\" valign=\"top\">Dec</th>\n",
       "      <th>False</th>\n",
       "      <td>1.759036</td>\n",
       "      <td>64.558848</td>\n",
       "      <td>0.413404</td>\n",
       "      <td>29.072540</td>\n",
       "      <td>23.762801</td>\n",
       "      <td>930.995702</td>\n",
       "      <td>0.021719</td>\n",
       "      <td>0.044997</td>\n",
       "      <td>0.000000</td>\n",
       "      <td>0.000000</td>\n",
       "      <td>0.217620</td>\n",
       "    </tr>\n",
       "    <tr>\n",
       "      <th>True</th>\n",
       "      <td>3.838710</td>\n",
       "      <td>133.349723</td>\n",
       "      <td>0.865591</td>\n",
       "      <td>69.018900</td>\n",
       "      <td>44.134409</td>\n",
       "      <td>1793.197406</td>\n",
       "      <td>0.004633</td>\n",
       "      <td>0.019532</td>\n",
       "      <td>31.279080</td>\n",
       "      <td>0.000000</td>\n",
       "      <td>0.190860</td>\n",
       "    </tr>\n",
       "    <tr>\n",
       "      <th rowspan=\"2\" valign=\"top\">Feb</th>\n",
       "      <th>False</th>\n",
       "      <td>0.377143</td>\n",
       "      <td>9.192048</td>\n",
       "      <td>0.074286</td>\n",
       "      <td>1.822857</td>\n",
       "      <td>10.571429</td>\n",
       "      <td>451.513972</td>\n",
       "      <td>0.045686</td>\n",
       "      <td>0.073737</td>\n",
       "      <td>0.000000</td>\n",
       "      <td>0.232000</td>\n",
       "      <td>0.154286</td>\n",
       "    </tr>\n",
       "    <tr>\n",
       "      <th>True</th>\n",
       "      <td>5.666667</td>\n",
       "      <td>249.319445</td>\n",
       "      <td>0.500000</td>\n",
       "      <td>20.000000</td>\n",
       "      <td>34.166667</td>\n",
       "      <td>1275.291667</td>\n",
       "      <td>0.009471</td>\n",
       "      <td>0.023224</td>\n",
       "      <td>27.304457</td>\n",
       "      <td>0.400000</td>\n",
       "      <td>0.166667</td>\n",
       "    </tr>\n",
       "    <tr>\n",
       "      <th rowspan=\"2\" valign=\"top\">Jul</th>\n",
       "      <th>False</th>\n",
       "      <td>1.695793</td>\n",
       "      <td>67.115788</td>\n",
       "      <td>0.362460</td>\n",
       "      <td>28.917152</td>\n",
       "      <td>29.265372</td>\n",
       "      <td>951.417753</td>\n",
       "      <td>0.030839</td>\n",
       "      <td>0.053107</td>\n",
       "      <td>0.000000</td>\n",
       "      <td>0.000000</td>\n",
       "      <td>0.245955</td>\n",
       "    </tr>\n",
       "    <tr>\n",
       "      <th>True</th>\n",
       "      <td>4.286885</td>\n",
       "      <td>109.302821</td>\n",
       "      <td>0.901639</td>\n",
       "      <td>87.641120</td>\n",
       "      <td>54.565574</td>\n",
       "      <td>1895.535692</td>\n",
       "      <td>0.009214</td>\n",
       "      <td>0.025741</td>\n",
       "      <td>14.533661</td>\n",
       "      <td>0.000000</td>\n",
       "      <td>0.229508</td>\n",
       "    </tr>\n",
       "    <tr>\n",
       "      <th rowspan=\"2\" valign=\"top\">June</th>\n",
       "      <th>False</th>\n",
       "      <td>1.553571</td>\n",
       "      <td>36.705048</td>\n",
       "      <td>0.424107</td>\n",
       "      <td>17.152604</td>\n",
       "      <td>28.120536</td>\n",
       "      <td>932.531909</td>\n",
       "      <td>0.040357</td>\n",
       "      <td>0.065363</td>\n",
       "      <td>0.000000</td>\n",
       "      <td>0.000000</td>\n",
       "      <td>0.165179</td>\n",
       "    </tr>\n",
       "    <tr>\n",
       "      <th>True</th>\n",
       "      <td>4.983333</td>\n",
       "      <td>145.357197</td>\n",
       "      <td>1.083333</td>\n",
       "      <td>31.023444</td>\n",
       "      <td>67.266667</td>\n",
       "      <td>2324.616092</td>\n",
       "      <td>0.007566</td>\n",
       "      <td>0.025050</td>\n",
       "      <td>16.278911</td>\n",
       "      <td>0.000000</td>\n",
       "      <td>0.166667</td>\n",
       "    </tr>\n",
       "    <tr>\n",
       "      <th rowspan=\"2\" valign=\"top\">Mar</th>\n",
       "      <th>False</th>\n",
       "      <td>1.503831</td>\n",
       "      <td>55.255074</td>\n",
       "      <td>0.280971</td>\n",
       "      <td>20.734607</td>\n",
       "      <td>16.633461</td>\n",
       "      <td>670.918961</td>\n",
       "      <td>0.020125</td>\n",
       "      <td>0.045410</td>\n",
       "      <td>0.000000</td>\n",
       "      <td>0.000000</td>\n",
       "      <td>0.252235</td>\n",
       "    </tr>\n",
       "    <tr>\n",
       "      <th>True</th>\n",
       "      <td>4.175862</td>\n",
       "      <td>164.287683</td>\n",
       "      <td>1.189655</td>\n",
       "      <td>87.195022</td>\n",
       "      <td>39.355172</td>\n",
       "      <td>1677.169298</td>\n",
       "      <td>0.003799</td>\n",
       "      <td>0.017322</td>\n",
       "      <td>25.854150</td>\n",
       "      <td>0.000000</td>\n",
       "      <td>0.275862</td>\n",
       "    </tr>\n",
       "    <tr>\n",
       "      <th rowspan=\"2\" valign=\"top\">May</th>\n",
       "      <th>False</th>\n",
       "      <td>1.344801</td>\n",
       "      <td>49.722526</td>\n",
       "      <td>0.269811</td>\n",
       "      <td>15.242779</td>\n",
       "      <td>20.699652</td>\n",
       "      <td>737.809889</td>\n",
       "      <td>0.030529</td>\n",
       "      <td>0.055013</td>\n",
       "      <td>0.000000</td>\n",
       "      <td>0.236954</td>\n",
       "      <td>0.201778</td>\n",
       "    </tr>\n",
       "    <tr>\n",
       "      <th>True</th>\n",
       "      <td>4.227831</td>\n",
       "      <td>142.472252</td>\n",
       "      <td>0.978172</td>\n",
       "      <td>69.703683</td>\n",
       "      <td>48.111869</td>\n",
       "      <td>1889.867027</td>\n",
       "      <td>0.005976</td>\n",
       "      <td>0.020234</td>\n",
       "      <td>24.642358</td>\n",
       "      <td>0.130969</td>\n",
       "      <td>0.257844</td>\n",
       "    </tr>\n",
       "    <tr>\n",
       "      <th rowspan=\"2\" valign=\"top\">Nov</th>\n",
       "      <th>False</th>\n",
       "      <td>1.660705</td>\n",
       "      <td>58.634096</td>\n",
       "      <td>0.406745</td>\n",
       "      <td>28.750721</td>\n",
       "      <td>32.311702</td>\n",
       "      <td>1230.278832</td>\n",
       "      <td>0.024490</td>\n",
       "      <td>0.046015</td>\n",
       "      <td>0.000000</td>\n",
       "      <td>0.000000</td>\n",
       "      <td>0.257026</td>\n",
       "    </tr>\n",
       "    <tr>\n",
       "      <th>True</th>\n",
       "      <td>4.430556</td>\n",
       "      <td>152.434637</td>\n",
       "      <td>1.081349</td>\n",
       "      <td>71.268618</td>\n",
       "      <td>72.226190</td>\n",
       "      <td>2759.853232</td>\n",
       "      <td>0.006620</td>\n",
       "      <td>0.020912</td>\n",
       "      <td>21.017869</td>\n",
       "      <td>0.000000</td>\n",
       "      <td>0.281746</td>\n",
       "    </tr>\n",
       "    <tr>\n",
       "      <th rowspan=\"2\" valign=\"top\">Oct</th>\n",
       "      <th>False</th>\n",
       "      <td>3.307692</td>\n",
       "      <td>114.312548</td>\n",
       "      <td>0.373626</td>\n",
       "      <td>17.251762</td>\n",
       "      <td>29.252747</td>\n",
       "      <td>903.348920</td>\n",
       "      <td>0.014190</td>\n",
       "      <td>0.032226</td>\n",
       "      <td>0.000000</td>\n",
       "      <td>0.000000</td>\n",
       "      <td>0.277473</td>\n",
       "    </tr>\n",
       "    <tr>\n",
       "      <th>True</th>\n",
       "      <td>4.562842</td>\n",
       "      <td>150.344194</td>\n",
       "      <td>0.715847</td>\n",
       "      <td>81.653011</td>\n",
       "      <td>42.393443</td>\n",
       "      <td>1551.346937</td>\n",
       "      <td>0.007324</td>\n",
       "      <td>0.022582</td>\n",
       "      <td>25.679360</td>\n",
       "      <td>0.000000</td>\n",
       "      <td>0.234973</td>\n",
       "    </tr>\n",
       "    <tr>\n",
       "      <th rowspan=\"2\" valign=\"top\">Sep</th>\n",
       "      <th>False</th>\n",
       "      <td>3.010169</td>\n",
       "      <td>97.340476</td>\n",
       "      <td>0.474576</td>\n",
       "      <td>15.697853</td>\n",
       "      <td>27.444068</td>\n",
       "      <td>1045.355685</td>\n",
       "      <td>0.015292</td>\n",
       "      <td>0.033806</td>\n",
       "      <td>0.000000</td>\n",
       "      <td>0.000000</td>\n",
       "      <td>0.183051</td>\n",
       "    </tr>\n",
       "    <tr>\n",
       "      <th>True</th>\n",
       "      <td>3.973684</td>\n",
       "      <td>133.186525</td>\n",
       "      <td>0.736842</td>\n",
       "      <td>74.823916</td>\n",
       "      <td>44.243421</td>\n",
       "      <td>1662.989238</td>\n",
       "      <td>0.006229</td>\n",
       "      <td>0.023653</td>\n",
       "      <td>22.272749</td>\n",
       "      <td>0.000000</td>\n",
       "      <td>0.269737</td>\n",
       "    </tr>\n",
       "  </tbody>\n",
       "</table>\n",
       "</div>"
      ],
      "text/plain": [
       "               Administrative  Administrative_Duration  Informational  \\\n",
       "Month Revenue                                                           \n",
       "Aug   False          2.634868                77.116076       0.450658   \n",
       "      True           4.317829               176.475182       0.759690   \n",
       "Dec   False          1.759036                64.558848       0.413404   \n",
       "      True           3.838710               133.349723       0.865591   \n",
       "Feb   False          0.377143                 9.192048       0.074286   \n",
       "      True           5.666667               249.319445       0.500000   \n",
       "Jul   False          1.695793                67.115788       0.362460   \n",
       "      True           4.286885               109.302821       0.901639   \n",
       "June  False          1.553571                36.705048       0.424107   \n",
       "      True           4.983333               145.357197       1.083333   \n",
       "Mar   False          1.503831                55.255074       0.280971   \n",
       "      True           4.175862               164.287683       1.189655   \n",
       "May   False          1.344801                49.722526       0.269811   \n",
       "      True           4.227831               142.472252       0.978172   \n",
       "Nov   False          1.660705                58.634096       0.406745   \n",
       "      True           4.430556               152.434637       1.081349   \n",
       "Oct   False          3.307692               114.312548       0.373626   \n",
       "      True           4.562842               150.344194       0.715847   \n",
       "Sep   False          3.010169                97.340476       0.474576   \n",
       "      True           3.973684               133.186525       0.736842   \n",
       "\n",
       "               Informational_Duration  ProductRelated  \\\n",
       "Month Revenue                                           \n",
       "Aug   False                 25.900987       29.536184   \n",
       "      True                  58.169147       58.813953   \n",
       "Dec   False                 29.072540       23.762801   \n",
       "      True                  69.018900       44.134409   \n",
       "Feb   False                  1.822857       10.571429   \n",
       "      True                  20.000000       34.166667   \n",
       "Jul   False                 28.917152       29.265372   \n",
       "      True                  87.641120       54.565574   \n",
       "June  False                 17.152604       28.120536   \n",
       "      True                  31.023444       67.266667   \n",
       "Mar   False                 20.734607       16.633461   \n",
       "      True                  87.195022       39.355172   \n",
       "May   False                 15.242779       20.699652   \n",
       "      True                  69.703683       48.111869   \n",
       "Nov   False                 28.750721       32.311702   \n",
       "      True                  71.268618       72.226190   \n",
       "Oct   False                 17.251762       29.252747   \n",
       "      True                  81.653011       42.393443   \n",
       "Sep   False                 15.697853       27.444068   \n",
       "      True                  74.823916       44.243421   \n",
       "\n",
       "               ProductRelated_Duration  BounceRates  ExitRates  PageValues  \\\n",
       "Month Revenue                                                                \n",
       "Aug   False                 964.290336     0.023255   0.045517    0.000000   \n",
       "      True                 1999.339304     0.006325   0.019368   19.744339   \n",
       "Dec   False                 930.995702     0.021719   0.044997    0.000000   \n",
       "      True                 1793.197406     0.004633   0.019532   31.279080   \n",
       "Feb   False                 451.513972     0.045686   0.073737    0.000000   \n",
       "      True                 1275.291667     0.009471   0.023224   27.304457   \n",
       "Jul   False                 951.417753     0.030839   0.053107    0.000000   \n",
       "      True                 1895.535692     0.009214   0.025741   14.533661   \n",
       "June  False                 932.531909     0.040357   0.065363    0.000000   \n",
       "      True                 2324.616092     0.007566   0.025050   16.278911   \n",
       "Mar   False                 670.918961     0.020125   0.045410    0.000000   \n",
       "      True                 1677.169298     0.003799   0.017322   25.854150   \n",
       "May   False                 737.809889     0.030529   0.055013    0.000000   \n",
       "      True                 1889.867027     0.005976   0.020234   24.642358   \n",
       "Nov   False                1230.278832     0.024490   0.046015    0.000000   \n",
       "      True                 2759.853232     0.006620   0.020912   21.017869   \n",
       "Oct   False                 903.348920     0.014190   0.032226    0.000000   \n",
       "      True                 1551.346937     0.007324   0.022582   25.679360   \n",
       "Sep   False                1045.355685     0.015292   0.033806    0.000000   \n",
       "      True                 1662.989238     0.006229   0.023653   22.272749   \n",
       "\n",
       "               SpecialDay   Weekend  \n",
       "Month Revenue                        \n",
       "Aug   False      0.000000  0.243421  \n",
       "      True       0.000000  0.170543  \n",
       "Dec   False      0.000000  0.217620  \n",
       "      True       0.000000  0.190860  \n",
       "Feb   False      0.232000  0.154286  \n",
       "      True       0.400000  0.166667  \n",
       "Jul   False      0.000000  0.245955  \n",
       "      True       0.000000  0.229508  \n",
       "June  False      0.000000  0.165179  \n",
       "      True       0.000000  0.166667  \n",
       "Mar   False      0.000000  0.252235  \n",
       "      True       0.000000  0.275862  \n",
       "May   False      0.236954  0.201778  \n",
       "      True       0.130969  0.257844  \n",
       "Nov   False      0.000000  0.257026  \n",
       "      True       0.000000  0.281746  \n",
       "Oct   False      0.000000  0.277473  \n",
       "      True       0.000000  0.234973  \n",
       "Sep   False      0.000000  0.183051  \n",
       "      True       0.000000  0.269737  "
      ]
     },
     "execution_count": 75,
     "metadata": {},
     "output_type": "execute_result"
    }
   ],
   "source": [
    "eCommerceDF.groupby(by = [\"Month\",\"Revenue\"]).mean()"
   ]
  },
  {
   "cell_type": "markdown",
   "metadata": {},
   "source": [
    "### Month is a good predictor for Revenue -->  November yields a higher chance of a purchase"
   ]
  },
  {
   "cell_type": "code",
   "execution_count": 76,
   "metadata": {},
   "outputs": [
    {
     "data": {
      "text/plain": [
       "Text(0, 0.5, 'Frequency of Purchase')"
      ]
     },
     "execution_count": 76,
     "metadata": {},
     "output_type": "execute_result"
    },
    {
     "data": {
      "image/png": "[encoded data removed]",
      "text/plain": [
       "<Figure size 432x288 with 1 Axes>"
      ]
     },
     "metadata": {
      "needs_background": "light"
     },
     "output_type": "display_data"
    }
   ],
   "source": [
    "%matplotlib inline\n",
    "pd.crosstab(eCommerceDF.Month,eCommerceDF.Revenue).plot(kind='bar')\n",
    "plt.title('Purchase Frequency By Month')\n",
    "plt.xlabel('Month')\n",
    "plt.ylabel('Frequency of Purchase')"
   ]
  },
  {
   "cell_type": "markdown",
   "metadata": {},
   "source": [
    "### Vistor Type May Not be a good predictor --> Seems like there is an equal ratio between New and Returning"
   ]
  },
  {
   "cell_type": "code",
   "execution_count": 77,
   "metadata": {},
   "outputs": [
    {
     "data": {
      "text/plain": [
       "Text(0, 0.5, 'Frequency of Purchase')"
      ]
     },
     "execution_count": 77,
     "metadata": {},
     "output_type": "execute_result"
    },
    {
     "data": {
      "image/png": "[encoded data removed]",
      "text/plain": [
       "<Figure size 432x288 with 1 Axes>"
      ]
     },
     "metadata": {
      "needs_background": "light"
     },
     "output_type": "display_data"
    }
   ],
   "source": [
    "%matplotlib inline\n",
    "pd.crosstab(eCommerceDF.VisitorType,eCommerceDF.Revenue).plot(kind='bar')\n",
    "plt.title('Purchase Frequency By Visitor Type')\n",
    "plt.xlabel('VisitorType')\n",
    "plt.ylabel('Frequency of Purchase')"
   ]
  },
  {
   "cell_type": "markdown",
   "metadata": {},
   "source": [
    "### Weekend may not be a good predictor --> for same reason stated above"
   ]
  },
  {
   "cell_type": "code",
   "execution_count": 78,
   "metadata": {},
   "outputs": [
    {
     "data": {
      "text/plain": [
       "Text(0, 0.5, 'Frequency of Purchase')"
      ]
     },
     "execution_count": 78,
     "metadata": {},
     "output_type": "execute_result"
    },
    {
     "data": {
      "image/png": "[encoded data removed]",
      "text/plain": [
       "<Figure size 432x288 with 1 Axes>"
      ]
     },
     "metadata": {
      "needs_background": "light"
     },
     "output_type": "display_data"
    }
   ],
   "source": [
    "%matplotlib inline\n",
    "pd.crosstab(eCommerceDF.Weekend,eCommerceDF.Revenue).plot(kind='bar')\n",
    "plt.title('Purchase Frequency By Weekend')\n",
    "plt.xlabel('Weekend')\n",
    "plt.ylabel('Frequency of Purchase')"
   ]
  },
  {
   "cell_type": "markdown",
   "metadata": {},
   "source": [
    "### I will be dropping vistor type and weekend as a result of the findings "
   ]
  },
  {
   "cell_type": "code",
   "execution_count": 79,
   "metadata": {},
   "outputs": [],
   "source": [
    "eCommerceDF = eCommerceDF.drop(columns=['Weekend','VisitorType'])"
   ]
  },
  {
   "cell_type": "code",
   "execution_count": 80,
   "metadata": {},
   "outputs": [
    {
     "data": {
      "text/html": [
       "<div>\n",
       "<style scoped>\n",
       "    .dataframe tbody tr th:only-of-type {\n",
       "        vertical-align: middle;\n",
       "    }\n",
       "\n",
       "    .dataframe tbody tr th {\n",
       "        vertical-align: top;\n",
       "    }\n",
       "\n",
       "    .dataframe thead th {\n",
       "        text-align: right;\n",
       "    }\n",
       "</style>\n",
       "<table border=\"1\" class=\"dataframe\">\n",
       "  <thead>\n",
       "    <tr style=\"text-align: right;\">\n",
       "      <th></th>\n",
       "      <th>Administrative</th>\n",
       "      <th>Administrative_Duration</th>\n",
       "      <th>Informational</th>\n",
       "      <th>Informational_Duration</th>\n",
       "      <th>ProductRelated</th>\n",
       "      <th>ProductRelated_Duration</th>\n",
       "      <th>BounceRates</th>\n",
       "      <th>ExitRates</th>\n",
       "      <th>PageValues</th>\n",
       "      <th>SpecialDay</th>\n",
       "      <th>Revenue</th>\n",
       "    </tr>\n",
       "  </thead>\n",
       "  <tbody>\n",
       "    <tr>\n",
       "      <th>Administrative</th>\n",
       "      <td>1.000000</td>\n",
       "      <td>0.599941</td>\n",
       "      <td>0.371767</td>\n",
       "      <td>0.251115</td>\n",
       "      <td>0.425811</td>\n",
       "      <td>0.368955</td>\n",
       "      <td>-0.213633</td>\n",
       "      <td>-0.311653</td>\n",
       "      <td>0.098142</td>\n",
       "      <td>-0.096774</td>\n",
       "      <td>0.339887</td>\n",
       "    </tr>\n",
       "    <tr>\n",
       "      <th>Administrative_Duration</th>\n",
       "      <td>0.599941</td>\n",
       "      <td>1.000000</td>\n",
       "      <td>0.301418</td>\n",
       "      <td>0.237039</td>\n",
       "      <td>0.286952</td>\n",
       "      <td>0.354772</td>\n",
       "      <td>-0.137057</td>\n",
       "      <td>-0.201879</td>\n",
       "      <td>0.066279</td>\n",
       "      <td>-0.074340</td>\n",
       "      <td>0.214997</td>\n",
       "    </tr>\n",
       "    <tr>\n",
       "      <th>Informational</th>\n",
       "      <td>0.371767</td>\n",
       "      <td>0.301418</td>\n",
       "      <td>1.000000</td>\n",
       "      <td>0.619476</td>\n",
       "      <td>0.368189</td>\n",
       "      <td>0.382606</td>\n",
       "      <td>-0.108619</td>\n",
       "      <td>-0.158440</td>\n",
       "      <td>0.047486</td>\n",
       "      <td>-0.048865</td>\n",
       "      <td>0.218070</td>\n",
       "    </tr>\n",
       "    <tr>\n",
       "      <th>Informational_Duration</th>\n",
       "      <td>0.251115</td>\n",
       "      <td>0.237039</td>\n",
       "      <td>0.619476</td>\n",
       "      <td>1.000000</td>\n",
       "      <td>0.276699</td>\n",
       "      <td>0.344812</td>\n",
       "      <td>-0.069535</td>\n",
       "      <td>-0.102118</td>\n",
       "      <td>0.029901</td>\n",
       "      <td>-0.031374</td>\n",
       "      <td>0.154887</td>\n",
       "    </tr>\n",
       "    <tr>\n",
       "      <th>ProductRelated</th>\n",
       "      <td>0.425811</td>\n",
       "      <td>0.286952</td>\n",
       "      <td>0.368189</td>\n",
       "      <td>0.276699</td>\n",
       "      <td>1.000000</td>\n",
       "      <td>0.859193</td>\n",
       "      <td>-0.193574</td>\n",
       "      <td>-0.286649</td>\n",
       "      <td>0.055084</td>\n",
       "      <td>-0.024782</td>\n",
       "      <td>0.304676</td>\n",
       "    </tr>\n",
       "    <tr>\n",
       "      <th>ProductRelated_Duration</th>\n",
       "      <td>0.368955</td>\n",
       "      <td>0.354772</td>\n",
       "      <td>0.382606</td>\n",
       "      <td>0.344812</td>\n",
       "      <td>0.859193</td>\n",
       "      <td>1.000000</td>\n",
       "      <td>-0.174373</td>\n",
       "      <td>-0.245666</td>\n",
       "      <td>0.051377</td>\n",
       "      <td>-0.037093</td>\n",
       "      <td>0.280170</td>\n",
       "    </tr>\n",
       "    <tr>\n",
       "      <th>BounceRates</th>\n",
       "      <td>-0.213633</td>\n",
       "      <td>-0.137057</td>\n",
       "      <td>-0.108619</td>\n",
       "      <td>-0.069535</td>\n",
       "      <td>-0.193574</td>\n",
       "      <td>-0.174373</td>\n",
       "      <td>1.000000</td>\n",
       "      <td>0.902557</td>\n",
       "      <td>-0.115401</td>\n",
       "      <td>0.088561</td>\n",
       "      <td>-0.183446</td>\n",
       "    </tr>\n",
       "    <tr>\n",
       "      <th>ExitRates</th>\n",
       "      <td>-0.311653</td>\n",
       "      <td>-0.201879</td>\n",
       "      <td>-0.158440</td>\n",
       "      <td>-0.102118</td>\n",
       "      <td>-0.286649</td>\n",
       "      <td>-0.245666</td>\n",
       "      <td>0.902557</td>\n",
       "      <td>1.000000</td>\n",
       "      <td>-0.173213</td>\n",
       "      <td>0.117187</td>\n",
       "      <td>-0.261418</td>\n",
       "    </tr>\n",
       "    <tr>\n",
       "      <th>PageValues</th>\n",
       "      <td>0.098142</td>\n",
       "      <td>0.066279</td>\n",
       "      <td>0.047486</td>\n",
       "      <td>0.029901</td>\n",
       "      <td>0.055084</td>\n",
       "      <td>0.051377</td>\n",
       "      <td>-0.115401</td>\n",
       "      <td>-0.173213</td>\n",
       "      <td>1.000000</td>\n",
       "      <td>-0.066031</td>\n",
       "      <td>0.547590</td>\n",
       "    </tr>\n",
       "    <tr>\n",
       "      <th>SpecialDay</th>\n",
       "      <td>-0.096774</td>\n",
       "      <td>-0.074340</td>\n",
       "      <td>-0.048865</td>\n",
       "      <td>-0.031374</td>\n",
       "      <td>-0.024782</td>\n",
       "      <td>-0.037093</td>\n",
       "      <td>0.088561</td>\n",
       "      <td>0.117187</td>\n",
       "      <td>-0.066031</td>\n",
       "      <td>1.000000</td>\n",
       "      <td>-0.086016</td>\n",
       "    </tr>\n",
       "    <tr>\n",
       "      <th>Revenue</th>\n",
       "      <td>0.339887</td>\n",
       "      <td>0.214997</td>\n",
       "      <td>0.218070</td>\n",
       "      <td>0.154887</td>\n",
       "      <td>0.304676</td>\n",
       "      <td>0.280170</td>\n",
       "      <td>-0.183446</td>\n",
       "      <td>-0.261418</td>\n",
       "      <td>0.547590</td>\n",
       "      <td>-0.086016</td>\n",
       "      <td>1.000000</td>\n",
       "    </tr>\n",
       "  </tbody>\n",
       "</table>\n",
       "</div>"
      ],
      "text/plain": [
       "                         Administrative  Administrative_Duration  \\\n",
       "Administrative                 1.000000                 0.599941   \n",
       "Administrative_Duration        0.599941                 1.000000   \n",
       "Informational                  0.371767                 0.301418   \n",
       "Informational_Duration         0.251115                 0.237039   \n",
       "ProductRelated                 0.425811                 0.286952   \n",
       "ProductRelated_Duration        0.368955                 0.354772   \n",
       "BounceRates                   -0.213633                -0.137057   \n",
       "ExitRates                     -0.311653                -0.201879   \n",
       "PageValues                     0.098142                 0.066279   \n",
       "SpecialDay                    -0.096774                -0.074340   \n",
       "Revenue                        0.339887                 0.214997   \n",
       "\n",
       "                         Informational  Informational_Duration  \\\n",
       "Administrative                0.371767                0.251115   \n",
       "Administrative_Duration       0.301418                0.237039   \n",
       "Informational                 1.000000                0.619476   \n",
       "Informational_Duration        0.619476                1.000000   \n",
       "ProductRelated                0.368189                0.276699   \n",
       "ProductRelated_Duration       0.382606                0.344812   \n",
       "BounceRates                  -0.108619               -0.069535   \n",
       "ExitRates                    -0.158440               -0.102118   \n",
       "PageValues                    0.047486                0.029901   \n",
       "SpecialDay                   -0.048865               -0.031374   \n",
       "Revenue                       0.218070                0.154887   \n",
       "\n",
       "                         ProductRelated  ProductRelated_Duration  BounceRates  \\\n",
       "Administrative                 0.425811                 0.368955    -0.213633   \n",
       "Administrative_Duration        0.286952                 0.354772    -0.137057   \n",
       "Informational                  0.368189                 0.382606    -0.108619   \n",
       "Informational_Duration         0.276699                 0.344812    -0.069535   \n",
       "ProductRelated                 1.000000                 0.859193    -0.193574   \n",
       "ProductRelated_Duration        0.859193                 1.000000    -0.174373   \n",
       "BounceRates                   -0.193574                -0.174373     1.000000   \n",
       "ExitRates                     -0.286649                -0.245666     0.902557   \n",
       "PageValues                     0.055084                 0.051377    -0.115401   \n",
       "SpecialDay                    -0.024782                -0.037093     0.088561   \n",
       "Revenue                        0.304676                 0.280170    -0.183446   \n",
       "\n",
       "                         ExitRates  PageValues  SpecialDay   Revenue  \n",
       "Administrative           -0.311653    0.098142   -0.096774  0.339887  \n",
       "Administrative_Duration  -0.201879    0.066279   -0.074340  0.214997  \n",
       "Informational            -0.158440    0.047486   -0.048865  0.218070  \n",
       "Informational_Duration   -0.102118    0.029901   -0.031374  0.154887  \n",
       "ProductRelated           -0.286649    0.055084   -0.024782  0.304676  \n",
       "ProductRelated_Duration  -0.245666    0.051377   -0.037093  0.280170  \n",
       "BounceRates               0.902557   -0.115401    0.088561 -0.183446  \n",
       "ExitRates                 1.000000   -0.173213    0.117187 -0.261418  \n",
       "PageValues               -0.173213    1.000000   -0.066031  0.547590  \n",
       "SpecialDay                0.117187   -0.066031    1.000000 -0.086016  \n",
       "Revenue                  -0.261418    0.547590   -0.086016  1.000000  "
      ]
     },
     "execution_count": 80,
     "metadata": {},
     "output_type": "execute_result"
    }
   ],
   "source": [
    "eCommerceDF.corr()"
   ]
  },
  {
   "cell_type": "markdown",
   "metadata": {},
   "source": [
    "### Check data for variance and normalizing if necessary"
   ]
  },
  {
   "cell_type": "code",
   "execution_count": 81,
   "metadata": {},
   "outputs": [
    {
     "data": {
      "text/plain": [
       "<function matplotlib.pyplot.show(close=None, block=None)>"
      ]
     },
     "execution_count": 81,
     "metadata": {},
     "output_type": "execute_result"
    },
    {
     "data": {
      "image/png": "[encoded data removed]",
      "text/plain": [
       "<Figure size 864x432 with 1 Axes>"
      ]
     },
     "metadata": {
      "needs_background": "light"
     },
     "output_type": "display_data"
    }
   ],
   "source": [
    "plt.figure(figsize=(12,6))\n",
    "eCommerceDF.boxplot()\n",
    "plt.show"
   ]
  },
  {
   "cell_type": "code",
   "execution_count": 82,
   "metadata": {},
   "outputs": [],
   "source": [
    "eCommerceDF_log = eCommerceDF\n",
    "\n",
    "numerics = ['float64','int64']\n",
    "for c in [c for c in eCommerceDF_log.columns if eCommerceDF_log[c].dtype in numerics]:\n",
    "    eCommerceDF_log[c] = np.log(eCommerceDF_log[c]+1)"
   ]
  },
  {
   "cell_type": "code",
   "execution_count": 83,
   "metadata": {},
   "outputs": [
    {
     "data": {
      "text/plain": [
       "<function matplotlib.pyplot.show(close=None, block=None)>"
      ]
     },
     "execution_count": 83,
     "metadata": {},
     "output_type": "execute_result"
    },
    {
     "data": {
      "image/png": "[encoded data removed]",
      "text/plain": [
       "<Figure size 864x432 with 1 Axes>"
      ]
     },
     "metadata": {
      "needs_background": "light"
     },
     "output_type": "display_data"
    }
   ],
   "source": [
    "plt.figure(figsize=(12,6))\n",
    "eCommerceDF_log.boxplot()\n",
    "plt.show"
   ]
  },
  {
   "cell_type": "code",
   "execution_count": 84,
   "metadata": {},
   "outputs": [
    {
     "data": {
      "text/plain": [
       "array([[<AxesSubplot:title={'center':'Administrative'}>,\n",
       "        <AxesSubplot:title={'center':'Administrative_Duration'}>,\n",
       "        <AxesSubplot:title={'center':'Informational'}>],\n",
       "       [<AxesSubplot:title={'center':'Informational_Duration'}>,\n",
       "        <AxesSubplot:title={'center':'ProductRelated'}>,\n",
       "        <AxesSubplot:title={'center':'ProductRelated_Duration'}>],\n",
       "       [<AxesSubplot:title={'center':'BounceRates'}>,\n",
       "        <AxesSubplot:title={'center':'ExitRates'}>,\n",
       "        <AxesSubplot:title={'center':'PageValues'}>],\n",
       "       [<AxesSubplot:title={'center':'SpecialDay'}>, <AxesSubplot:>,\n",
       "        <AxesSubplot:>]], dtype=object)"
      ]
     },
     "execution_count": 84,
     "metadata": {},
     "output_type": "execute_result"
    },
    {
     "data": {
      "image/png": "[encoded data removed]",
      "text/plain": [
       "<Figure size 432x288 with 12 Axes>"
      ]
     },
     "metadata": {
      "needs_background": "light"
     },
     "output_type": "display_data"
    }
   ],
   "source": [
    "eCommerceDF_log.hist()"
   ]
  },
  {
   "cell_type": "markdown",
   "metadata": {},
   "source": [
    "### Columns to keep for regression"
   ]
  },
  {
   "cell_type": "code",
   "execution_count": 85,
   "metadata": {},
   "outputs": [
    {
     "data": {
      "text/plain": [
       "Index(['Administrative', 'Administrative_Duration', 'Informational',\n",
       "       'Informational_Duration', 'ProductRelated', 'ProductRelated_Duration',\n",
       "       'BounceRates', 'ExitRates', 'PageValues', 'SpecialDay', 'Month',\n",
       "       'Revenue'],\n",
       "      dtype='object')"
      ]
     },
     "execution_count": 85,
     "metadata": {},
     "output_type": "execute_result"
    }
   ],
   "source": [
    "eCommerceDF.columns"
   ]
  },
  {
   "cell_type": "markdown",
   "metadata": {},
   "source": [
    "### Testing Log Regression"
   ]
  },
  {
   "cell_type": "code",
   "execution_count": 86,
   "metadata": {},
   "outputs": [],
   "source": [
    "#eCommerceDF_log = eCommerceDF.drop(columns=['Administrative', 'Administrative_Duration', 'Informational','Informational_Duration'])"
   ]
  },
  {
   "cell_type": "code",
   "execution_count": 87,
   "metadata": {},
   "outputs": [
    {
     "data": {
      "text/plain": [
       "Text(0, 0.5, 'Count In DataFrame')"
      ]
     },
     "execution_count": 87,
     "metadata": {},
     "output_type": "execute_result"
    },
    {
     "data": {
      "image/png": "[encoded data removed]",
      "text/plain": [
       "<Figure size 432x288 with 1 Axes>"
      ]
     },
     "metadata": {
      "needs_background": "light"
     },
     "output_type": "display_data"
    }
   ],
   "source": [
    "pd.crosstab(eCommerceDF_log.Revenue,eCommerceDF_log.Revenue.count()).plot(kind='bar')\n",
    "plt.title('Revenue Count')\n",
    "plt.xlabel('Revenue')\n",
    "plt.ylabel('Count In DataFrame')"
   ]
  },
  {
   "cell_type": "markdown",
   "metadata": {},
   "source": [
    "### Encoding Months for preprocessing via panda dummy variables"
   ]
  },
  {
   "cell_type": "code",
   "execution_count": 88,
   "metadata": {},
   "outputs": [],
   "source": [
    "eCommerceDF_log = pd.get_dummies(eCommerceDF_log, columns=[\"Month\"])"
   ]
  },
  {
   "cell_type": "code",
   "execution_count": 44,
   "metadata": {},
   "outputs": [],
   "source": [
    "#eCommerceDF_log = eCommerceDF_log.drop(columns=['PageValues'])"
   ]
  },
  {
   "cell_type": "markdown",
   "metadata": {},
   "source": [
    "### Seperating data into a training and test set"
   ]
  },
  {
   "cell_type": "code",
   "execution_count": 89,
   "metadata": {},
   "outputs": [],
   "source": [
    "X = eCommerceDF_log.loc[:, eCommerceDF_log.columns != 'Revenue']\n",
    "y = eCommerceDF_log.loc[:, eCommerceDF_log.columns == 'Revenue']"
   ]
  },
  {
   "cell_type": "code",
   "execution_count": 46,
   "metadata": {},
   "outputs": [],
   "source": [
    "X_train, X_test, y_train, y_test = train_test_split(X, y, test_size=0.3, random_state=0)\n",
    "columns = X_train.columns"
   ]
  },
  {
   "cell_type": "code",
   "execution_count": 83,
   "metadata": {},
   "outputs": [],
   "source": [
    "# os = SMOTE(random_state=0)\n",
    "# X_train, X_test, y_train, y_test = train_test_split(X, y, test_size=0.3, random_state=0)\n",
    "# columns = X_train.columns"
   ]
  },
  {
   "cell_type": "code",
   "execution_count": 90,
   "metadata": {},
   "outputs": [],
   "source": [
    "logReg = LogisticRegression(max_iter=10000)"
   ]
  },
  {
   "cell_type": "code",
   "execution_count": 91,
   "metadata": {},
   "outputs": [
    {
     "data": {
      "text/plain": [
       "LogisticRegression(max_iter=10000)"
      ]
     },
     "execution_count": 91,
     "metadata": {},
     "output_type": "execute_result"
    }
   ],
   "source": [
    "logReg.fit(X_train,y_train.values.ravel())"
   ]
  },
  {
   "cell_type": "code",
   "execution_count": 92,
   "metadata": {},
   "outputs": [],
   "source": [
    "y_pred = logReg.predict(X_test)"
   ]
  },
  {
   "cell_type": "code",
   "execution_count": 93,
   "metadata": {},
   "outputs": [
    {
     "data": {
      "text/plain": [
       "array([[2625,  167],\n",
       "       [ 651,  207]], dtype=int64)"
      ]
     },
     "execution_count": 93,
     "metadata": {},
     "output_type": "execute_result"
    }
   ],
   "source": [
    "from sklearn import metrics\n",
    "cnf_matrix = metrics.confusion_matrix(y_test, y_pred)\n",
    "cnf_matrix"
   ]
  },
  {
   "cell_type": "code",
   "execution_count": 94,
   "metadata": {},
   "outputs": [
    {
     "data": {
      "text/plain": [
       "Text(0.5, 257.44, 'Predicted label')"
      ]
     },
     "execution_count": 94,
     "metadata": {},
     "output_type": "execute_result"
    },
    {
     "data": {
      "image/png": "[encoded data removed]",
      "text/plain": [
       "<Figure size 432x288 with 2 Axes>"
      ]
     },
     "metadata": {
      "needs_background": "light"
     },
     "output_type": "display_data"
    }
   ],
   "source": [
    "class_names=[0,1] # name  of classes\n",
    "fig, ax = plt.subplots()\n",
    "tick_marks = np.arange(len(class_names))\n",
    "plt.xticks(tick_marks, class_names)\n",
    "plt.yticks(tick_marks, class_names)\n",
    "# create heatmap\n",
    "sns.heatmap(pd.DataFrame(cnf_matrix), annot=True, cmap=\"YlGnBu\" ,fmt='g')\n",
    "ax.xaxis.set_label_position(\"top\")\n",
    "plt.tight_layout()\n",
    "plt.title('Confusion matrix', y=1.1)\n",
    "plt.ylabel('Actual label')\n",
    "plt.xlabel('Predicted label')"
   ]
  },
  {
   "cell_type": "code",
   "execution_count": 95,
   "metadata": {},
   "outputs": [
    {
     "name": "stdout",
     "output_type": "stream",
     "text": [
      "Accuracy: 0.7758904109589041\n",
      "Precision: 0.553475935828877\n",
      "Recall: 0.24125874125874125\n"
     ]
    }
   ],
   "source": [
    "print(\"Accuracy:\",metrics.accuracy_score(y_test, y_pred))\n",
    "print(\"Precision:\",metrics.precision_score(y_test, y_pred))\n",
    "print(\"Recall:\",metrics.recall_score(y_test, y_pred))"
   ]
  },
  {
   "cell_type": "code",
   "execution_count": 97,
   "metadata": {},
   "outputs": [
    {
     "data": {
      "image/png": "[encoded data removed]",
      "text/plain": [
       "<Figure size 432x288 with 1 Axes>"
      ]
     },
     "metadata": {
      "needs_background": "light"
     },
     "output_type": "display_data"
    }
   ],
   "source": [
    "y_pred_proba = logReg.predict_proba(X_test)[::,1]\n",
    "fpr, tpr, _ = metrics.roc_curve(y_test,  y_pred_proba)\n",
    "auc = metrics.roc_auc_score(y_test, y_pred_proba)\n",
    "plt.plot(fpr,tpr,label=\"data 1, auc=\"+str(auc))\n",
    "plt.legend(loc=4)\n",
    "plt.show()"
   ]
  },
  {
   "cell_type": "markdown",
   "metadata": {},
   "source": [
    "#### Resource https://www.datacamp.com/community/tutorials/understanding-logistic-regression-python"
   ]
  }
 ],
 "metadata": {
  "interpreter": {
   "hash": "f9b8210a67d4a5b974f0633f975e29130ba799535bb14bbb888dd93393bdb865"
  },
  "kernelspec": {
   "display_name": "Python 3.8.8 64-bit ('base': conda)",
   "language": "python",
   "name": "python3"
  },
  "language_info": {
   "codemirror_mode": {
    "name": "ipython",
    "version": 3
   },
   "file_extension": ".py",
   "mimetype": "text/x-python",
   "name": "python",
   "nbconvert_exporter": "python",
   "pygments_lexer": "ipython3",
   "version": "3.8.8"
  },
  "orig_nbformat": 4
 },
 "nbformat": 4,
 "nbformat_minor": 2
}
